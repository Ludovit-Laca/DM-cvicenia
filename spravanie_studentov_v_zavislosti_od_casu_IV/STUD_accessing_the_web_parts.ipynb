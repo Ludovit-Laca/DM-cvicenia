{
  "cells": [
    {
      "cell_type": "markdown",
      "metadata": {
        "id": "UkPUaHCxB4t0"
      },
      "source": [
        "0. Imports"
      ]
    },
    {
      "cell_type": "code",
      "execution_count": 30,
      "metadata": {
        "id": "Dr1HnyhcBfFu"
      },
      "outputs": [],
      "source": [
        "import pandas as pd\n",
        "import numpy as np"
      ]
    },
    {
      "cell_type": "markdown",
      "metadata": {
        "id": "_ofzP4rsCWT4"
      },
      "source": [
        "1. Load csv"
      ]
    },
    {
      "cell_type": "code",
      "execution_count": 31,
      "metadata": {
        "colab": {
          "base_uri": "https://localhost:8080/",
          "height": 142
        },
        "id": "6JM7De8aCYBs",
        "outputId": "bc308aed-09c3-4d9b-bc52-b22e2a95b60d"
      },
      "outputs": [
        {
          "data": {
            "text/html": [
              "<div>\n",
              "<style scoped>\n",
              "    .dataframe tbody tr th:only-of-type {\n",
              "        vertical-align: middle;\n",
              "    }\n",
              "\n",
              "    .dataframe tbody tr th {\n",
              "        vertical-align: top;\n",
              "    }\n",
              "\n",
              "    .dataframe thead th {\n",
              "        text-align: right;\n",
              "    }\n",
              "</style>\n",
              "<table border=\"1\" class=\"dataframe\">\n",
              "  <thead>\n",
              "    <tr style=\"text-align: right;\">\n",
              "      <th></th>\n",
              "      <th>Effect</th>\n",
              "      <th>Intercept</th>\n",
              "      <th>HODINA</th>\n",
              "      <th>HODINA_STV</th>\n",
              "      <th>PO</th>\n",
              "      <th>UT</th>\n",
              "      <th>STR</th>\n",
              "      <th>STVR</th>\n",
              "      <th>PIA</th>\n",
              "      <th>SO</th>\n",
              "    </tr>\n",
              "  </thead>\n",
              "  <tbody>\n",
              "    <tr>\n",
              "      <th>0</th>\n",
              "      <td>uvod_STUD</td>\n",
              "      <td>1.34835</td>\n",
              "      <td>0.34182</td>\n",
              "      <td>-0.01563</td>\n",
              "      <td>-0.63353</td>\n",
              "      <td>1.10307</td>\n",
              "      <td>0.11376</td>\n",
              "      <td>-0.49911</td>\n",
              "      <td>0.68682</td>\n",
              "      <td>0</td>\n",
              "    </tr>\n",
              "    <tr>\n",
              "      <th>1</th>\n",
              "      <td>studium_STUD</td>\n",
              "      <td>-2.84924</td>\n",
              "      <td>0.38448</td>\n",
              "      <td>-0.00867</td>\n",
              "      <td>0.95518</td>\n",
              "      <td>3.02822</td>\n",
              "      <td>1.54827</td>\n",
              "      <td>1.22148</td>\n",
              "      <td>1.20767</td>\n",
              "      <td>0</td>\n",
              "    </tr>\n",
              "    <tr>\n",
              "      <th>2</th>\n",
              "      <td>oznamy_STUD</td>\n",
              "      <td>1.51459</td>\n",
              "      <td>-0.38342</td>\n",
              "      <td>0.01248</td>\n",
              "      <td>1.65098</td>\n",
              "      <td>3.04913</td>\n",
              "      <td>1.59056</td>\n",
              "      <td>0.14253</td>\n",
              "      <td>-1.24192</td>\n",
              "      <td>0</td>\n",
              "    </tr>\n",
              "  </tbody>\n",
              "</table>\n",
              "</div>"
            ],
            "text/plain": [
              "         Effect  Intercept   HODINA  HODINA_STV  ...      STR     STVR      PIA  SO\n",
              "0     uvod_STUD    1.34835  0.34182    -0.01563  ...  0.11376 -0.49911  0.68682   0\n",
              "1  studium_STUD   -2.84924  0.38448    -0.00867  ...  1.54827  1.22148  1.20767   0\n",
              "2   oznamy_STUD    1.51459 -0.38342     0.01248  ...  1.59056  0.14253 -1.24192   0\n",
              "\n",
              "[3 rows x 10 columns]"
            ]
          },
          "execution_count": 31,
          "metadata": {},
          "output_type": "execute_result"
        }
      ],
      "source": [
        "# change to your file location\n",
        "df = pd.read_csv('/content/drive/MyDrive/Škola/DM/spravanie_studentov_v_zavislosti_od_casu_IV/MLM_STUD_stats.csv', ';', usecols=range(0,10))\n",
        "df.head(10)"
      ]
    },
    {
      "cell_type": "markdown",
      "metadata": {
        "id": "0cb0_Fd0GKBS"
      },
      "source": [
        "2. Create collection of weekdays"
      ]
    },
    {
      "cell_type": "code",
      "execution_count": 32,
      "metadata": {
        "id": "kyXSe_anGDj6"
      },
      "outputs": [],
      "source": [
        "days = ['PO', 'UT', 'STR', 'STVR', 'PIA', 'SO']"
      ]
    },
    {
      "cell_type": "markdown",
      "metadata": {
        "id": "wQc2VFnUGN0Y"
      },
      "source": [
        "3. Create estimates for web parts"
      ]
    },
    {
      "cell_type": "code",
      "execution_count": 33,
      "metadata": {
        "colab": {
          "base_uri": "https://localhost:8080/",
          "height": 203
        },
        "id": "UDH-Q5x1GMHI",
        "outputId": "899de380-b187-4bbc-f9b6-a28660fe635e"
      },
      "outputs": [
        {
          "data": {
            "text/html": [
              "<div>\n",
              "<style scoped>\n",
              "    .dataframe tbody tr th:only-of-type {\n",
              "        vertical-align: middle;\n",
              "    }\n",
              "\n",
              "    .dataframe tbody tr th {\n",
              "        vertical-align: top;\n",
              "    }\n",
              "\n",
              "    .dataframe thead th {\n",
              "        text-align: right;\n",
              "    }\n",
              "</style>\n",
              "<table border=\"1\" class=\"dataframe\">\n",
              "  <thead>\n",
              "    <tr style=\"text-align: right;\">\n",
              "      <th></th>\n",
              "      <th>0_hod</th>\n",
              "      <th>1_PO</th>\n",
              "      <th>2_UT</th>\n",
              "      <th>3_STR</th>\n",
              "      <th>4_STVR</th>\n",
              "      <th>5_PIA</th>\n",
              "      <th>6_SO</th>\n",
              "    </tr>\n",
              "  </thead>\n",
              "  <tbody>\n",
              "    <tr>\n",
              "      <th>0</th>\n",
              "      <td>7.0</td>\n",
              "      <td>0.701022</td>\n",
              "      <td>0.714323</td>\n",
              "      <td>0.801568</td>\n",
              "      <td>0.823223</td>\n",
              "      <td>0.950371</td>\n",
              "      <td>0.945436</td>\n",
              "    </tr>\n",
              "    <tr>\n",
              "      <th>1</th>\n",
              "      <td>8.0</td>\n",
              "      <td>0.728082</td>\n",
              "      <td>0.726046</td>\n",
              "      <td>0.811025</td>\n",
              "      <td>0.816037</td>\n",
              "      <td>0.944546</td>\n",
              "      <td>0.948246</td>\n",
              "    </tr>\n",
              "    <tr>\n",
              "      <th>2</th>\n",
              "      <td>9.0</td>\n",
              "      <td>0.737846</td>\n",
              "      <td>0.722664</td>\n",
              "      <td>0.808724</td>\n",
              "      <td>0.800848</td>\n",
              "      <td>0.936567</td>\n",
              "      <td>0.947312</td>\n",
              "    </tr>\n",
              "    <tr>\n",
              "      <th>3</th>\n",
              "      <td>10.0</td>\n",
              "      <td>0.733773</td>\n",
              "      <td>0.707178</td>\n",
              "      <td>0.796942</td>\n",
              "      <td>0.778498</td>\n",
              "      <td>0.926114</td>\n",
              "      <td>0.943307</td>\n",
              "    </tr>\n",
              "    <tr>\n",
              "      <th>4</th>\n",
              "      <td>11.0</td>\n",
              "      <td>0.718087</td>\n",
              "      <td>0.681387</td>\n",
              "      <td>0.776758</td>\n",
              "      <td>0.749159</td>\n",
              "      <td>0.912671</td>\n",
              "      <td>0.936379</td>\n",
              "    </tr>\n",
              "  </tbody>\n",
              "</table>\n",
              "</div>"
            ],
            "text/plain": [
              "   0_hod      1_PO      2_UT     3_STR    4_STVR     5_PIA      6_SO\n",
              "0    7.0  0.701022  0.714323  0.801568  0.823223  0.950371  0.945436\n",
              "1    8.0  0.728082  0.726046  0.811025  0.816037  0.944546  0.948246\n",
              "2    9.0  0.737846  0.722664  0.808724  0.800848  0.936567  0.947312\n",
              "3   10.0  0.733773  0.707178  0.796942  0.778498  0.926114  0.943307\n",
              "4   11.0  0.718087  0.681387  0.776758  0.749159  0.912671  0.936379"
            ]
          },
          "execution_count": 33,
          "metadata": {},
          "output_type": "execute_result"
        }
      ],
      "source": [
        "df1 = pd.DataFrame()\n",
        "df2 = pd.DataFrame()\n",
        "df3 = pd.DataFrame()\n",
        "index = 0\n",
        "\n",
        "# Cycle through hours from 7 to 23\n",
        "for x in range (7,23):\n",
        "      new_row_uvod = {}\n",
        "      new_row_studium = {}\n",
        "      new_row_oznamy = {}\n",
        "      i = 1\n",
        "\n",
        "      # Cycle through weekdays\n",
        "      for day in days:\n",
        "\n",
        "        # Create logits estimates\n",
        "        logit_uvod = df.at[index, 'Intercept'] + df.at[index, 'HODINA']*x+df.at[index, 'HODINA_STV']*(x*x)+df.at[index, day]\n",
        "        logit_studium = df.at[index+1, 'Intercept'] + df.at[index+1, 'HODINA']*x+df.at[index+1, 'HODINA_STV']*(x*x)+df.at[index+1, day]\n",
        "        logit_oznamy = df.at[index+2, 'Intercept'] + df.at[index+2, 'HODINA']*x+df.at[index+2, 'HODINA_STV']*(x*x)+df.at[index+2, day]\n",
        "        \n",
        "        reference_web = 1 / (1 + np.exp(logit_uvod) + np.exp(logit_studium) + np.exp(logit_oznamy))\n",
        "        \n",
        "        # Create estimates for web parts\n",
        "        estimate_uvod = np.exp(logit_uvod) * reference_web\n",
        "        estimate_studium = np.exp(logit_studium) * reference_web\n",
        "        estimate_oznamy = np.exp(logit_oznamy) * reference_web\n",
        "\n",
        "        den = str(i) + '_' + day\n",
        "\n",
        "        # Create new rows and append it to dataframe\n",
        "        new_row_uvod.update({den: estimate_uvod})\n",
        "        new_row_studium.update({den: estimate_studium})\n",
        "        new_row_oznamy.update({den: estimate_oznamy})\n",
        "        i = i + 1\n",
        "      \n",
        "      # Append time to rows\n",
        "      new_row_uvod.update({'0_hod': x})\n",
        "      new_row_studium.update({'0_hod': x})\n",
        "      new_row_oznamy.update({'0_hod': x})\n",
        "\n",
        "      # Update dataframes\n",
        "      df1 = df1.append(new_row_uvod, sort=False, ignore_index=True)\n",
        "      df2 = df2.append(new_row_studium, sort=False, ignore_index=True)\n",
        "      df3 = df3.append(new_row_oznamy, sort=False, ignore_index=True)\n",
        "\n",
        "df1.head()"
      ]
    },
    {
      "cell_type": "markdown",
      "metadata": {
        "id": "pmeyt0NmNbow"
      },
      "source": [
        "4. Export to excel"
      ]
    },
    {
      "cell_type": "code",
      "execution_count": 34,
      "metadata": {
        "id": "Vgpf71YeK_wb"
      },
      "outputs": [],
      "source": [
        "# Creating Excel Writer Object from Pandas  \n",
        "writer = pd.ExcelWriter('STUD_accessing_the_web_parts.xlsx',engine='xlsxwriter')   \n",
        "workbook=writer.book\n",
        "worksheet=workbook.add_worksheet('STUD')\n",
        "writer.sheets['STUD'] = worksheet\n",
        "\n",
        "# Úvod\n",
        "worksheet.write(0, 0, \"Úvod\")\n",
        "df1.to_excel(writer, sheet_name='STUD',startrow=1 , startcol=0, index=False)\n",
        "\n",
        "# Śtúdium\n",
        "worksheet.write(0, 8, \"Štúdium\")\n",
        "df2.to_excel(writer, sheet_name='STUD',startrow=1 , startcol=8, index=False)\n",
        "\n",
        "# Oznamy\n",
        "worksheet.write(0, 16, \"Oznamy\")\n",
        "df3.to_excel(writer, sheet_name='STUD',startrow=1 , startcol=16, index=False)\n",
        "writer.save()"
      ]
    }
  ],
  "metadata": {
    "colab": {
      "collapsed_sections": [],
      "name": "STUD_accessing_the_web_parts.ipynb",
      "provenance": []
    },
    "kernelspec": {
      "display_name": "Python 3",
      "name": "python3"
    },
    "language_info": {
      "name": "python"
    }
  },
  "nbformat": 4,
  "nbformat_minor": 0
}
