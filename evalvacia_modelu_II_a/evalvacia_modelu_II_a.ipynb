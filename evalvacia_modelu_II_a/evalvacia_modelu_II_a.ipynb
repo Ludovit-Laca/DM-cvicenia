{
  "cells": [
    {
      "cell_type": "markdown",
      "metadata": {
        "id": "W1McFcDOVx-a"
      },
      "source": [
        "0. Imports"
      ]
    },
    {
      "cell_type": "code",
      "execution_count": null,
      "metadata": {
        "id": "SpFE0ICxUZjy"
      },
      "outputs": [],
      "source": [
        "import pandas as pd\n",
        "import numpy as np\n",
        "import statistics\n",
        "import plotly.graph_objects as go"
      ]
    },
    {
      "cell_type": "markdown",
      "metadata": {
        "id": "aak6N4H2V7Pl"
      },
      "source": [
        "1. Load CSV"
      ]
    },
    {
      "cell_type": "code",
      "execution_count": null,
      "metadata": {
        "id": "379xB7tYV6G8"
      },
      "outputs": [],
      "source": [
        "# change to your file location\n",
        "df = pd.read_csv('/content/drive/MyDrive/Škola/DM/evalvacia_modelu_II_a/MLM_vstup.csv', ';', usecols=range(0,13))\n",
        "df_stats = pd.read_csv('/content/drive/MyDrive/Škola/DM/evalvacia_modelu_II_a/MLM_STUD_stats.csv', ';', usecols=range(0,10))\n",
        "\n",
        "# fiter for students\n",
        "df = df[(df['HODINA'] > 6) & (df['HODINA'] <= 22) & (df['STUD'] == 1) & (df['KATEGORIA'].isin(['uvod', 'studium', 'o_fakulte', 'oznamy']))]\n",
        "\n",
        "# empty dict to save created crosstables\n",
        "dfDict = {}"
      ]
    },
    {
      "cell_type": "markdown",
      "metadata": {
        "id": "EiwuILL53Wq7"
      },
      "source": [
        "2. Create crosstables\n",
        "\n",
        "*Crosstable - PO*"
      ]
    },
    {
      "cell_type": "code",
      "execution_count": null,
      "metadata": {
        "colab": {
          "base_uri": "https://localhost:8080/",
          "height": 573
        },
        "id": "CsH6GQb625eL",
        "outputId": "e6fa531a-201e-46c5-9670-3332c3823b18"
      },
      "outputs": [
        {
          "data": {
            "text/html": [
              "<div>\n",
              "<style scoped>\n",
              "    .dataframe tbody tr th:only-of-type {\n",
              "        vertical-align: middle;\n",
              "    }\n",
              "\n",
              "    .dataframe tbody tr th {\n",
              "        vertical-align: top;\n",
              "    }\n",
              "\n",
              "    .dataframe thead th {\n",
              "        text-align: right;\n",
              "    }\n",
              "</style>\n",
              "<table border=\"1\" class=\"dataframe\">\n",
              "  <thead>\n",
              "    <tr style=\"text-align: right;\">\n",
              "      <th>KATEGORIA</th>\n",
              "      <th>HODINA</th>\n",
              "      <th>o_fakulte</th>\n",
              "      <th>oznamy</th>\n",
              "      <th>studium</th>\n",
              "      <th>uvod</th>\n",
              "      <th>All</th>\n",
              "    </tr>\n",
              "  </thead>\n",
              "  <tbody>\n",
              "    <tr>\n",
              "      <th>0</th>\n",
              "      <td>8</td>\n",
              "      <td>3.0</td>\n",
              "      <td>0.0</td>\n",
              "      <td>3.0</td>\n",
              "      <td>13.0</td>\n",
              "      <td>19</td>\n",
              "    </tr>\n",
              "    <tr>\n",
              "      <th>1</th>\n",
              "      <td>9</td>\n",
              "      <td>3.0</td>\n",
              "      <td>15.0</td>\n",
              "      <td>8.0</td>\n",
              "      <td>61.0</td>\n",
              "      <td>87</td>\n",
              "    </tr>\n",
              "    <tr>\n",
              "      <th>2</th>\n",
              "      <td>10</td>\n",
              "      <td>5.0</td>\n",
              "      <td>12.0</td>\n",
              "      <td>16.0</td>\n",
              "      <td>59.0</td>\n",
              "      <td>92</td>\n",
              "    </tr>\n",
              "    <tr>\n",
              "      <th>3</th>\n",
              "      <td>11</td>\n",
              "      <td>0.0</td>\n",
              "      <td>9.0</td>\n",
              "      <td>14.0</td>\n",
              "      <td>69.0</td>\n",
              "      <td>92</td>\n",
              "    </tr>\n",
              "    <tr>\n",
              "      <th>4</th>\n",
              "      <td>12</td>\n",
              "      <td>19.0</td>\n",
              "      <td>11.0</td>\n",
              "      <td>5.0</td>\n",
              "      <td>74.0</td>\n",
              "      <td>109</td>\n",
              "    </tr>\n",
              "    <tr>\n",
              "      <th>5</th>\n",
              "      <td>13</td>\n",
              "      <td>8.0</td>\n",
              "      <td>4.0</td>\n",
              "      <td>6.0</td>\n",
              "      <td>67.0</td>\n",
              "      <td>85</td>\n",
              "    </tr>\n",
              "    <tr>\n",
              "      <th>6</th>\n",
              "      <td>14</td>\n",
              "      <td>2.0</td>\n",
              "      <td>5.0</td>\n",
              "      <td>27.0</td>\n",
              "      <td>90.0</td>\n",
              "      <td>124</td>\n",
              "    </tr>\n",
              "    <tr>\n",
              "      <th>7</th>\n",
              "      <td>15</td>\n",
              "      <td>3.0</td>\n",
              "      <td>7.0</td>\n",
              "      <td>110.0</td>\n",
              "      <td>53.0</td>\n",
              "      <td>173</td>\n",
              "    </tr>\n",
              "    <tr>\n",
              "      <th>8</th>\n",
              "      <td>16</td>\n",
              "      <td>1.0</td>\n",
              "      <td>1.0</td>\n",
              "      <td>13.0</td>\n",
              "      <td>9.0</td>\n",
              "      <td>24</td>\n",
              "    </tr>\n",
              "    <tr>\n",
              "      <th>9</th>\n",
              "      <td>17</td>\n",
              "      <td>0.0</td>\n",
              "      <td>3.0</td>\n",
              "      <td>7.0</td>\n",
              "      <td>6.0</td>\n",
              "      <td>16</td>\n",
              "    </tr>\n",
              "    <tr>\n",
              "      <th>10</th>\n",
              "      <td>18</td>\n",
              "      <td>6.0</td>\n",
              "      <td>4.0</td>\n",
              "      <td>19.0</td>\n",
              "      <td>10.0</td>\n",
              "      <td>39</td>\n",
              "    </tr>\n",
              "    <tr>\n",
              "      <th>11</th>\n",
              "      <td>19</td>\n",
              "      <td>2.0</td>\n",
              "      <td>3.0</td>\n",
              "      <td>22.0</td>\n",
              "      <td>12.0</td>\n",
              "      <td>39</td>\n",
              "    </tr>\n",
              "    <tr>\n",
              "      <th>12</th>\n",
              "      <td>20</td>\n",
              "      <td>1.0</td>\n",
              "      <td>5.0</td>\n",
              "      <td>33.0</td>\n",
              "      <td>15.0</td>\n",
              "      <td>54</td>\n",
              "    </tr>\n",
              "    <tr>\n",
              "      <th>13</th>\n",
              "      <td>21</td>\n",
              "      <td>0.0</td>\n",
              "      <td>1.0</td>\n",
              "      <td>19.0</td>\n",
              "      <td>9.0</td>\n",
              "      <td>29</td>\n",
              "    </tr>\n",
              "    <tr>\n",
              "      <th>14</th>\n",
              "      <td>22</td>\n",
              "      <td>0.0</td>\n",
              "      <td>1.0</td>\n",
              "      <td>8.0</td>\n",
              "      <td>2.0</td>\n",
              "      <td>11</td>\n",
              "    </tr>\n",
              "    <tr>\n",
              "      <th>15</th>\n",
              "      <td>All</td>\n",
              "      <td>53.0</td>\n",
              "      <td>81.0</td>\n",
              "      <td>310.0</td>\n",
              "      <td>549.0</td>\n",
              "      <td>993</td>\n",
              "    </tr>\n",
              "    <tr>\n",
              "      <th>16</th>\n",
              "      <td>7</td>\n",
              "      <td>0.0</td>\n",
              "      <td>0.0</td>\n",
              "      <td>0.0</td>\n",
              "      <td>0.0</td>\n",
              "      <td>0</td>\n",
              "    </tr>\n",
              "  </tbody>\n",
              "</table>\n",
              "</div>"
            ],
            "text/plain": [
              "KATEGORIA HODINA  o_fakulte  oznamy  studium   uvod  All\n",
              "0              8        3.0     0.0      3.0   13.0   19\n",
              "1              9        3.0    15.0      8.0   61.0   87\n",
              "2             10        5.0    12.0     16.0   59.0   92\n",
              "3             11        0.0     9.0     14.0   69.0   92\n",
              "4             12       19.0    11.0      5.0   74.0  109\n",
              "5             13        8.0     4.0      6.0   67.0   85\n",
              "6             14        2.0     5.0     27.0   90.0  124\n",
              "7             15        3.0     7.0    110.0   53.0  173\n",
              "8             16        1.0     1.0     13.0    9.0   24\n",
              "9             17        0.0     3.0      7.0    6.0   16\n",
              "10            18        6.0     4.0     19.0   10.0   39\n",
              "11            19        2.0     3.0     22.0   12.0   39\n",
              "12            20        1.0     5.0     33.0   15.0   54\n",
              "13            21        0.0     1.0     19.0    9.0   29\n",
              "14            22        0.0     1.0      8.0    2.0   11\n",
              "15           All       53.0    81.0    310.0  549.0  993\n",
              "16             7        0.0     0.0      0.0    0.0    0"
            ]
          },
          "execution_count": 397,
          "metadata": {},
          "output_type": "execute_result"
        }
      ],
      "source": [
        "df1 = df[(df['PO'] == 1)]\n",
        "crosstable = pd.crosstab(df1['HODINA'], df1['KATEGORIA'], values=df1['PO'], margins=True, \n",
        "                 dropna=False, aggfunc='count').reset_index().fillna(0)\n",
        "\n",
        "# Add missing line\n",
        "crosstable = crosstable.append({'HODINA': 7, 'o_fakulte': 0, 'oznamy': 0, 'studium': 0, 'uvod': 0, 'All': 0}, ignore_index=True)\n",
        "\n",
        "# Add PO crosstable into dict\n",
        "dfDict['PO'] = crosstable\n",
        "crosstable"
      ]
    },
    {
      "cell_type": "markdown",
      "metadata": {
        "id": "kju7PnWt66VJ"
      },
      "source": [
        "*Crosstable - UT*"
      ]
    },
    {
      "cell_type": "code",
      "execution_count": null,
      "metadata": {
        "id": "qDha2Jz669rL"
      },
      "outputs": [],
      "source": [
        "df1 = df[(df['UT'] == 1)]\n",
        "crosstable = pd.crosstab(df1['HODINA'], df1['KATEGORIA'], values=df1['UT'], margins=True, \n",
        "                 dropna=False, aggfunc='count').reset_index().fillna(0)\n",
        "\n",
        "# Add UT crosstable into dict\n",
        "dfDict['UT'] = crosstable"
      ]
    },
    {
      "cell_type": "markdown",
      "metadata": {
        "id": "0DO9m2R37lK-"
      },
      "source": [
        "*Crosstable - STR*"
      ]
    },
    {
      "cell_type": "code",
      "execution_count": null,
      "metadata": {
        "id": "Td5vSqBN7iKV"
      },
      "outputs": [],
      "source": [
        "df1 = df[(df['STR'] == 1)]\n",
        "crosstable = pd.crosstab(df1['HODINA'], df1['KATEGORIA'], values=df1['STR'], margins=True, \n",
        "                 dropna=False, aggfunc='count').reset_index().fillna(0)\n",
        "\n",
        "# Add missing line   \n",
        "crosstable = crosstable.append({'HODINA': 22, 'o_fakulte': 0, 'oznamy': 0, 'studium': 0, 'uvod': 0, 'All': 0}, ignore_index=True)\n",
        "\n",
        "# Add STR crosstable into dict\n",
        "dfDict['STR'] = crosstable"
      ]
    },
    {
      "cell_type": "markdown",
      "metadata": {
        "id": "Qb6c4XMx8BaF"
      },
      "source": [
        "*Crosstable - STVR*"
      ]
    },
    {
      "cell_type": "code",
      "execution_count": null,
      "metadata": {
        "id": "Hv1mXSOs74u6"
      },
      "outputs": [],
      "source": [
        "df1 = df[(df['STVR'] == 1)]\n",
        "crosstable = pd.crosstab(df1['HODINA'], df1['KATEGORIA'], values=df1['STVR'], margins=True, \n",
        "                 dropna=False, aggfunc='count').reset_index().fillna(0)\n",
        "\n",
        "# Add STVR crosstable into dict\n",
        "dfDict['STVR'] = crosstable"
      ]
    },
    {
      "cell_type": "markdown",
      "metadata": {
        "id": "hsSu7KzCW4oG"
      },
      "source": [
        "*Crosstable - PIA*"
      ]
    },
    {
      "cell_type": "code",
      "execution_count": null,
      "metadata": {
        "id": "lfAng8AJWrWs"
      },
      "outputs": [],
      "source": [
        "df1 = df[(df['PIA'] == 1)]\n",
        "crosstable = pd.crosstab(df1['HODINA'], df1['KATEGORIA'], values=df1['PIA'], margins=True, \n",
        "                 dropna=False, aggfunc='count').reset_index().fillna(0)\n",
        "\n",
        "# Add missing lines\n",
        "crosstable = crosstable.append({'HODINA': 18, 'o_fakulte': 0, 'oznamy': 0, 'studium': 0, 'uvod': 0, 'All': 0}, ignore_index=True)\n",
        "crosstable = crosstable.append({'HODINA': 21, 'o_fakulte': 0, 'oznamy': 0, 'studium': 0, 'uvod': 0, 'All': 0}, ignore_index=True)\n",
        "\n",
        "# Add PIA crosstable into dict\n",
        "dfDict['PIA'] = crosstable"
      ]
    },
    {
      "cell_type": "markdown",
      "metadata": {
        "id": "K9IiF9Iw8NWm"
      },
      "source": [
        "*Crosstable - SO*"
      ]
    },
    {
      "cell_type": "code",
      "execution_count": null,
      "metadata": {
        "id": "1y3n92cbvBHF"
      },
      "outputs": [],
      "source": [
        "df1 = df[(df['SO'] == 1)]\n",
        "crosstable = pd.crosstab(df1['HODINA'], df1['KATEGORIA'], values=df1['SO'], margins=True, \n",
        "                 dropna=False, aggfunc='count').reset_index().fillna(0)\n",
        "\n",
        "# Add missing lines\n",
        "crosstable = crosstable.append({'HODINA': 17, 'o_fakulte': 0, 'oznamy': 0, 'studium': 0, 'uvod': 0, 'All': 0}, ignore_index=True)\n",
        "crosstable = crosstable.append({'HODINA': 18, 'o_fakulte': 0, 'oznamy': 0, 'studium': 0, 'uvod': 0, 'All': 0}, ignore_index=True)\n",
        "crosstable = crosstable.append({'HODINA': 19, 'o_fakulte': 0, 'oznamy': 0, 'studium': 0, 'uvod': 0, 'All': 0}, ignore_index=True)\n",
        "crosstable = crosstable.append({'HODINA': 20, 'o_fakulte': 0, 'oznamy': 0, 'studium': 0, 'uvod': 0, 'All': 0}, ignore_index=True)\n",
        "\n",
        "# Add SO crosstable into dict\n",
        "dfDict['SO'] = crosstable"
      ]
    },
    {
      "cell_type": "markdown",
      "metadata": {
        "id": "NpYdkaOeBScX"
      },
      "source": [
        "3. Create collection of weekdays"
      ]
    },
    {
      "cell_type": "code",
      "execution_count": null,
      "metadata": {
        "id": "JV_92Z5EBPoY"
      },
      "outputs": [],
      "source": [
        "days = ['PO', 'UT', 'STR', 'STVR', 'PIA', 'SO']"
      ]
    },
    {
      "cell_type": "markdown",
      "metadata": {
        "id": "1aKyUcP1-Ytv"
      },
      "source": [
        "4. Calculate differences"
      ]
    },
    {
      "cell_type": "code",
      "execution_count": null,
      "metadata": {
        "colab": {
          "base_uri": "https://localhost:8080/",
          "height": 203
        },
        "id": "19rW_Mcq8j4V",
        "outputId": "bb79aad7-c5f6-4556-d497-54ddb47f323f"
      },
      "outputs": [
        {
          "data": {
            "text/html": [
              "<div>\n",
              "<style scoped>\n",
              "    .dataframe tbody tr th:only-of-type {\n",
              "        vertical-align: middle;\n",
              "    }\n",
              "\n",
              "    .dataframe tbody tr th {\n",
              "        vertical-align: top;\n",
              "    }\n",
              "\n",
              "    .dataframe thead th {\n",
              "        text-align: right;\n",
              "    }\n",
              "</style>\n",
              "<table border=\"1\" class=\"dataframe\">\n",
              "  <thead>\n",
              "    <tr style=\"text-align: right;\">\n",
              "      <th></th>\n",
              "      <th>0_hod</th>\n",
              "      <th>1_PO</th>\n",
              "      <th>2_UT</th>\n",
              "      <th>3_STR</th>\n",
              "      <th>4_STVR</th>\n",
              "      <th>5_PIA</th>\n",
              "      <th>6_SO</th>\n",
              "    </tr>\n",
              "  </thead>\n",
              "  <tbody>\n",
              "    <tr>\n",
              "      <th>0</th>\n",
              "      <td>7.0</td>\n",
              "      <td>0.000000</td>\n",
              "      <td>-0.571617</td>\n",
              "      <td>2.548253</td>\n",
              "      <td>2.474884</td>\n",
              "      <td>0.446661</td>\n",
              "      <td>-3.399792</td>\n",
              "    </tr>\n",
              "    <tr>\n",
              "      <th>1</th>\n",
              "      <td>8.0</td>\n",
              "      <td>-0.833549</td>\n",
              "      <td>-7.068825</td>\n",
              "      <td>-0.653568</td>\n",
              "      <td>-0.264149</td>\n",
              "      <td>5.268098</td>\n",
              "      <td>-4.807945</td>\n",
              "    </tr>\n",
              "    <tr>\n",
              "      <th>2</th>\n",
              "      <td>9.0</td>\n",
              "      <td>-3.192605</td>\n",
              "      <td>16.800177</td>\n",
              "      <td>-3.392573</td>\n",
              "      <td>-7.440714</td>\n",
              "      <td>1.645538</td>\n",
              "      <td>-0.419364</td>\n",
              "    </tr>\n",
              "    <tr>\n",
              "      <th>3</th>\n",
              "      <td>10.0</td>\n",
              "      <td>-8.507120</td>\n",
              "      <td>-6.646036</td>\n",
              "      <td>-0.563301</td>\n",
              "      <td>-6.905450</td>\n",
              "      <td>-0.561764</td>\n",
              "      <td>1.984244</td>\n",
              "    </tr>\n",
              "    <tr>\n",
              "      <th>4</th>\n",
              "      <td>11.0</td>\n",
              "      <td>2.935982</td>\n",
              "      <td>-15.589841</td>\n",
              "      <td>5.743178</td>\n",
              "      <td>-10.234026</td>\n",
              "      <td>-1.808187</td>\n",
              "      <td>2.644328</td>\n",
              "    </tr>\n",
              "  </tbody>\n",
              "</table>\n",
              "</div>"
            ],
            "text/plain": [
              "   0_hod      1_PO       2_UT     3_STR     4_STVR     5_PIA      6_SO\n",
              "0    7.0  0.000000  -0.571617  2.548253   2.474884  0.446661 -3.399792\n",
              "1    8.0 -0.833549  -7.068825 -0.653568  -0.264149  5.268098 -4.807945\n",
              "2    9.0 -3.192605  16.800177 -3.392573  -7.440714  1.645538 -0.419364\n",
              "3   10.0 -8.507120  -6.646036 -0.563301  -6.905450 -0.561764  1.984244\n",
              "4   11.0  2.935982 -15.589841  5.743178 -10.234026 -1.808187  2.644328"
            ]
          },
          "execution_count": 404,
          "metadata": {},
          "output_type": "execute_result"
        }
      ],
      "source": [
        "df1 = pd.DataFrame()\n",
        "df2 = pd.DataFrame()\n",
        "df3 = pd.DataFrame()\n",
        "df4 = pd.DataFrame()\n",
        "index = 0\n",
        "\n",
        "# Cycle through hours from 7 to 23\n",
        "for x in range (7,23):\n",
        "      new_row_uvod = {}\n",
        "      new_row_studium = {}\n",
        "      new_row_oznamy = {}\n",
        "      new_row_fakulte = {}\n",
        "      i = 1\n",
        "\n",
        "      # Cycle through weekdays\n",
        "      for day in days:\n",
        "\n",
        "        # Create logits estimates\n",
        "        logit_uvod = df_stats.at[index, 'Intercept'] + df_stats.at[index, 'HODINA']*x+df_stats.at[index, 'HODINA_STV']*(x*x)+df_stats.at[index, day]\n",
        "        logit_studium = df_stats.at[index+1, 'Intercept'] + df_stats.at[index+1, 'HODINA']*x+df_stats.at[index+1, 'HODINA_STV']*(x*x)+df_stats.at[index+1, day]\n",
        "        logit_oznamy = df_stats.at[index+2, 'Intercept'] + df_stats.at[index+2, 'HODINA']*x+df_stats.at[index+2, 'HODINA_STV']*(x*x)+df_stats.at[index+2, day]\n",
        "        \n",
        "        reference_web = 1 / (1 + np.exp(logit_uvod) + np.exp(logit_studium) + np.exp(logit_oznamy))\n",
        "        \n",
        "        # Create estimates for web parts\n",
        "        estimate_uvod = np.exp(logit_uvod) * reference_web\n",
        "        estimate_studium = np.exp(logit_studium) * reference_web\n",
        "        estimate_oznamy = np.exp(logit_oznamy) * reference_web\n",
        "        estimate_fakulte = np.exp(reference_web) * reference_web\n",
        "\n",
        "        # Get current crosstable\n",
        "        crosstable = dfDict[day]\n",
        "        crosstable = crosstable[(crosstable['HODINA'] == x)]\n",
        "\n",
        "        # Differences\n",
        "        dij_uvod = crosstable.iloc[0]['uvod'] - (estimate_uvod * crosstable.iloc[0]['All'])\n",
        "        dij_studium = crosstable.iloc[0]['studium'] - (estimate_studium * crosstable.iloc[0]['All'])\n",
        "        dij_oznamy = crosstable.iloc[0]['oznamy'] - (estimate_oznamy * crosstable.iloc[0]['All'])\n",
        "        dij_fakulte = crosstable.iloc[0]['o_fakulte'] - (estimate_fakulte * crosstable.iloc[0]['All'])\n",
        "\n",
        "        den = str(i) + '_' + day\n",
        "\n",
        "        new_row_uvod.update({den: dij_uvod})\n",
        "        new_row_studium.update({den: dij_studium})\n",
        "        new_row_oznamy.update({den: dij_oznamy})\n",
        "        new_row_fakulte.update({den: dij_fakulte})\n",
        "        i = i + 1\n",
        "      \n",
        "       # Append time and ext to rows\n",
        "      new_row_uvod.update({'0_hod': x})\n",
        "      new_row_studium.update({'0_hod': x})\n",
        "      new_row_oznamy.update({'0_hod': x})\n",
        "      new_row_fakulte.update({'0_hod': x})\n",
        "\n",
        "      # Update dataframes\n",
        "      df1 = df1.append(new_row_uvod, sort=False, ignore_index=True)\n",
        "      df2 = df2.append(new_row_studium, sort=False, ignore_index=True)\n",
        "      df3 = df3.append(new_row_oznamy, sort=False, ignore_index=True)\n",
        "      df4 = df4.append(new_row_fakulte, sort=False, ignore_index=True)\n",
        "\n",
        "df1.head()"
      ]
    },
    {
      "cell_type": "markdown",
      "metadata": {
        "id": "h3ZWMXSZRaxS"
      },
      "source": [
        "5. Create collection of weekdays with numbers"
      ]
    },
    {
      "cell_type": "code",
      "execution_count": null,
      "metadata": {
        "id": "CQE9cm9p59fm"
      },
      "outputs": [],
      "source": [
        "days = ['1_PO', '2_UT', '3_STR', '4_STVR', '5_PIA', '6_SO']"
      ]
    },
    {
      "cell_type": "markdown",
      "metadata": {
        "id": "yIBhCllBRetD"
      },
      "source": [
        "6. Add extreme values"
      ]
    },
    {
      "cell_type": "code",
      "execution_count": null,
      "metadata": {
        "id": "YaPNHj2U4QGO"
      },
      "outputs": [],
      "source": [
        "for day in days:\n",
        "  df1[day + \"_max\"] = np.nanmean(df1[day].tolist()) + 2*statistics.stdev(df1[day].tolist())\n",
        "  df1[day + \"_min\"] = np.nanmean(df1[day].tolist()) - 2*statistics.stdev(df1[day].tolist())\n",
        "\n",
        "  df2[day + \"_max\"] = np.nanmean(df2[day].tolist()) + 2*statistics.stdev(df2[day].tolist())\n",
        "  df2[day + \"_min\"] = np.nanmean(df2[day].tolist()) - 2*statistics.stdev(df2[day].tolist())\n",
        "\n",
        "  df3[day + \"_max\"] = np.nanmean(df3[day].tolist()) + 2*statistics.stdev(df3[day].tolist())\n",
        "  df3[day + \"_min\"] = np.nanmean(df3[day].tolist()) - 2*statistics.stdev(df3[day].tolist())\n",
        "\n",
        "  df4[day + \"_max\"] = np.nanmean(df4[day].tolist()) + 2*statistics.stdev(df4[day].tolist())\n",
        "  df4[day + \"_min\"] = np.nanmean(df4[day].tolist()) - 2*statistics.stdev(df4[day].tolist())"
      ]
    },
    {
      "cell_type": "markdown",
      "metadata": {
        "id": "d7FoIZ2BwgnR"
      },
      "source": [
        "7. Create figures and add them into dict"
      ]
    },
    {
      "cell_type": "code",
      "execution_count": null,
      "metadata": {
        "id": "nsMRXRmdwdt-"
      },
      "outputs": [],
      "source": [
        "figures = {}\n",
        "for day in days:\n",
        "  fig = go.Figure()\n",
        "\n",
        "  # uvod\n",
        "  fig.add_trace(go.Scatter(x=df1['0_hod'], y=df1[day], mode='lines', name='uvod', line=dict(color=\"blue\")))\n",
        "  fig.add_trace(go.Scatter(x=df1['0_hod'], y=df1[day + '_max'], mode='lines', name='ext uvod', line=dict(color=\"lightgrey\", dash=\"dashdot\")))\n",
        "  fig.add_trace(go.Scatter(x=df1['0_hod'], y=df1[day + '_min'], mode='lines', name='ext uvod', line=dict(color=\"lightgrey\", dash=\"dashdot\")))\n",
        "\n",
        "  # studium\n",
        "  fig.add_trace(go.Scatter(x=df2['0_hod'], y=df2[day], mode='lines', name='studium', line=dict(color=\"green\")))\n",
        "  fig.add_trace(go.Scatter(x=df2['0_hod'], y=df2[day + '_max'], mode='lines', name='ext studium', line=dict(color=\"lightgrey\", dash=\"dashdot\")))\n",
        "  fig.add_trace(go.Scatter(x=df2['0_hod'], y=df2[day + '_min'], mode='lines', name='ext studium', line=dict(color=\"lightgrey\", dash=\"dashdot\")))\n",
        "\n",
        "  # oznamy\n",
        "  fig.add_trace(go.Scatter(x=df3['0_hod'], y=df3[day], mode='lines', name='oznamy', line=dict(color=\"red\")))\n",
        "  fig.add_trace(go.Scatter(x=df3['0_hod'], y=df3[day + '_max'], mode='lines', name='ext oznamy', line=dict(color=\"lightgrey\", dash=\"dashdot\")))\n",
        "  fig.add_trace(go.Scatter(x=df3['0_hod'], y=df3[day + '_min'], mode='lines', name='ext oznamy', line=dict(color=\"lightgrey\", dash=\"dashdot\")))\n",
        "\n",
        "  # o fakulte\n",
        "  fig.add_trace(go.Scatter(x=df4['0_hod'], y=df4[day], mode='lines', name='o fakulte', line=dict(color=\"yellow\")))\n",
        "  fig.add_trace(go.Scatter(x=df4['0_hod'], y=df4[day + '_max'], mode='lines', name='ext o fakulte', line=dict(color=\"lightgrey\", dash=\"dashdot\")))\n",
        "  fig.add_trace(go.Scatter(x=df4['0_hod'], y=df4[day + '_min'], mode='lines', name='ext o fakulte', line=dict(color=\"lightgrey\", dash=\"dashdot\")))\n",
        "\n",
        "  fig.update_layout(title='Vizualizacia rozdielov pocetnosti - ' + day, xaxis_title='hour', yaxis_title='rozdiely')\n",
        "  figures.update({day: fig})"
      ]
    },
    {
      "cell_type": "markdown",
      "metadata": {
        "id": "qv9TW_6kRH7j"
      },
      "source": [
        "8. Visualize fingers in days\n",
        "\n",
        "*Pondelok*"
      ]
    },
    {
      "cell_type": "code",
      "execution_count": null,
      "metadata": {
        "colab": {
          "base_uri": "https://localhost:8080/",
          "height": 542
        },
        "id": "N9U9OO1xCNJz",
        "outputId": "72db1305-972c-4ada-b7e1-ab2a2c9d14bf"
      },
      "outputs": [
        {
          "data": {
            "text/html": [
              "<html>\n",
              "<head><meta charset=\"utf-8\" /></head>\n",
              "<body>\n",
              "    <div>\n",
              "            <script src=\"https://cdnjs.cloudflare.com/ajax/libs/mathjax/2.7.5/MathJax.js?config=TeX-AMS-MML_SVG\"></script><script type=\"text/javascript\">if (window.MathJax) {MathJax.Hub.Config({SVG: {font: \"STIX-Web\"}});}</script>\n",
              "                <script type=\"text/javascript\">window.PlotlyConfig = {MathJaxConfig: 'local'};</script>\n",
              "        <script src=\"https://cdn.plot.ly/plotly-latest.min.js\"></script>    \n",
              "            <div id=\"19d63a22-08d8-415c-bdad-ef2e4f46ae58\" class=\"plotly-graph-div\" style=\"height:525px; width:100%;\"></div>\n",
              "            <script type=\"text/javascript\">\n",
              "                \n",
              "                    window.PLOTLYENV=window.PLOTLYENV || {};\n",
              "                    \n",
              "                if (document.getElementById(\"19d63a22-08d8-415c-bdad-ef2e4f46ae58\")) {\n",
              "                    Plotly.newPlot(\n",
              "                        '19d63a22-08d8-415c-bdad-ef2e4f46ae58',\n",
              "                        [{\"line\": {\"color\": \"blue\"}, \"mode\": \"lines\", \"name\": \"uvod\", \"type\": \"scatter\", \"x\": [7.0, 8.0, 9.0, 10.0, 11.0, 12.0, 13.0, 14.0, 15.0, 16.0, 17.0, 18.0, 19.0, 20.0, 21.0, 22.0], \"y\": [0.0, -0.8335494349233628, -3.1926046474920042, -8.507120264120346, 2.935981797120135, -1.4345033208176687, 11.206084131355468, 14.156187755239188, -43.62629746971537, -2.959966956308836, -0.9285371172652805, -4.249397671320999, 0.3565884570092255, 2.2677538646314765, 3.7878494900637776, 0.5469908756819812]}, {\"line\": {\"color\": \"lightgrey\", \"dash\": \"dashdot\"}, \"mode\": \"lines\", \"name\": \"ext uvod\", \"type\": \"scatter\", \"x\": [7.0, 8.0, 9.0, 10.0, 11.0, 12.0, 13.0, 14.0, 15.0, 16.0, 17.0, 18.0, 19.0, 20.0, 21.0, 22.0], \"y\": [22.929288135020776, 22.929288135020776, 22.929288135020776, 22.929288135020776, 22.929288135020776, 22.929288135020776, 22.929288135020776, 22.929288135020776, 22.929288135020776, 22.929288135020776, 22.929288135020776, 22.929288135020776, 22.929288135020776, 22.929288135020776, 22.929288135020776, 22.929288135020776]}, {\"line\": {\"color\": \"lightgrey\", \"dash\": \"dashdot\"}, \"mode\": \"lines\", \"name\": \"ext uvod\", \"type\": \"scatter\", \"x\": [7.0, 8.0, 9.0, 10.0, 11.0, 12.0, 13.0, 14.0, 15.0, 16.0, 17.0, 18.0, 19.0, 20.0, 21.0, 22.0], \"y\": [-26.738605698878608, -26.738605698878608, -26.738605698878608, -26.738605698878608, -26.738605698878608, -26.738605698878608, -26.738605698878608, -26.738605698878608, -26.738605698878608, -26.738605698878608, -26.738605698878608, -26.738605698878608, -26.738605698878608, -26.738605698878608, -26.738605698878608, -26.738605698878608]}, {\"line\": {\"color\": \"green\"}, \"mode\": \"lines\", \"name\": \"studium\", \"type\": \"scatter\", \"x\": [7.0, 8.0, 9.0, 10.0, 11.0, 12.0, 13.0, 14.0, 15.0, 16.0, 17.0, 18.0, 19.0, 20.0, 21.0, 22.0], \"y\": [0.0, 0.7634449448389429, -4.191122362547688, 0.729038593759725, -4.050335009282797, -20.242896112792224, -17.18730263957115, -12.69384443371446, 45.422184744761935, 2.649808875581847, -0.872917432552164, -2.558165130226822, -1.7827490313992058, -2.603994665216703, -1.2333561368439234, 0.05997309169026721]}, {\"line\": {\"color\": \"lightgrey\", \"dash\": \"dashdot\"}, \"mode\": \"lines\", \"name\": \"ext studium\", \"type\": \"scatter\", \"x\": [7.0, 8.0, 9.0, 10.0, 11.0, 12.0, 13.0, 14.0, 15.0, 16.0, 17.0, 18.0, 19.0, 20.0, 21.0, 22.0], \"y\": [27.03331326262977, 27.03331326262977, 27.03331326262977, 27.03331326262977, 27.03331326262977, 27.03331326262977, 27.03331326262977, 27.03331326262977, 27.03331326262977, 27.03331326262977, 27.03331326262977, 27.03331326262977, 27.03331326262977, 27.03331326262977, 27.03331326262977, 27.03331326262977]}, {\"line\": {\"color\": \"lightgrey\", \"dash\": \"dashdot\"}, \"mode\": \"lines\", \"name\": \"ext studium\", \"type\": \"scatter\", \"x\": [7.0, 8.0, 9.0, 10.0, 11.0, 12.0, 13.0, 14.0, 15.0, 16.0, 17.0, 18.0, 19.0, 20.0, 21.0, 22.0], \"y\": [-29.25734235056907, -29.25734235056907, -29.25734235056907, -29.25734235056907, -29.25734235056907, -29.25734235056907, -29.25734235056907, -29.25734235056907, -29.25734235056907, -29.25734235056907, -29.25734235056907, -29.25734235056907, -29.25734235056907, -29.25734235056907, -29.25734235056907, -29.25734235056907]}, {\"line\": {\"color\": \"red\"}, \"mode\": \"lines\", \"name\": \"oznamy\", \"type\": \"scatter\", \"x\": [7.0, 8.0, 9.0, 10.0, 11.0, 12.0, 13.0, 14.0, 15.0, 16.0, 17.0, 18.0, 19.0, 20.0, 21.0, 22.0], \"y\": [0.0, -2.929895509915579, 4.383727010039713, 2.7780816703605975, 1.1143532121626585, 2.6773994336098674, -2.0187814917843214, -3.4623433215247523, -4.795887275046542, -0.6898419192730127, 1.801454549817444, 0.8075628015478236, -0.5738394256100245, -0.663759199414776, -2.554493353219854, -0.6069639673722484]}, {\"line\": {\"color\": \"lightgrey\", \"dash\": \"dashdot\"}, \"mode\": \"lines\", \"name\": \"ext oznamy\", \"type\": \"scatter\", \"x\": [7.0, 8.0, 9.0, 10.0, 11.0, 12.0, 13.0, 14.0, 15.0, 16.0, 17.0, 18.0, 19.0, 20.0, 21.0, 22.0], \"y\": [4.700970869280548, 4.700970869280548, 4.700970869280548, 4.700970869280548, 4.700970869280548, 4.700970869280548, 4.700970869280548, 4.700970869280548, 4.700970869280548, 4.700970869280548, 4.700970869280548, 4.700970869280548, 4.700970869280548, 4.700970869280548, 4.700970869280548, 4.700970869280548]}, {\"line\": {\"color\": \"lightgrey\", \"dash\": \"dashdot\"}, \"mode\": \"lines\", \"name\": \"ext oznamy\", \"type\": \"scatter\", \"x\": [7.0, 8.0, 9.0, 10.0, 11.0, 12.0, 13.0, 14.0, 15.0, 16.0, 17.0, 18.0, 19.0, 20.0, 21.0, 22.0], \"y\": [-5.292624217483423, -5.292624217483423, -5.292624217483423, -5.292624217483423, -5.292624217483423, -5.292624217483423, -5.292624217483423, -5.292624217483423, -5.292624217483423, -5.292624217483423, -5.292624217483423, -5.292624217483423, -5.292624217483423, -5.292624217483423, -5.292624217483423, -5.292624217483423]}, {\"line\": {\"color\": \"yellow\"}, \"mode\": \"lines\", \"name\": \"o fakulte\", \"type\": \"scatter\", \"x\": [7.0, 8.0, 9.0, 10.0, 11.0, 12.0, 13.0, 14.0, 15.0, 16.0, 17.0, 18.0, 19.0, 20.0, 21.0, 22.0], \"y\": [0.0, 1.727574889817574, -2.450888804537568, -0.4650412784905509, -5.2657864580877165, 12.88645120734959, 3.2524600241880313, -4.9959912380323095, -6.974941131284787, -0.4263055193592087, -0.9851674511732875, 3.5071138169215677, -0.5858923593517624, -2.7033068544607963, -2.0480484777424506, -0.7955617544899656]}, {\"line\": {\"color\": \"lightgrey\", \"dash\": \"dashdot\"}, \"mode\": \"lines\", \"name\": \"ext o fakulte\", \"type\": \"scatter\", \"x\": [7.0, 8.0, 9.0, 10.0, 11.0, 12.0, 13.0, 14.0, 15.0, 16.0, 17.0, 18.0, 19.0, 20.0, 21.0, 22.0], \"y\": [8.705951560805294, 8.705951560805294, 8.705951560805294, 8.705951560805294, 8.705951560805294, 8.705951560805294, 8.705951560805294, 8.705951560805294, 8.705951560805294, 8.705951560805294, 8.705951560805294, 8.705951560805294, 8.705951560805294, 8.705951560805294, 8.705951560805294, 8.705951560805294]}, {\"line\": {\"color\": \"lightgrey\", \"dash\": \"dashdot\"}, \"mode\": \"lines\", \"name\": \"ext o fakulte\", \"type\": \"scatter\", \"x\": [7.0, 8.0, 9.0, 10.0, 11.0, 12.0, 13.0, 14.0, 15.0, 16.0, 17.0, 18.0, 19.0, 20.0, 21.0, 22.0], \"y\": [-9.496367984396999, -9.496367984396999, -9.496367984396999, -9.496367984396999, -9.496367984396999, -9.496367984396999, -9.496367984396999, -9.496367984396999, -9.496367984396999, -9.496367984396999, -9.496367984396999, -9.496367984396999, -9.496367984396999, -9.496367984396999, -9.496367984396999, -9.496367984396999]}],\n",
              "                        {\"template\": {\"data\": {\"bar\": [{\"error_x\": {\"color\": \"#2a3f5f\"}, \"error_y\": {\"color\": \"#2a3f5f\"}, \"marker\": {\"line\": {\"color\": \"#E5ECF6\", \"width\": 0.5}}, \"type\": \"bar\"}], \"barpolar\": [{\"marker\": {\"line\": {\"color\": \"#E5ECF6\", \"width\": 0.5}}, \"type\": \"barpolar\"}], \"carpet\": [{\"aaxis\": {\"endlinecolor\": \"#2a3f5f\", \"gridcolor\": \"white\", \"linecolor\": \"white\", \"minorgridcolor\": \"white\", \"startlinecolor\": \"#2a3f5f\"}, \"baxis\": {\"endlinecolor\": \"#2a3f5f\", \"gridcolor\": \"white\", \"linecolor\": \"white\", \"minorgridcolor\": \"white\", \"startlinecolor\": \"#2a3f5f\"}, \"type\": \"carpet\"}], \"choropleth\": [{\"colorbar\": {\"outlinewidth\": 0, \"ticks\": \"\"}, \"type\": \"choropleth\"}], \"contour\": [{\"colorbar\": {\"outlinewidth\": 0, \"ticks\": \"\"}, \"colorscale\": [[0.0, \"#0d0887\"], [0.1111111111111111, \"#46039f\"], [0.2222222222222222, \"#7201a8\"], [0.3333333333333333, \"#9c179e\"], [0.4444444444444444, \"#bd3786\"], [0.5555555555555556, \"#d8576b\"], [0.6666666666666666, \"#ed7953\"], [0.7777777777777778, \"#fb9f3a\"], [0.8888888888888888, \"#fdca26\"], [1.0, \"#f0f921\"]], \"type\": \"contour\"}], \"contourcarpet\": [{\"colorbar\": {\"outlinewidth\": 0, \"ticks\": \"\"}, \"type\": \"contourcarpet\"}], \"heatmap\": [{\"colorbar\": {\"outlinewidth\": 0, \"ticks\": \"\"}, \"colorscale\": [[0.0, \"#0d0887\"], [0.1111111111111111, \"#46039f\"], [0.2222222222222222, \"#7201a8\"], [0.3333333333333333, \"#9c179e\"], [0.4444444444444444, \"#bd3786\"], [0.5555555555555556, \"#d8576b\"], [0.6666666666666666, \"#ed7953\"], [0.7777777777777778, \"#fb9f3a\"], [0.8888888888888888, \"#fdca26\"], [1.0, \"#f0f921\"]], \"type\": \"heatmap\"}], \"heatmapgl\": [{\"colorbar\": {\"outlinewidth\": 0, \"ticks\": \"\"}, \"colorscale\": [[0.0, \"#0d0887\"], [0.1111111111111111, \"#46039f\"], [0.2222222222222222, \"#7201a8\"], [0.3333333333333333, \"#9c179e\"], [0.4444444444444444, \"#bd3786\"], [0.5555555555555556, \"#d8576b\"], [0.6666666666666666, \"#ed7953\"], [0.7777777777777778, \"#fb9f3a\"], [0.8888888888888888, \"#fdca26\"], [1.0, \"#f0f921\"]], \"type\": \"heatmapgl\"}], \"histogram\": [{\"marker\": {\"colorbar\": {\"outlinewidth\": 0, \"ticks\": \"\"}}, \"type\": \"histogram\"}], \"histogram2d\": [{\"colorbar\": {\"outlinewidth\": 0, \"ticks\": \"\"}, \"colorscale\": [[0.0, \"#0d0887\"], [0.1111111111111111, \"#46039f\"], [0.2222222222222222, \"#7201a8\"], [0.3333333333333333, \"#9c179e\"], [0.4444444444444444, \"#bd3786\"], [0.5555555555555556, \"#d8576b\"], [0.6666666666666666, \"#ed7953\"], [0.7777777777777778, \"#fb9f3a\"], [0.8888888888888888, \"#fdca26\"], [1.0, \"#f0f921\"]], \"type\": \"histogram2d\"}], \"histogram2dcontour\": [{\"colorbar\": {\"outlinewidth\": 0, \"ticks\": \"\"}, \"colorscale\": [[0.0, \"#0d0887\"], [0.1111111111111111, \"#46039f\"], [0.2222222222222222, \"#7201a8\"], [0.3333333333333333, \"#9c179e\"], [0.4444444444444444, \"#bd3786\"], [0.5555555555555556, \"#d8576b\"], [0.6666666666666666, \"#ed7953\"], [0.7777777777777778, \"#fb9f3a\"], [0.8888888888888888, \"#fdca26\"], [1.0, \"#f0f921\"]], \"type\": \"histogram2dcontour\"}], \"mesh3d\": [{\"colorbar\": {\"outlinewidth\": 0, \"ticks\": \"\"}, \"type\": \"mesh3d\"}], \"parcoords\": [{\"line\": {\"colorbar\": {\"outlinewidth\": 0, \"ticks\": \"\"}}, \"type\": \"parcoords\"}], \"pie\": [{\"automargin\": true, \"type\": \"pie\"}], \"scatter\": [{\"marker\": {\"colorbar\": {\"outlinewidth\": 0, \"ticks\": \"\"}}, \"type\": \"scatter\"}], \"scatter3d\": [{\"line\": {\"colorbar\": {\"outlinewidth\": 0, \"ticks\": \"\"}}, \"marker\": {\"colorbar\": {\"outlinewidth\": 0, \"ticks\": \"\"}}, \"type\": \"scatter3d\"}], \"scattercarpet\": [{\"marker\": {\"colorbar\": {\"outlinewidth\": 0, \"ticks\": \"\"}}, \"type\": \"scattercarpet\"}], \"scattergeo\": [{\"marker\": {\"colorbar\": {\"outlinewidth\": 0, \"ticks\": \"\"}}, \"type\": \"scattergeo\"}], \"scattergl\": [{\"marker\": {\"colorbar\": {\"outlinewidth\": 0, \"ticks\": \"\"}}, \"type\": \"scattergl\"}], \"scattermapbox\": [{\"marker\": {\"colorbar\": {\"outlinewidth\": 0, \"ticks\": \"\"}}, \"type\": \"scattermapbox\"}], \"scatterpolar\": [{\"marker\": {\"colorbar\": {\"outlinewidth\": 0, \"ticks\": \"\"}}, \"type\": \"scatterpolar\"}], \"scatterpolargl\": [{\"marker\": {\"colorbar\": {\"outlinewidth\": 0, \"ticks\": \"\"}}, \"type\": \"scatterpolargl\"}], \"scatterternary\": [{\"marker\": {\"colorbar\": {\"outlinewidth\": 0, \"ticks\": \"\"}}, \"type\": \"scatterternary\"}], \"surface\": [{\"colorbar\": {\"outlinewidth\": 0, \"ticks\": \"\"}, \"colorscale\": [[0.0, \"#0d0887\"], [0.1111111111111111, \"#46039f\"], [0.2222222222222222, \"#7201a8\"], [0.3333333333333333, \"#9c179e\"], [0.4444444444444444, \"#bd3786\"], [0.5555555555555556, \"#d8576b\"], [0.6666666666666666, \"#ed7953\"], [0.7777777777777778, \"#fb9f3a\"], [0.8888888888888888, \"#fdca26\"], [1.0, \"#f0f921\"]], \"type\": \"surface\"}], \"table\": [{\"cells\": {\"fill\": {\"color\": \"#EBF0F8\"}, \"line\": {\"color\": \"white\"}}, \"header\": {\"fill\": {\"color\": \"#C8D4E3\"}, \"line\": {\"color\": \"white\"}}, \"type\": \"table\"}]}, \"layout\": {\"annotationdefaults\": {\"arrowcolor\": \"#2a3f5f\", \"arrowhead\": 0, \"arrowwidth\": 1}, \"coloraxis\": {\"colorbar\": {\"outlinewidth\": 0, \"ticks\": \"\"}}, \"colorscale\": {\"diverging\": [[0, \"#8e0152\"], [0.1, \"#c51b7d\"], [0.2, \"#de77ae\"], [0.3, \"#f1b6da\"], [0.4, \"#fde0ef\"], [0.5, \"#f7f7f7\"], [0.6, \"#e6f5d0\"], [0.7, \"#b8e186\"], [0.8, \"#7fbc41\"], [0.9, \"#4d9221\"], [1, \"#276419\"]], \"sequential\": [[0.0, \"#0d0887\"], [0.1111111111111111, \"#46039f\"], [0.2222222222222222, \"#7201a8\"], [0.3333333333333333, \"#9c179e\"], [0.4444444444444444, \"#bd3786\"], [0.5555555555555556, \"#d8576b\"], [0.6666666666666666, \"#ed7953\"], [0.7777777777777778, \"#fb9f3a\"], [0.8888888888888888, \"#fdca26\"], [1.0, \"#f0f921\"]], \"sequentialminus\": [[0.0, \"#0d0887\"], [0.1111111111111111, \"#46039f\"], [0.2222222222222222, \"#7201a8\"], [0.3333333333333333, \"#9c179e\"], [0.4444444444444444, \"#bd3786\"], [0.5555555555555556, \"#d8576b\"], [0.6666666666666666, \"#ed7953\"], [0.7777777777777778, \"#fb9f3a\"], [0.8888888888888888, \"#fdca26\"], [1.0, \"#f0f921\"]]}, \"colorway\": [\"#636efa\", \"#EF553B\", \"#00cc96\", \"#ab63fa\", \"#FFA15A\", \"#19d3f3\", \"#FF6692\", \"#B6E880\", \"#FF97FF\", \"#FECB52\"], \"font\": {\"color\": \"#2a3f5f\"}, \"geo\": {\"bgcolor\": \"white\", \"lakecolor\": \"white\", \"landcolor\": \"#E5ECF6\", \"showlakes\": true, \"showland\": true, \"subunitcolor\": \"white\"}, \"hoverlabel\": {\"align\": \"left\"}, \"hovermode\": \"closest\", \"mapbox\": {\"style\": \"light\"}, \"paper_bgcolor\": \"white\", \"plot_bgcolor\": \"#E5ECF6\", \"polar\": {\"angularaxis\": {\"gridcolor\": \"white\", \"linecolor\": \"white\", \"ticks\": \"\"}, \"bgcolor\": \"#E5ECF6\", \"radialaxis\": {\"gridcolor\": \"white\", \"linecolor\": \"white\", \"ticks\": \"\"}}, \"scene\": {\"xaxis\": {\"backgroundcolor\": \"#E5ECF6\", \"gridcolor\": \"white\", \"gridwidth\": 2, \"linecolor\": \"white\", \"showbackground\": true, \"ticks\": \"\", \"zerolinecolor\": \"white\"}, \"yaxis\": {\"backgroundcolor\": \"#E5ECF6\", \"gridcolor\": \"white\", \"gridwidth\": 2, \"linecolor\": \"white\", \"showbackground\": true, \"ticks\": \"\", \"zerolinecolor\": \"white\"}, \"zaxis\": {\"backgroundcolor\": \"#E5ECF6\", \"gridcolor\": \"white\", \"gridwidth\": 2, \"linecolor\": \"white\", \"showbackground\": true, \"ticks\": \"\", \"zerolinecolor\": \"white\"}}, \"shapedefaults\": {\"line\": {\"color\": \"#2a3f5f\"}}, \"ternary\": {\"aaxis\": {\"gridcolor\": \"white\", \"linecolor\": \"white\", \"ticks\": \"\"}, \"baxis\": {\"gridcolor\": \"white\", \"linecolor\": \"white\", \"ticks\": \"\"}, \"bgcolor\": \"#E5ECF6\", \"caxis\": {\"gridcolor\": \"white\", \"linecolor\": \"white\", \"ticks\": \"\"}}, \"title\": {\"x\": 0.05}, \"xaxis\": {\"automargin\": true, \"gridcolor\": \"white\", \"linecolor\": \"white\", \"ticks\": \"\", \"title\": {\"standoff\": 15}, \"zerolinecolor\": \"white\", \"zerolinewidth\": 2}, \"yaxis\": {\"automargin\": true, \"gridcolor\": \"white\", \"linecolor\": \"white\", \"ticks\": \"\", \"title\": {\"standoff\": 15}, \"zerolinecolor\": \"white\", \"zerolinewidth\": 2}}}, \"title\": {\"text\": \"Vizualizacia rozdielov pocetnosti - 1_PO\"}, \"xaxis\": {\"title\": {\"text\": \"hour\"}}, \"yaxis\": {\"title\": {\"text\": \"rozdiely\"}}},\n",
              "                        {\"responsive\": true}\n",
              "                    ).then(function(){\n",
              "                            \n",
              "var gd = document.getElementById('19d63a22-08d8-415c-bdad-ef2e4f46ae58');\n",
              "var x = new MutationObserver(function (mutations, observer) {{\n",
              "        var display = window.getComputedStyle(gd).display;\n",
              "        if (!display || display === 'none') {{\n",
              "            console.log([gd, 'removed!']);\n",
              "            Plotly.purge(gd);\n",
              "            observer.disconnect();\n",
              "        }}\n",
              "}});\n",
              "\n",
              "// Listen for the removal of the full notebook cells\n",
              "var notebookContainer = gd.closest('#notebook-container');\n",
              "if (notebookContainer) {{\n",
              "    x.observe(notebookContainer, {childList: true});\n",
              "}}\n",
              "\n",
              "// Listen for the clearing of the current output cell\n",
              "var outputEl = gd.closest('.output');\n",
              "if (outputEl) {{\n",
              "    x.observe(outputEl, {childList: true});\n",
              "}}\n",
              "\n",
              "                        })\n",
              "                };\n",
              "                \n",
              "            </script>\n",
              "        </div>\n",
              "</body>\n",
              "</html>"
            ]
          },
          "metadata": {},
          "output_type": "display_data"
        }
      ],
      "source": [
        "figures['1_PO'].show()"
      ]
    },
    {
      "cell_type": "markdown",
      "metadata": {
        "id": "wHuCrPQxR99a"
      },
      "source": [
        "*Utorok*"
      ]
    },
    {
      "cell_type": "code",
      "execution_count": null,
      "metadata": {
        "colab": {
          "base_uri": "https://localhost:8080/",
          "height": 542
        },
        "id": "BslokUK_Edn3",
        "outputId": "28a895c5-863f-491f-fb70-b908897b7c85"
      },
      "outputs": [
        {
          "data": {
            "text/html": [
              "<html>\n",
              "<head><meta charset=\"utf-8\" /></head>\n",
              "<body>\n",
              "    <div>\n",
              "            <script src=\"https://cdnjs.cloudflare.com/ajax/libs/mathjax/2.7.5/MathJax.js?config=TeX-AMS-MML_SVG\"></script><script type=\"text/javascript\">if (window.MathJax) {MathJax.Hub.Config({SVG: {font: \"STIX-Web\"}});}</script>\n",
              "                <script type=\"text/javascript\">window.PlotlyConfig = {MathJaxConfig: 'local'};</script>\n",
              "        <script src=\"https://cdn.plot.ly/plotly-latest.min.js\"></script>    \n",
              "            <div id=\"4e797ba2-c696-4fa7-b7ed-b31d0c8c9c68\" class=\"plotly-graph-div\" style=\"height:525px; width:100%;\"></div>\n",
              "            <script type=\"text/javascript\">\n",
              "                \n",
              "                    window.PLOTLYENV=window.PLOTLYENV || {};\n",
              "                    \n",
              "                if (document.getElementById(\"4e797ba2-c696-4fa7-b7ed-b31d0c8c9c68\")) {\n",
              "                    Plotly.newPlot(\n",
              "                        '4e797ba2-c696-4fa7-b7ed-b31d0c8c9c68',\n",
              "                        [{\"line\": {\"color\": \"blue\"}, \"mode\": \"lines\", \"name\": \"uvod\", \"type\": \"scatter\", \"x\": [7.0, 8.0, 9.0, 10.0, 11.0, 12.0, 13.0, 14.0, 15.0, 16.0, 17.0, 18.0, 19.0, 20.0, 21.0, 22.0], \"y\": [-0.5716173598077527, -7.068824865245945, 16.800177121333284, -6.646035802552994, -15.589841043739696, -21.87980256892886, 3.224354882372104, 6.407159517237318, 5.078391873316693, 16.700819328293903, -2.001005597009689, -3.1526788190773942, -0.9039462577953552, 2.4265940487595037, 1.6881023977874978, 1.7824506862904084]}, {\"line\": {\"color\": \"lightgrey\", \"dash\": \"dashdot\"}, \"mode\": \"lines\", \"name\": \"ext uvod\", \"type\": \"scatter\", \"x\": [7.0, 8.0, 9.0, 10.0, 11.0, 12.0, 13.0, 14.0, 15.0, 16.0, 17.0, 18.0, 19.0, 20.0, 21.0, 22.0], \"y\": [19.637650968323626, 19.637650968323626, 19.637650968323626, 19.637650968323626, 19.637650968323626, 19.637650968323626, 19.637650968323626, 19.637650968323626, 19.637650968323626, 19.637650968323626, 19.637650968323626, 19.637650968323626, 19.637650968323626, 19.637650968323626, 19.637650968323626, 19.637650968323626]}, {\"line\": {\"color\": \"lightgrey\", \"dash\": \"dashdot\"}, \"mode\": \"lines\", \"name\": \"ext uvod\", \"type\": \"scatter\", \"x\": [7.0, 8.0, 9.0, 10.0, 11.0, 12.0, 13.0, 14.0, 15.0, 16.0, 17.0, 18.0, 19.0, 20.0, 21.0, 22.0], \"y\": [-20.100863775669495, -20.100863775669495, -20.100863775669495, -20.100863775669495, -20.100863775669495, -20.100863775669495, -20.100863775669495, -20.100863775669495, -20.100863775669495, -20.100863775669495, -20.100863775669495, -20.100863775669495, -20.100863775669495, -20.100863775669495, -20.100863775669495, -20.100863775669495]}, {\"line\": {\"color\": \"green\"}, \"mode\": \"lines\", \"name\": \"studium\", \"type\": \"scatter\", \"x\": [7.0, 8.0, 9.0, 10.0, 11.0, 12.0, 13.0, 14.0, 15.0, 16.0, 17.0, 18.0, 19.0, 20.0, 21.0, 22.0], \"y\": [-0.6978427662566082, 7.042011097035855, -12.41021947328518, 1.8441001537024029, 20.851699298753815, 22.353433261783135, -2.396252901193474, -8.939801492666753, -4.476032995726667, -17.95839202960537, 0.7275796957423104, 3.614475969282992, -1.0230196459350545, -2.244760094345324, -0.564164318750974, -8.515264289081301]}, {\"line\": {\"color\": \"lightgrey\", \"dash\": \"dashdot\"}, \"mode\": \"lines\", \"name\": \"ext studium\", \"type\": \"scatter\", \"x\": [7.0, 8.0, 9.0, 10.0, 11.0, 12.0, 13.0, 14.0, 15.0, 16.0, 17.0, 18.0, 19.0, 20.0, 21.0, 22.0], \"y\": [20.87893563307701, 20.87893563307701, 20.87893563307701, 20.87893563307701, 20.87893563307701, 20.87893563307701, 20.87893563307701, 20.87893563307701, 20.87893563307701, 20.87893563307701, 20.87893563307701, 20.87893563307701, 20.87893563307701, 20.87893563307701, 20.87893563307701, 20.87893563307701]}, {\"line\": {\"color\": \"lightgrey\", \"dash\": \"dashdot\"}, \"mode\": \"lines\", \"name\": \"ext studium\", \"type\": \"scatter\", \"x\": [7.0, 8.0, 9.0, 10.0, 11.0, 12.0, 13.0, 14.0, 15.0, 16.0, 17.0, 18.0, 19.0, 20.0, 21.0, 22.0], \"y\": [-21.227991949395285, -21.227991949395285, -21.227991949395285, -21.227991949395285, -21.227991949395285, -21.227991949395285, -21.227991949395285, -21.227991949395285, -21.227991949395285, -21.227991949395285, -21.227991949395285, -21.227991949395285, -21.227991949395285, -21.227991949395285, -21.227991949395285, -21.227991949395285]}, {\"line\": {\"color\": \"red\"}, \"mode\": \"lines\", \"name\": \"oznamy\", \"type\": \"scatter\", \"x\": [7.0, 8.0, 9.0, 10.0, 11.0, 12.0, 13.0, 14.0, 15.0, 16.0, 17.0, 18.0, 19.0, 20.0, 21.0, 22.0], \"y\": [1.2694601260643612, 0.026813768210090627, -4.389957648048109, 4.801935648850587, -5.261858255014123, -0.4736306928542735, -0.8281019811786345, 2.532641975429441, -0.6023588775900246, -0.7424272986885301, -0.7265740987326246, -0.46179715020559997, 1.9269659037304094, -0.18183395441417982, -1.123938079036522, 3.7328136027908867]}, {\"line\": {\"color\": \"lightgrey\", \"dash\": \"dashdot\"}, \"mode\": \"lines\", \"name\": \"ext oznamy\", \"type\": \"scatter\", \"x\": [7.0, 8.0, 9.0, 10.0, 11.0, 12.0, 13.0, 14.0, 15.0, 16.0, 17.0, 18.0, 19.0, 20.0, 21.0, 22.0], \"y\": [5.120641924191299, 5.120641924191299, 5.120641924191299, 5.120641924191299, 5.120641924191299, 5.120641924191299, 5.120641924191299, 5.120641924191299, 5.120641924191299, 5.120641924191299, 5.120641924191299, 5.120641924191299, 5.120641924191299, 5.120641924191299, 5.120641924191299, 5.120641924191299]}, {\"line\": {\"color\": \"lightgrey\", \"dash\": \"dashdot\"}, \"mode\": \"lines\", \"name\": \"ext oznamy\", \"type\": \"scatter\", \"x\": [7.0, 8.0, 9.0, 10.0, 11.0, 12.0, 13.0, 14.0, 15.0, 16.0, 17.0, 18.0, 19.0, 20.0, 21.0, 22.0], \"y\": [-5.183372800527154, -5.183372800527154, -5.183372800527154, -5.183372800527154, -5.183372800527154, -5.183372800527154, -5.183372800527154, -5.183372800527154, -5.183372800527154, -5.183372800527154, -5.183372800527154, -5.183372800527154, -5.183372800527154, -5.183372800527154, -5.183372800527154, -5.183372800527154]}, {\"line\": {\"color\": \"yellow\"}, \"mode\": \"lines\", \"name\": \"o fakulte\", \"type\": \"scatter\", \"x\": [7.0, 8.0, 9.0, 10.0, 11.0, 12.0, 13.0, 14.0, 15.0, 16.0, 17.0, 18.0, 19.0, 20.0, 21.0, 22.0], \"y\": [-0.0612266090688842, -0.2010130072975871, -0.7718965629832515, -0.8661034840243317, -0.9874370385268458, -0.7765830088321102, -0.5271840413502236, -0.6770369007544602, -0.12017446374078818, 1.6535489154250387, 1.6662806407247295, -0.2678944358752911, -0.18185996065706617, -0.027797752343974337, -0.15116527145567193, 2.161283045999964]}, {\"line\": {\"color\": \"lightgrey\", \"dash\": \"dashdot\"}, \"mode\": \"lines\", \"name\": \"ext o fakulte\", \"type\": \"scatter\", \"x\": [7.0, 8.0, 9.0, 10.0, 11.0, 12.0, 13.0, 14.0, 15.0, 16.0, 17.0, 18.0, 19.0, 20.0, 21.0, 22.0], \"y\": [1.9256078266328038, 1.9256078266328038, 1.9256078266328038, 1.9256078266328038, 1.9256078266328038, 1.9256078266328038, 1.9256078266328038, 1.9256078266328038, 1.9256078266328038, 1.9256078266328038, 1.9256078266328038, 1.9256078266328038, 1.9256078266328038, 1.9256078266328038, 1.9256078266328038, 1.9256078266328038]}, {\"line\": {\"color\": \"lightgrey\", \"dash\": \"dashdot\"}, \"mode\": \"lines\", \"name\": \"ext o fakulte\", \"type\": \"scatter\", \"x\": [7.0, 8.0, 9.0, 10.0, 11.0, 12.0, 13.0, 14.0, 15.0, 16.0, 17.0, 18.0, 19.0, 20.0, 21.0, 22.0], \"y\": [-1.9426403184778982, -1.9426403184778982, -1.9426403184778982, -1.9426403184778982, -1.9426403184778982, -1.9426403184778982, -1.9426403184778982, -1.9426403184778982, -1.9426403184778982, -1.9426403184778982, -1.9426403184778982, -1.9426403184778982, -1.9426403184778982, -1.9426403184778982, -1.9426403184778982, -1.9426403184778982]}],\n",
              "                        {\"template\": {\"data\": {\"bar\": [{\"error_x\": {\"color\": \"#2a3f5f\"}, \"error_y\": {\"color\": \"#2a3f5f\"}, \"marker\": {\"line\": {\"color\": \"#E5ECF6\", \"width\": 0.5}}, \"type\": \"bar\"}], \"barpolar\": [{\"marker\": {\"line\": {\"color\": \"#E5ECF6\", \"width\": 0.5}}, \"type\": \"barpolar\"}], \"carpet\": [{\"aaxis\": {\"endlinecolor\": \"#2a3f5f\", \"gridcolor\": \"white\", \"linecolor\": \"white\", \"minorgridcolor\": \"white\", \"startlinecolor\": \"#2a3f5f\"}, \"baxis\": {\"endlinecolor\": \"#2a3f5f\", \"gridcolor\": \"white\", \"linecolor\": \"white\", \"minorgridcolor\": \"white\", \"startlinecolor\": \"#2a3f5f\"}, \"type\": \"carpet\"}], \"choropleth\": [{\"colorbar\": {\"outlinewidth\": 0, \"ticks\": \"\"}, \"type\": \"choropleth\"}], \"contour\": [{\"colorbar\": {\"outlinewidth\": 0, \"ticks\": \"\"}, \"colorscale\": [[0.0, \"#0d0887\"], [0.1111111111111111, \"#46039f\"], [0.2222222222222222, \"#7201a8\"], [0.3333333333333333, \"#9c179e\"], [0.4444444444444444, \"#bd3786\"], [0.5555555555555556, \"#d8576b\"], [0.6666666666666666, \"#ed7953\"], [0.7777777777777778, \"#fb9f3a\"], [0.8888888888888888, \"#fdca26\"], [1.0, \"#f0f921\"]], \"type\": \"contour\"}], \"contourcarpet\": [{\"colorbar\": {\"outlinewidth\": 0, \"ticks\": \"\"}, \"type\": \"contourcarpet\"}], \"heatmap\": [{\"colorbar\": {\"outlinewidth\": 0, \"ticks\": \"\"}, \"colorscale\": [[0.0, \"#0d0887\"], [0.1111111111111111, \"#46039f\"], [0.2222222222222222, \"#7201a8\"], [0.3333333333333333, \"#9c179e\"], [0.4444444444444444, \"#bd3786\"], [0.5555555555555556, \"#d8576b\"], [0.6666666666666666, \"#ed7953\"], [0.7777777777777778, \"#fb9f3a\"], [0.8888888888888888, \"#fdca26\"], [1.0, \"#f0f921\"]], \"type\": \"heatmap\"}], \"heatmapgl\": [{\"colorbar\": {\"outlinewidth\": 0, \"ticks\": \"\"}, \"colorscale\": [[0.0, \"#0d0887\"], [0.1111111111111111, \"#46039f\"], [0.2222222222222222, \"#7201a8\"], [0.3333333333333333, \"#9c179e\"], [0.4444444444444444, \"#bd3786\"], [0.5555555555555556, \"#d8576b\"], [0.6666666666666666, \"#ed7953\"], [0.7777777777777778, \"#fb9f3a\"], [0.8888888888888888, \"#fdca26\"], [1.0, \"#f0f921\"]], \"type\": \"heatmapgl\"}], \"histogram\": [{\"marker\": {\"colorbar\": {\"outlinewidth\": 0, \"ticks\": \"\"}}, \"type\": \"histogram\"}], \"histogram2d\": [{\"colorbar\": {\"outlinewidth\": 0, \"ticks\": \"\"}, \"colorscale\": [[0.0, \"#0d0887\"], [0.1111111111111111, \"#46039f\"], [0.2222222222222222, \"#7201a8\"], [0.3333333333333333, \"#9c179e\"], [0.4444444444444444, \"#bd3786\"], [0.5555555555555556, \"#d8576b\"], [0.6666666666666666, \"#ed7953\"], [0.7777777777777778, \"#fb9f3a\"], [0.8888888888888888, \"#fdca26\"], [1.0, \"#f0f921\"]], \"type\": \"histogram2d\"}], \"histogram2dcontour\": [{\"colorbar\": {\"outlinewidth\": 0, \"ticks\": \"\"}, \"colorscale\": [[0.0, \"#0d0887\"], [0.1111111111111111, \"#46039f\"], [0.2222222222222222, \"#7201a8\"], [0.3333333333333333, \"#9c179e\"], [0.4444444444444444, \"#bd3786\"], [0.5555555555555556, \"#d8576b\"], [0.6666666666666666, \"#ed7953\"], [0.7777777777777778, \"#fb9f3a\"], [0.8888888888888888, \"#fdca26\"], [1.0, \"#f0f921\"]], \"type\": \"histogram2dcontour\"}], \"mesh3d\": [{\"colorbar\": {\"outlinewidth\": 0, \"ticks\": \"\"}, \"type\": \"mesh3d\"}], \"parcoords\": [{\"line\": {\"colorbar\": {\"outlinewidth\": 0, \"ticks\": \"\"}}, \"type\": \"parcoords\"}], \"pie\": [{\"automargin\": true, \"type\": \"pie\"}], \"scatter\": [{\"marker\": {\"colorbar\": {\"outlinewidth\": 0, \"ticks\": \"\"}}, \"type\": \"scatter\"}], \"scatter3d\": [{\"line\": {\"colorbar\": {\"outlinewidth\": 0, \"ticks\": \"\"}}, \"marker\": {\"colorbar\": {\"outlinewidth\": 0, \"ticks\": \"\"}}, \"type\": \"scatter3d\"}], \"scattercarpet\": [{\"marker\": {\"colorbar\": {\"outlinewidth\": 0, \"ticks\": \"\"}}, \"type\": \"scattercarpet\"}], \"scattergeo\": [{\"marker\": {\"colorbar\": {\"outlinewidth\": 0, \"ticks\": \"\"}}, \"type\": \"scattergeo\"}], \"scattergl\": [{\"marker\": {\"colorbar\": {\"outlinewidth\": 0, \"ticks\": \"\"}}, \"type\": \"scattergl\"}], \"scattermapbox\": [{\"marker\": {\"colorbar\": {\"outlinewidth\": 0, \"ticks\": \"\"}}, \"type\": \"scattermapbox\"}], \"scatterpolar\": [{\"marker\": {\"colorbar\": {\"outlinewidth\": 0, \"ticks\": \"\"}}, \"type\": \"scatterpolar\"}], \"scatterpolargl\": [{\"marker\": {\"colorbar\": {\"outlinewidth\": 0, \"ticks\": \"\"}}, \"type\": \"scatterpolargl\"}], \"scatterternary\": [{\"marker\": {\"colorbar\": {\"outlinewidth\": 0, \"ticks\": \"\"}}, \"type\": \"scatterternary\"}], \"surface\": [{\"colorbar\": {\"outlinewidth\": 0, \"ticks\": \"\"}, \"colorscale\": [[0.0, \"#0d0887\"], [0.1111111111111111, \"#46039f\"], [0.2222222222222222, \"#7201a8\"], [0.3333333333333333, \"#9c179e\"], [0.4444444444444444, \"#bd3786\"], [0.5555555555555556, \"#d8576b\"], [0.6666666666666666, \"#ed7953\"], [0.7777777777777778, \"#fb9f3a\"], [0.8888888888888888, \"#fdca26\"], [1.0, \"#f0f921\"]], \"type\": \"surface\"}], \"table\": [{\"cells\": {\"fill\": {\"color\": \"#EBF0F8\"}, \"line\": {\"color\": \"white\"}}, \"header\": {\"fill\": {\"color\": \"#C8D4E3\"}, \"line\": {\"color\": \"white\"}}, \"type\": \"table\"}]}, \"layout\": {\"annotationdefaults\": {\"arrowcolor\": \"#2a3f5f\", \"arrowhead\": 0, \"arrowwidth\": 1}, \"coloraxis\": {\"colorbar\": {\"outlinewidth\": 0, \"ticks\": \"\"}}, \"colorscale\": {\"diverging\": [[0, \"#8e0152\"], [0.1, \"#c51b7d\"], [0.2, \"#de77ae\"], [0.3, \"#f1b6da\"], [0.4, \"#fde0ef\"], [0.5, \"#f7f7f7\"], [0.6, \"#e6f5d0\"], [0.7, \"#b8e186\"], [0.8, \"#7fbc41\"], [0.9, \"#4d9221\"], [1, \"#276419\"]], \"sequential\": [[0.0, \"#0d0887\"], [0.1111111111111111, \"#46039f\"], [0.2222222222222222, \"#7201a8\"], [0.3333333333333333, \"#9c179e\"], [0.4444444444444444, \"#bd3786\"], [0.5555555555555556, \"#d8576b\"], [0.6666666666666666, \"#ed7953\"], [0.7777777777777778, \"#fb9f3a\"], [0.8888888888888888, \"#fdca26\"], [1.0, \"#f0f921\"]], \"sequentialminus\": [[0.0, \"#0d0887\"], [0.1111111111111111, \"#46039f\"], [0.2222222222222222, \"#7201a8\"], [0.3333333333333333, \"#9c179e\"], [0.4444444444444444, \"#bd3786\"], [0.5555555555555556, \"#d8576b\"], [0.6666666666666666, \"#ed7953\"], [0.7777777777777778, \"#fb9f3a\"], [0.8888888888888888, \"#fdca26\"], [1.0, \"#f0f921\"]]}, \"colorway\": [\"#636efa\", \"#EF553B\", \"#00cc96\", \"#ab63fa\", \"#FFA15A\", \"#19d3f3\", \"#FF6692\", \"#B6E880\", \"#FF97FF\", \"#FECB52\"], \"font\": {\"color\": \"#2a3f5f\"}, \"geo\": {\"bgcolor\": \"white\", \"lakecolor\": \"white\", \"landcolor\": \"#E5ECF6\", \"showlakes\": true, \"showland\": true, \"subunitcolor\": \"white\"}, \"hoverlabel\": {\"align\": \"left\"}, \"hovermode\": \"closest\", \"mapbox\": {\"style\": \"light\"}, \"paper_bgcolor\": \"white\", \"plot_bgcolor\": \"#E5ECF6\", \"polar\": {\"angularaxis\": {\"gridcolor\": \"white\", \"linecolor\": \"white\", \"ticks\": \"\"}, \"bgcolor\": \"#E5ECF6\", \"radialaxis\": {\"gridcolor\": \"white\", \"linecolor\": \"white\", \"ticks\": \"\"}}, \"scene\": {\"xaxis\": {\"backgroundcolor\": \"#E5ECF6\", \"gridcolor\": \"white\", \"gridwidth\": 2, \"linecolor\": \"white\", \"showbackground\": true, \"ticks\": \"\", \"zerolinecolor\": \"white\"}, \"yaxis\": {\"backgroundcolor\": \"#E5ECF6\", \"gridcolor\": \"white\", \"gridwidth\": 2, \"linecolor\": \"white\", \"showbackground\": true, \"ticks\": \"\", \"zerolinecolor\": \"white\"}, \"zaxis\": {\"backgroundcolor\": \"#E5ECF6\", \"gridcolor\": \"white\", \"gridwidth\": 2, \"linecolor\": \"white\", \"showbackground\": true, \"ticks\": \"\", \"zerolinecolor\": \"white\"}}, \"shapedefaults\": {\"line\": {\"color\": \"#2a3f5f\"}}, \"ternary\": {\"aaxis\": {\"gridcolor\": \"white\", \"linecolor\": \"white\", \"ticks\": \"\"}, \"baxis\": {\"gridcolor\": \"white\", \"linecolor\": \"white\", \"ticks\": \"\"}, \"bgcolor\": \"#E5ECF6\", \"caxis\": {\"gridcolor\": \"white\", \"linecolor\": \"white\", \"ticks\": \"\"}}, \"title\": {\"x\": 0.05}, \"xaxis\": {\"automargin\": true, \"gridcolor\": \"white\", \"linecolor\": \"white\", \"ticks\": \"\", \"title\": {\"standoff\": 15}, \"zerolinecolor\": \"white\", \"zerolinewidth\": 2}, \"yaxis\": {\"automargin\": true, \"gridcolor\": \"white\", \"linecolor\": \"white\", \"ticks\": \"\", \"title\": {\"standoff\": 15}, \"zerolinecolor\": \"white\", \"zerolinewidth\": 2}}}, \"title\": {\"text\": \"Vizualizacia rozdielov pocetnosti - 2_UT\"}, \"xaxis\": {\"title\": {\"text\": \"hour\"}}, \"yaxis\": {\"title\": {\"text\": \"rozdiely\"}}},\n",
              "                        {\"responsive\": true}\n",
              "                    ).then(function(){\n",
              "                            \n",
              "var gd = document.getElementById('4e797ba2-c696-4fa7-b7ed-b31d0c8c9c68');\n",
              "var x = new MutationObserver(function (mutations, observer) {{\n",
              "        var display = window.getComputedStyle(gd).display;\n",
              "        if (!display || display === 'none') {{\n",
              "            console.log([gd, 'removed!']);\n",
              "            Plotly.purge(gd);\n",
              "            observer.disconnect();\n",
              "        }}\n",
              "}});\n",
              "\n",
              "// Listen for the removal of the full notebook cells\n",
              "var notebookContainer = gd.closest('#notebook-container');\n",
              "if (notebookContainer) {{\n",
              "    x.observe(notebookContainer, {childList: true});\n",
              "}}\n",
              "\n",
              "// Listen for the clearing of the current output cell\n",
              "var outputEl = gd.closest('.output');\n",
              "if (outputEl) {{\n",
              "    x.observe(outputEl, {childList: true});\n",
              "}}\n",
              "\n",
              "                        })\n",
              "                };\n",
              "                \n",
              "            </script>\n",
              "        </div>\n",
              "</body>\n",
              "</html>"
            ]
          },
          "metadata": {},
          "output_type": "display_data"
        }
      ],
      "source": [
        "figures['2_UT'].show()"
      ]
    },
    {
      "cell_type": "markdown",
      "metadata": {
        "id": "zQ0u5D-_SFhY"
      },
      "source": [
        "*Streda*"
      ]
    },
    {
      "cell_type": "code",
      "execution_count": null,
      "metadata": {
        "colab": {
          "base_uri": "https://localhost:8080/",
          "height": 542
        },
        "id": "JERb-JFRSBHY",
        "outputId": "b78b6144-f412-433a-ae3c-60f20cd81a83"
      },
      "outputs": [
        {
          "data": {
            "text/html": [
              "<html>\n",
              "<head><meta charset=\"utf-8\" /></head>\n",
              "<body>\n",
              "    <div>\n",
              "            <script src=\"https://cdnjs.cloudflare.com/ajax/libs/mathjax/2.7.5/MathJax.js?config=TeX-AMS-MML_SVG\"></script><script type=\"text/javascript\">if (window.MathJax) {MathJax.Hub.Config({SVG: {font: \"STIX-Web\"}});}</script>\n",
              "                <script type=\"text/javascript\">window.PlotlyConfig = {MathJaxConfig: 'local'};</script>\n",
              "        <script src=\"https://cdn.plot.ly/plotly-latest.min.js\"></script>    \n",
              "            <div id=\"2ae6e06f-c10e-4e81-aab7-39fd492bc9d1\" class=\"plotly-graph-div\" style=\"height:525px; width:100%;\"></div>\n",
              "            <script type=\"text/javascript\">\n",
              "                \n",
              "                    window.PLOTLYENV=window.PLOTLYENV || {};\n",
              "                    \n",
              "                if (document.getElementById(\"2ae6e06f-c10e-4e81-aab7-39fd492bc9d1\")) {\n",
              "                    Plotly.newPlot(\n",
              "                        '2ae6e06f-c10e-4e81-aab7-39fd492bc9d1',\n",
              "                        [{\"line\": {\"color\": \"blue\"}, \"mode\": \"lines\", \"name\": \"uvod\", \"type\": \"scatter\", \"x\": [7.0, 8.0, 9.0, 10.0, 11.0, 12.0, 13.0, 14.0, 15.0, 16.0, 17.0, 18.0, 19.0, 20.0, 21.0, 22.0], \"y\": [2.548252787102392, -0.6535682988982039, -3.3925729925170387, -0.563301197633681, 5.743178101349194, -20.92193476844424, -8.453315831174159, 6.276657429533877, -5.748775178491568, 6.239410512623124, 0.07467899169251968, 1.1584328789239766, -1.385249864467071, 4.331065298039631, 4.624857881372325, 0.0]}, {\"line\": {\"color\": \"lightgrey\", \"dash\": \"dashdot\"}, \"mode\": \"lines\", \"name\": \"ext uvod\", \"type\": \"scatter\", \"x\": [7.0, 8.0, 9.0, 10.0, 11.0, 12.0, 13.0, 14.0, 15.0, 16.0, 17.0, 18.0, 19.0, 20.0, 21.0, 22.0], \"y\": [13.120452096063955, 13.120452096063955, 13.120452096063955, 13.120452096063955, 13.120452096063955, 13.120452096063955, 13.120452096063955, 13.120452096063955, 13.120452096063955, 13.120452096063955, 13.120452096063955, 13.120452096063955, 13.120452096063955, 13.120452096063955, 13.120452096063955, 13.120452096063955]}, {\"line\": {\"color\": \"lightgrey\", \"dash\": \"dashdot\"}, \"mode\": \"lines\", \"name\": \"ext uvod\", \"type\": \"scatter\", \"x\": [7.0, 8.0, 9.0, 10.0, 11.0, 12.0, 13.0, 14.0, 15.0, 16.0, 17.0, 18.0, 19.0, 20.0, 21.0, 22.0], \"y\": [-14.385725127437569, -14.385725127437569, -14.385725127437569, -14.385725127437569, -14.385725127437569, -14.385725127437569, -14.385725127437569, -14.385725127437569, -14.385725127437569, -14.385725127437569, -14.385725127437569, -14.385725127437569, -14.385725127437569, -14.385725127437569, -14.385725127437569, -14.385725127437569]}, {\"line\": {\"color\": \"green\"}, \"mode\": \"lines\", \"name\": \"studium\", \"type\": \"scatter\", \"x\": [7.0, 8.0, 9.0, 10.0, 11.0, 12.0, 13.0, 14.0, 15.0, 16.0, 17.0, 18.0, 19.0, 20.0, 21.0, 22.0], \"y\": [-1.1642061837647621, 1.4151242074863037, 3.0761610195288815, 1.1458006585643137, -8.642653883495232, 19.836629053273626, 7.302889068061347, -10.753209454548934, 2.5515749397802594, -8.16755311516767, 0.15095394390097727, -3.5748920729056106, 1.5748326533766912, -4.000044635226377, -4.9026431156565895, 0.0]}, {\"line\": {\"color\": \"lightgrey\", \"dash\": \"dashdot\"}, \"mode\": \"lines\", \"name\": \"ext studium\", \"type\": \"scatter\", \"x\": [7.0, 8.0, 9.0, 10.0, 11.0, 12.0, 13.0, 14.0, 15.0, 16.0, 17.0, 18.0, 19.0, 20.0, 21.0, 22.0], \"y\": [14.151155031007729, 14.151155031007729, 14.151155031007729, 14.151155031007729, 14.151155031007729, 14.151155031007729, 14.151155031007729, 14.151155031007729, 14.151155031007729, 14.151155031007729, 14.151155031007729, 14.151155031007729, 14.151155031007729, 14.151155031007729, 14.151155031007729, 14.151155031007729]}, {\"line\": {\"color\": \"lightgrey\", \"dash\": \"dashdot\"}, \"mode\": \"lines\", \"name\": \"ext studium\", \"type\": \"scatter\", \"x\": [7.0, 8.0, 9.0, 10.0, 11.0, 12.0, 13.0, 14.0, 15.0, 16.0, 17.0, 18.0, 19.0, 20.0, 21.0, 22.0], \"y\": [-14.670059645606827, -14.670059645606827, -14.670059645606827, -14.670059645606827, -14.670059645606827, -14.670059645606827, -14.670059645606827, -14.670059645606827, -14.670059645606827, -14.670059645606827, -14.670059645606827, -14.670059645606827, -14.670059645606827, -14.670059645606827, -14.670059645606827, -14.670059645606827]}, {\"line\": {\"color\": \"red\"}, \"mode\": \"lines\", \"name\": \"oznamy\", \"type\": \"scatter\", \"x\": [7.0, 8.0, 9.0, 10.0, 11.0, 12.0, 13.0, 14.0, 15.0, 16.0, 17.0, 18.0, 19.0, 20.0, 21.0, 22.0], \"y\": [-1.3840466033376315, -0.7615559085880994, 0.3164119729881607, -0.5824994609306309, -2.100524217853957, 1.0853057151706111, 1.1504267631128136, 1.4765520250150388, 1.1972002387113063, 0.9281426025445612, -0.22563293559349723, -0.5835408060183668, -0.18958278890961996, -0.3310206628132537, -0.7222147657157358, 0.0]}, {\"line\": {\"color\": \"lightgrey\", \"dash\": \"dashdot\"}, \"mode\": \"lines\", \"name\": \"ext oznamy\", \"type\": \"scatter\", \"x\": [7.0, 8.0, 9.0, 10.0, 11.0, 12.0, 13.0, 14.0, 15.0, 16.0, 17.0, 18.0, 19.0, 20.0, 21.0, 22.0], \"y\": [1.9777240494993187, 1.9777240494993187, 1.9777240494993187, 1.9777240494993187, 1.9777240494993187, 1.9777240494993187, 1.9777240494993187, 1.9777240494993187, 1.9777240494993187, 1.9777240494993187, 1.9777240494993187, 1.9777240494993187, 1.9777240494993187, 1.9777240494993187, 1.9777240494993187, 1.9777240494993187]}, {\"line\": {\"color\": \"lightgrey\", \"dash\": \"dashdot\"}, \"mode\": \"lines\", \"name\": \"ext oznamy\", \"type\": \"scatter\", \"x\": [7.0, 8.0, 9.0, 10.0, 11.0, 12.0, 13.0, 14.0, 15.0, 16.0, 17.0, 18.0, 19.0, 20.0, 21.0, 22.0], \"y\": [-2.0685464035266063, -2.0685464035266063, -2.0685464035266063, -2.0685464035266063, -2.0685464035266063, -2.0685464035266063, -2.0685464035266063, -2.0685464035266063, -2.0685464035266063, -2.0685464035266063, -2.0685464035266063, -2.0685464035266063, -2.0685464035266063, -2.0685464035266063, -2.0685464035266063, -2.0685464035266063]}, {\"line\": {\"color\": \"yellow\"}, \"mode\": \"lines\", \"name\": \"o fakulte\", \"type\": \"scatter\", \"x\": [7.0, 8.0, 9.0, 10.0, 11.0, 12.0, 13.0, 14.0, 15.0, 16.0, 17.0, 18.0, 19.0, 20.0, 21.0, 22.0], \"y\": [-1.2496360509664655, -0.7888867524074218, -1.4227134089095566, -0.35683288731006646, 2.8580026047904368, -1.4558241069499562, -1.5103840470769436, 0.8404126661532731, 1.2974568401606925, -1.6819953326410717, -0.19174414834508496, 2.5291404255406977, -0.14168483101359203, -0.22348948061272586, 0.5703684010711083, 0.0]}, {\"line\": {\"color\": \"lightgrey\", \"dash\": \"dashdot\"}, \"mode\": \"lines\", \"name\": \"ext o fakulte\", \"type\": \"scatter\", \"x\": [7.0, 8.0, 9.0, 10.0, 11.0, 12.0, 13.0, 14.0, 15.0, 16.0, 17.0, 18.0, 19.0, 20.0, 21.0, 22.0], \"y\": [2.7179989862874634, 2.7179989862874634, 2.7179989862874634, 2.7179989862874634, 2.7179989862874634, 2.7179989862874634, 2.7179989862874634, 2.7179989862874634, 2.7179989862874634, 2.7179989862874634, 2.7179989862874634, 2.7179989862874634, 2.7179989862874634, 2.7179989862874634, 2.7179989862874634, 2.7179989862874634]}, {\"line\": {\"color\": \"lightgrey\", \"dash\": \"dashdot\"}, \"mode\": \"lines\", \"name\": \"ext o fakulte\", \"type\": \"scatter\", \"x\": [7.0, 8.0, 9.0, 10.0, 11.0, 12.0, 13.0, 14.0, 15.0, 16.0, 17.0, 18.0, 19.0, 20.0, 21.0, 22.0], \"y\": [-2.8339752498520476, -2.8339752498520476, -2.8339752498520476, -2.8339752498520476, -2.8339752498520476, -2.8339752498520476, -2.8339752498520476, -2.8339752498520476, -2.8339752498520476, -2.8339752498520476, -2.8339752498520476, -2.8339752498520476, -2.8339752498520476, -2.8339752498520476, -2.8339752498520476, -2.8339752498520476]}],\n",
              "                        {\"template\": {\"data\": {\"bar\": [{\"error_x\": {\"color\": \"#2a3f5f\"}, \"error_y\": {\"color\": \"#2a3f5f\"}, \"marker\": {\"line\": {\"color\": \"#E5ECF6\", \"width\": 0.5}}, \"type\": \"bar\"}], \"barpolar\": [{\"marker\": {\"line\": {\"color\": \"#E5ECF6\", \"width\": 0.5}}, \"type\": \"barpolar\"}], \"carpet\": [{\"aaxis\": {\"endlinecolor\": \"#2a3f5f\", \"gridcolor\": \"white\", \"linecolor\": \"white\", \"minorgridcolor\": \"white\", \"startlinecolor\": \"#2a3f5f\"}, \"baxis\": {\"endlinecolor\": \"#2a3f5f\", \"gridcolor\": \"white\", \"linecolor\": \"white\", \"minorgridcolor\": \"white\", \"startlinecolor\": \"#2a3f5f\"}, \"type\": \"carpet\"}], \"choropleth\": [{\"colorbar\": {\"outlinewidth\": 0, \"ticks\": \"\"}, \"type\": \"choropleth\"}], \"contour\": [{\"colorbar\": {\"outlinewidth\": 0, \"ticks\": \"\"}, \"colorscale\": [[0.0, \"#0d0887\"], [0.1111111111111111, \"#46039f\"], [0.2222222222222222, \"#7201a8\"], [0.3333333333333333, \"#9c179e\"], [0.4444444444444444, \"#bd3786\"], [0.5555555555555556, \"#d8576b\"], [0.6666666666666666, \"#ed7953\"], [0.7777777777777778, \"#fb9f3a\"], [0.8888888888888888, \"#fdca26\"], [1.0, \"#f0f921\"]], \"type\": \"contour\"}], \"contourcarpet\": [{\"colorbar\": {\"outlinewidth\": 0, \"ticks\": \"\"}, \"type\": \"contourcarpet\"}], \"heatmap\": [{\"colorbar\": {\"outlinewidth\": 0, \"ticks\": \"\"}, \"colorscale\": [[0.0, \"#0d0887\"], [0.1111111111111111, \"#46039f\"], [0.2222222222222222, \"#7201a8\"], [0.3333333333333333, \"#9c179e\"], [0.4444444444444444, \"#bd3786\"], [0.5555555555555556, \"#d8576b\"], [0.6666666666666666, \"#ed7953\"], [0.7777777777777778, \"#fb9f3a\"], [0.8888888888888888, \"#fdca26\"], [1.0, \"#f0f921\"]], \"type\": \"heatmap\"}], \"heatmapgl\": [{\"colorbar\": {\"outlinewidth\": 0, \"ticks\": \"\"}, \"colorscale\": [[0.0, \"#0d0887\"], [0.1111111111111111, \"#46039f\"], [0.2222222222222222, \"#7201a8\"], [0.3333333333333333, \"#9c179e\"], [0.4444444444444444, \"#bd3786\"], [0.5555555555555556, \"#d8576b\"], [0.6666666666666666, \"#ed7953\"], [0.7777777777777778, \"#fb9f3a\"], [0.8888888888888888, \"#fdca26\"], [1.0, \"#f0f921\"]], \"type\": \"heatmapgl\"}], \"histogram\": [{\"marker\": {\"colorbar\": {\"outlinewidth\": 0, \"ticks\": \"\"}}, \"type\": \"histogram\"}], \"histogram2d\": [{\"colorbar\": {\"outlinewidth\": 0, \"ticks\": \"\"}, \"colorscale\": [[0.0, \"#0d0887\"], [0.1111111111111111, \"#46039f\"], [0.2222222222222222, \"#7201a8\"], [0.3333333333333333, \"#9c179e\"], [0.4444444444444444, \"#bd3786\"], [0.5555555555555556, \"#d8576b\"], [0.6666666666666666, \"#ed7953\"], [0.7777777777777778, \"#fb9f3a\"], [0.8888888888888888, \"#fdca26\"], [1.0, \"#f0f921\"]], \"type\": \"histogram2d\"}], \"histogram2dcontour\": [{\"colorbar\": {\"outlinewidth\": 0, \"ticks\": \"\"}, \"colorscale\": [[0.0, \"#0d0887\"], [0.1111111111111111, \"#46039f\"], [0.2222222222222222, \"#7201a8\"], [0.3333333333333333, \"#9c179e\"], [0.4444444444444444, \"#bd3786\"], [0.5555555555555556, \"#d8576b\"], [0.6666666666666666, \"#ed7953\"], [0.7777777777777778, \"#fb9f3a\"], [0.8888888888888888, \"#fdca26\"], [1.0, \"#f0f921\"]], \"type\": \"histogram2dcontour\"}], \"mesh3d\": [{\"colorbar\": {\"outlinewidth\": 0, \"ticks\": \"\"}, \"type\": \"mesh3d\"}], \"parcoords\": [{\"line\": {\"colorbar\": {\"outlinewidth\": 0, \"ticks\": \"\"}}, \"type\": \"parcoords\"}], \"pie\": [{\"automargin\": true, \"type\": \"pie\"}], \"scatter\": [{\"marker\": {\"colorbar\": {\"outlinewidth\": 0, \"ticks\": \"\"}}, \"type\": \"scatter\"}], \"scatter3d\": [{\"line\": {\"colorbar\": {\"outlinewidth\": 0, \"ticks\": \"\"}}, \"marker\": {\"colorbar\": {\"outlinewidth\": 0, \"ticks\": \"\"}}, \"type\": \"scatter3d\"}], \"scattercarpet\": [{\"marker\": {\"colorbar\": {\"outlinewidth\": 0, \"ticks\": \"\"}}, \"type\": \"scattercarpet\"}], \"scattergeo\": [{\"marker\": {\"colorbar\": {\"outlinewidth\": 0, \"ticks\": \"\"}}, \"type\": \"scattergeo\"}], \"scattergl\": [{\"marker\": {\"colorbar\": {\"outlinewidth\": 0, \"ticks\": \"\"}}, \"type\": \"scattergl\"}], \"scattermapbox\": [{\"marker\": {\"colorbar\": {\"outlinewidth\": 0, \"ticks\": \"\"}}, \"type\": \"scattermapbox\"}], \"scatterpolar\": [{\"marker\": {\"colorbar\": {\"outlinewidth\": 0, \"ticks\": \"\"}}, \"type\": \"scatterpolar\"}], \"scatterpolargl\": [{\"marker\": {\"colorbar\": {\"outlinewidth\": 0, \"ticks\": \"\"}}, \"type\": \"scatterpolargl\"}], \"scatterternary\": [{\"marker\": {\"colorbar\": {\"outlinewidth\": 0, \"ticks\": \"\"}}, \"type\": \"scatterternary\"}], \"surface\": [{\"colorbar\": {\"outlinewidth\": 0, \"ticks\": \"\"}, \"colorscale\": [[0.0, \"#0d0887\"], [0.1111111111111111, \"#46039f\"], [0.2222222222222222, \"#7201a8\"], [0.3333333333333333, \"#9c179e\"], [0.4444444444444444, \"#bd3786\"], [0.5555555555555556, \"#d8576b\"], [0.6666666666666666, \"#ed7953\"], [0.7777777777777778, \"#fb9f3a\"], [0.8888888888888888, \"#fdca26\"], [1.0, \"#f0f921\"]], \"type\": \"surface\"}], \"table\": [{\"cells\": {\"fill\": {\"color\": \"#EBF0F8\"}, \"line\": {\"color\": \"white\"}}, \"header\": {\"fill\": {\"color\": \"#C8D4E3\"}, \"line\": {\"color\": \"white\"}}, \"type\": \"table\"}]}, \"layout\": {\"annotationdefaults\": {\"arrowcolor\": \"#2a3f5f\", \"arrowhead\": 0, \"arrowwidth\": 1}, \"coloraxis\": {\"colorbar\": {\"outlinewidth\": 0, \"ticks\": \"\"}}, \"colorscale\": {\"diverging\": [[0, \"#8e0152\"], [0.1, \"#c51b7d\"], [0.2, \"#de77ae\"], [0.3, \"#f1b6da\"], [0.4, \"#fde0ef\"], [0.5, \"#f7f7f7\"], [0.6, \"#e6f5d0\"], [0.7, \"#b8e186\"], [0.8, \"#7fbc41\"], [0.9, \"#4d9221\"], [1, \"#276419\"]], \"sequential\": [[0.0, \"#0d0887\"], [0.1111111111111111, \"#46039f\"], [0.2222222222222222, \"#7201a8\"], [0.3333333333333333, \"#9c179e\"], [0.4444444444444444, \"#bd3786\"], [0.5555555555555556, \"#d8576b\"], [0.6666666666666666, \"#ed7953\"], [0.7777777777777778, \"#fb9f3a\"], [0.8888888888888888, \"#fdca26\"], [1.0, \"#f0f921\"]], \"sequentialminus\": [[0.0, \"#0d0887\"], [0.1111111111111111, \"#46039f\"], [0.2222222222222222, \"#7201a8\"], [0.3333333333333333, \"#9c179e\"], [0.4444444444444444, \"#bd3786\"], [0.5555555555555556, \"#d8576b\"], [0.6666666666666666, \"#ed7953\"], [0.7777777777777778, \"#fb9f3a\"], [0.8888888888888888, \"#fdca26\"], [1.0, \"#f0f921\"]]}, \"colorway\": [\"#636efa\", \"#EF553B\", \"#00cc96\", \"#ab63fa\", \"#FFA15A\", \"#19d3f3\", \"#FF6692\", \"#B6E880\", \"#FF97FF\", \"#FECB52\"], \"font\": {\"color\": \"#2a3f5f\"}, \"geo\": {\"bgcolor\": \"white\", \"lakecolor\": \"white\", \"landcolor\": \"#E5ECF6\", \"showlakes\": true, \"showland\": true, \"subunitcolor\": \"white\"}, \"hoverlabel\": {\"align\": \"left\"}, \"hovermode\": \"closest\", \"mapbox\": {\"style\": \"light\"}, \"paper_bgcolor\": \"white\", \"plot_bgcolor\": \"#E5ECF6\", \"polar\": {\"angularaxis\": {\"gridcolor\": \"white\", \"linecolor\": \"white\", \"ticks\": \"\"}, \"bgcolor\": \"#E5ECF6\", \"radialaxis\": {\"gridcolor\": \"white\", \"linecolor\": \"white\", \"ticks\": \"\"}}, \"scene\": {\"xaxis\": {\"backgroundcolor\": \"#E5ECF6\", \"gridcolor\": \"white\", \"gridwidth\": 2, \"linecolor\": \"white\", \"showbackground\": true, \"ticks\": \"\", \"zerolinecolor\": \"white\"}, \"yaxis\": {\"backgroundcolor\": \"#E5ECF6\", \"gridcolor\": \"white\", \"gridwidth\": 2, \"linecolor\": \"white\", \"showbackground\": true, \"ticks\": \"\", \"zerolinecolor\": \"white\"}, \"zaxis\": {\"backgroundcolor\": \"#E5ECF6\", \"gridcolor\": \"white\", \"gridwidth\": 2, \"linecolor\": \"white\", \"showbackground\": true, \"ticks\": \"\", \"zerolinecolor\": \"white\"}}, \"shapedefaults\": {\"line\": {\"color\": \"#2a3f5f\"}}, \"ternary\": {\"aaxis\": {\"gridcolor\": \"white\", \"linecolor\": \"white\", \"ticks\": \"\"}, \"baxis\": {\"gridcolor\": \"white\", \"linecolor\": \"white\", \"ticks\": \"\"}, \"bgcolor\": \"#E5ECF6\", \"caxis\": {\"gridcolor\": \"white\", \"linecolor\": \"white\", \"ticks\": \"\"}}, \"title\": {\"x\": 0.05}, \"xaxis\": {\"automargin\": true, \"gridcolor\": \"white\", \"linecolor\": \"white\", \"ticks\": \"\", \"title\": {\"standoff\": 15}, \"zerolinecolor\": \"white\", \"zerolinewidth\": 2}, \"yaxis\": {\"automargin\": true, \"gridcolor\": \"white\", \"linecolor\": \"white\", \"ticks\": \"\", \"title\": {\"standoff\": 15}, \"zerolinecolor\": \"white\", \"zerolinewidth\": 2}}}, \"title\": {\"text\": \"Vizualizacia rozdielov pocetnosti - 3_STR\"}, \"xaxis\": {\"title\": {\"text\": \"hour\"}}, \"yaxis\": {\"title\": {\"text\": \"rozdiely\"}}},\n",
              "                        {\"responsive\": true}\n",
              "                    ).then(function(){\n",
              "                            \n",
              "var gd = document.getElementById('2ae6e06f-c10e-4e81-aab7-39fd492bc9d1');\n",
              "var x = new MutationObserver(function (mutations, observer) {{\n",
              "        var display = window.getComputedStyle(gd).display;\n",
              "        if (!display || display === 'none') {{\n",
              "            console.log([gd, 'removed!']);\n",
              "            Plotly.purge(gd);\n",
              "            observer.disconnect();\n",
              "        }}\n",
              "}});\n",
              "\n",
              "// Listen for the removal of the full notebook cells\n",
              "var notebookContainer = gd.closest('#notebook-container');\n",
              "if (notebookContainer) {{\n",
              "    x.observe(notebookContainer, {childList: true});\n",
              "}}\n",
              "\n",
              "// Listen for the clearing of the current output cell\n",
              "var outputEl = gd.closest('.output');\n",
              "if (outputEl) {{\n",
              "    x.observe(outputEl, {childList: true});\n",
              "}}\n",
              "\n",
              "                        })\n",
              "                };\n",
              "                \n",
              "            </script>\n",
              "        </div>\n",
              "</body>\n",
              "</html>"
            ]
          },
          "metadata": {},
          "output_type": "display_data"
        }
      ],
      "source": [
        "figures['3_STR'].show()"
      ]
    },
    {
      "cell_type": "markdown",
      "metadata": {
        "id": "YcAx-UrmSWL6"
      },
      "source": [
        "*Štvrtok*"
      ]
    },
    {
      "cell_type": "code",
      "execution_count": null,
      "metadata": {
        "colab": {
          "base_uri": "https://localhost:8080/",
          "height": 542
        },
        "id": "YEApRxOhSI68",
        "outputId": "7007cb00-4c2c-4cb9-d7d9-52f866b25913"
      },
      "outputs": [
        {
          "data": {
            "text/html": [
              "<html>\n",
              "<head><meta charset=\"utf-8\" /></head>\n",
              "<body>\n",
              "    <div>\n",
              "            <script src=\"https://cdnjs.cloudflare.com/ajax/libs/mathjax/2.7.5/MathJax.js?config=TeX-AMS-MML_SVG\"></script><script type=\"text/javascript\">if (window.MathJax) {MathJax.Hub.Config({SVG: {font: \"STIX-Web\"}});}</script>\n",
              "                <script type=\"text/javascript\">window.PlotlyConfig = {MathJaxConfig: 'local'};</script>\n",
              "        <script src=\"https://cdn.plot.ly/plotly-latest.min.js\"></script>    \n",
              "            <div id=\"cda72517-efc1-48a0-a7b1-2998567ef007\" class=\"plotly-graph-div\" style=\"height:525px; width:100%;\"></div>\n",
              "            <script type=\"text/javascript\">\n",
              "                \n",
              "                    window.PLOTLYENV=window.PLOTLYENV || {};\n",
              "                    \n",
              "                if (document.getElementById(\"cda72517-efc1-48a0-a7b1-2998567ef007\")) {\n",
              "                    Plotly.newPlot(\n",
              "                        'cda72517-efc1-48a0-a7b1-2998567ef007',\n",
              "                        [{\"line\": {\"color\": \"blue\"}, \"mode\": \"lines\", \"name\": \"uvod\", \"type\": \"scatter\", \"x\": [7.0, 8.0, 9.0, 10.0, 11.0, 12.0, 13.0, 14.0, 15.0, 16.0, 17.0, 18.0, 19.0, 20.0, 21.0, 22.0], \"y\": [2.474884306724036, -0.2641486389946168, -7.440714025543016, -6.905449747748392, -10.234026351070948, -0.7014685294375802, 0.8606624873638964, 15.609365522706192, 2.2816503841902485, -2.3281966934328437, -1.4379090892162285, -3.416080410892193, 0.5250344901824189, -0.23382988572319993, 0.46053960391549154, 0.06025165605389715]}, {\"line\": {\"color\": \"lightgrey\", \"dash\": \"dashdot\"}, \"mode\": \"lines\", \"name\": \"ext uvod\", \"type\": \"scatter\", \"x\": [7.0, 8.0, 9.0, 10.0, 11.0, 12.0, 13.0, 14.0, 15.0, 16.0, 17.0, 18.0, 19.0, 20.0, 21.0, 22.0], \"y\": [10.605866775677697, 10.605866775677697, 10.605866775677697, 10.605866775677697, 10.605866775677697, 10.605866775677697, 10.605866775677697, 10.605866775677697, 10.605866775677697, 10.605866775677697, 10.605866775677697, 10.605866775677697, 10.605866775677697, 10.605866775677697, 10.605866775677697, 10.605866775677697]}, {\"line\": {\"color\": \"lightgrey\", \"dash\": \"dashdot\"}, \"mode\": \"lines\", \"name\": \"ext uvod\", \"type\": \"scatter\", \"x\": [7.0, 8.0, 9.0, 10.0, 11.0, 12.0, 13.0, 14.0, 15.0, 16.0, 17.0, 18.0, 19.0, 20.0, 21.0, 22.0], \"y\": [-11.942046140793053, -11.942046140793053, -11.942046140793053, -11.942046140793053, -11.942046140793053, -11.942046140793053, -11.942046140793053, -11.942046140793053, -11.942046140793053, -11.942046140793053, -11.942046140793053, -11.942046140793053, -11.942046140793053, -11.942046140793053, -11.942046140793053, -11.942046140793053]}, {\"line\": {\"color\": \"green\"}, \"mode\": \"lines\", \"name\": \"studium\", \"type\": \"scatter\", \"x\": [7.0, 8.0, 9.0, 10.0, 11.0, 12.0, 13.0, 14.0, 15.0, 16.0, 17.0, 18.0, 19.0, 20.0, 21.0, 22.0], \"y\": [-1.8352645265855658, -0.6021305329547034, 4.6703856466072935, 4.378565652708637, 1.562659013408398, -1.1768606680750593, 0.01860307090514368, -15.71609460525909, -2.1230119188253624, 1.9657373604634856, 1.653320360546605, 2.650785001326428, -1.4374661179366743, 0.2539490713154057, -0.38938042149287755, 0.14077793576744657]}, {\"line\": {\"color\": \"lightgrey\", \"dash\": \"dashdot\"}, \"mode\": \"lines\", \"name\": \"ext studium\", \"type\": \"scatter\", \"x\": [7.0, 8.0, 9.0, 10.0, 11.0, 12.0, 13.0, 14.0, 15.0, 16.0, 17.0, 18.0, 19.0, 20.0, 21.0, 22.0], \"y\": [8.772605169470177, 8.772605169470177, 8.772605169470177, 8.772605169470177, 8.772605169470177, 8.772605169470177, 8.772605169470177, 8.772605169470177, 8.772605169470177, 8.772605169470177, 8.772605169470177, 8.772605169470177, 8.772605169470177, 8.772605169470177, 8.772605169470177, 8.772605169470177]}, {\"line\": {\"color\": \"lightgrey\", \"dash\": \"dashdot\"}, \"mode\": \"lines\", \"name\": \"ext studium\", \"type\": \"scatter\", \"x\": [7.0, 8.0, 9.0, 10.0, 11.0, 12.0, 13.0, 14.0, 15.0, 16.0, 17.0, 18.0, 19.0, 20.0, 21.0, 22.0], \"y\": [-9.52078337923024, -9.52078337923024, -9.52078337923024, -9.52078337923024, -9.52078337923024, -9.52078337923024, -9.52078337923024, -9.52078337923024, -9.52078337923024, -9.52078337923024, -9.52078337923024, -9.52078337923024, -9.52078337923024, -9.52078337923024, -9.52078337923024, -9.52078337923024]}, {\"line\": {\"color\": \"red\"}, \"mode\": \"lines\", \"name\": \"oznamy\", \"type\": \"scatter\", \"x\": [7.0, 8.0, 9.0, 10.0, 11.0, 12.0, 13.0, 14.0, 15.0, 16.0, 17.0, 18.0, 19.0, 20.0, 21.0, 22.0], \"y\": [-0.6396197801384697, -0.13372082805067956, -1.2296716210642757, 0.5268840950397546, 0.6713673376625529, -0.12167080248736076, -0.8792655582690351, 0.10672908255290647, -0.1586384653648859, 0.3624593329693493, -0.21541127133037638, 0.7652954095657657, 0.9124316277542568, -0.02011918559220581, -0.07115918242261403, -0.20102959182134358]}, {\"line\": {\"color\": \"lightgrey\", \"dash\": \"dashdot\"}, \"mode\": \"lines\", \"name\": \"ext oznamy\", \"type\": \"scatter\", \"x\": [7.0, 8.0, 9.0, 10.0, 11.0, 12.0, 13.0, 14.0, 15.0, 16.0, 17.0, 18.0, 19.0, 20.0, 21.0, 22.0], \"y\": [1.1489701215495556, 1.1489701215495556, 1.1489701215495556, 1.1489701215495556, 1.1489701215495556, 1.1489701215495556, 1.1489701215495556, 1.1489701215495556, 1.1489701215495556, 1.1489701215495556, 1.1489701215495556, 1.1489701215495556, 1.1489701215495556, 1.1489701215495556, 1.1489701215495556, 1.1489701215495556]}, {\"line\": {\"color\": \"lightgrey\", \"dash\": \"dashdot\"}, \"mode\": \"lines\", \"name\": \"ext oznamy\", \"type\": \"scatter\", \"x\": [7.0, 8.0, 9.0, 10.0, 11.0, 12.0, 13.0, 14.0, 15.0, 16.0, 17.0, 18.0, 19.0, 20.0, 21.0, 22.0], \"y\": [-1.1896125466741383, -1.1896125466741383, -1.1896125466741383, -1.1896125466741383, -1.1896125466741383, -1.1896125466741383, -1.1896125466741383, -1.1896125466741383, -1.1896125466741383, -1.1896125466741383, -1.1896125466741383, -1.1896125466741383, -1.1896125466741383, -1.1896125466741383, -1.1896125466741383, -1.1896125466741383]}, {\"line\": {\"color\": \"yellow\"}, \"mode\": \"lines\", \"name\": \"o fakulte\", \"type\": \"scatter\", \"x\": [7.0, 8.0, 9.0, 10.0, 11.0, 12.0, 13.0, 14.0, 15.0, 16.0, 17.0, 18.0, 19.0, 20.0, 21.0, 22.0], \"y\": [-1.0383434795586788, 0.7378560324673964, 1.1549858558588864, 0.7379306897485518, 7.012863231728965, 1.5981824691088853, -3.116595519151491, -3.3169227048630363, -0.6022361708197363, -2.4145259905753806, -0.7940838303163498, -0.8215930964589087, -0.28395489614940694, -0.0589510907336348, -0.1837835912708702, -0.4464431169736972]}, {\"line\": {\"color\": \"lightgrey\", \"dash\": \"dashdot\"}, \"mode\": \"lines\", \"name\": \"ext o fakulte\", \"type\": \"scatter\", \"x\": [7.0, 8.0, 9.0, 10.0, 11.0, 12.0, 13.0, 14.0, 15.0, 16.0, 17.0, 18.0, 19.0, 20.0, 21.0, 22.0], \"y\": [4.605599286826449, 4.605599286826449, 4.605599286826449, 4.605599286826449, 4.605599286826449, 4.605599286826449, 4.605599286826449, 4.605599286826449, 4.605599286826449, 4.605599286826449, 4.605599286826449, 4.605599286826449, 4.605599286826449, 4.605599286826449, 4.605599286826449, 4.605599286826449]}, {\"line\": {\"color\": \"lightgrey\", \"dash\": \"dashdot\"}, \"mode\": \"lines\", \"name\": \"ext o fakulte\", \"type\": \"scatter\", \"x\": [7.0, 8.0, 9.0, 10.0, 11.0, 12.0, 13.0, 14.0, 15.0, 16.0, 17.0, 18.0, 19.0, 20.0, 21.0, 22.0], \"y\": [-4.8350511878212625, -4.8350511878212625, -4.8350511878212625, -4.8350511878212625, -4.8350511878212625, -4.8350511878212625, -4.8350511878212625, -4.8350511878212625, -4.8350511878212625, -4.8350511878212625, -4.8350511878212625, -4.8350511878212625, -4.8350511878212625, -4.8350511878212625, -4.8350511878212625, -4.8350511878212625]}],\n",
              "                        {\"template\": {\"data\": {\"bar\": [{\"error_x\": {\"color\": \"#2a3f5f\"}, \"error_y\": {\"color\": \"#2a3f5f\"}, \"marker\": {\"line\": {\"color\": \"#E5ECF6\", \"width\": 0.5}}, \"type\": \"bar\"}], \"barpolar\": [{\"marker\": {\"line\": {\"color\": \"#E5ECF6\", \"width\": 0.5}}, \"type\": \"barpolar\"}], \"carpet\": [{\"aaxis\": {\"endlinecolor\": \"#2a3f5f\", \"gridcolor\": \"white\", \"linecolor\": \"white\", \"minorgridcolor\": \"white\", \"startlinecolor\": \"#2a3f5f\"}, \"baxis\": {\"endlinecolor\": \"#2a3f5f\", \"gridcolor\": \"white\", \"linecolor\": \"white\", \"minorgridcolor\": \"white\", \"startlinecolor\": \"#2a3f5f\"}, \"type\": \"carpet\"}], \"choropleth\": [{\"colorbar\": {\"outlinewidth\": 0, \"ticks\": \"\"}, \"type\": \"choropleth\"}], \"contour\": [{\"colorbar\": {\"outlinewidth\": 0, \"ticks\": \"\"}, \"colorscale\": [[0.0, \"#0d0887\"], [0.1111111111111111, \"#46039f\"], [0.2222222222222222, \"#7201a8\"], [0.3333333333333333, \"#9c179e\"], [0.4444444444444444, \"#bd3786\"], [0.5555555555555556, \"#d8576b\"], [0.6666666666666666, \"#ed7953\"], [0.7777777777777778, \"#fb9f3a\"], [0.8888888888888888, \"#fdca26\"], [1.0, \"#f0f921\"]], \"type\": \"contour\"}], \"contourcarpet\": [{\"colorbar\": {\"outlinewidth\": 0, \"ticks\": \"\"}, \"type\": \"contourcarpet\"}], \"heatmap\": [{\"colorbar\": {\"outlinewidth\": 0, \"ticks\": \"\"}, \"colorscale\": [[0.0, \"#0d0887\"], [0.1111111111111111, \"#46039f\"], [0.2222222222222222, \"#7201a8\"], [0.3333333333333333, \"#9c179e\"], [0.4444444444444444, \"#bd3786\"], [0.5555555555555556, \"#d8576b\"], [0.6666666666666666, \"#ed7953\"], [0.7777777777777778, \"#fb9f3a\"], [0.8888888888888888, \"#fdca26\"], [1.0, \"#f0f921\"]], \"type\": \"heatmap\"}], \"heatmapgl\": [{\"colorbar\": {\"outlinewidth\": 0, \"ticks\": \"\"}, \"colorscale\": [[0.0, \"#0d0887\"], [0.1111111111111111, \"#46039f\"], [0.2222222222222222, \"#7201a8\"], [0.3333333333333333, \"#9c179e\"], [0.4444444444444444, \"#bd3786\"], [0.5555555555555556, \"#d8576b\"], [0.6666666666666666, \"#ed7953\"], [0.7777777777777778, \"#fb9f3a\"], [0.8888888888888888, \"#fdca26\"], [1.0, \"#f0f921\"]], \"type\": \"heatmapgl\"}], \"histogram\": [{\"marker\": {\"colorbar\": {\"outlinewidth\": 0, \"ticks\": \"\"}}, \"type\": \"histogram\"}], \"histogram2d\": [{\"colorbar\": {\"outlinewidth\": 0, \"ticks\": \"\"}, \"colorscale\": [[0.0, \"#0d0887\"], [0.1111111111111111, \"#46039f\"], [0.2222222222222222, \"#7201a8\"], [0.3333333333333333, \"#9c179e\"], [0.4444444444444444, \"#bd3786\"], [0.5555555555555556, \"#d8576b\"], [0.6666666666666666, \"#ed7953\"], [0.7777777777777778, \"#fb9f3a\"], [0.8888888888888888, \"#fdca26\"], [1.0, \"#f0f921\"]], \"type\": \"histogram2d\"}], \"histogram2dcontour\": [{\"colorbar\": {\"outlinewidth\": 0, \"ticks\": \"\"}, \"colorscale\": [[0.0, \"#0d0887\"], [0.1111111111111111, \"#46039f\"], [0.2222222222222222, \"#7201a8\"], [0.3333333333333333, \"#9c179e\"], [0.4444444444444444, \"#bd3786\"], [0.5555555555555556, \"#d8576b\"], [0.6666666666666666, \"#ed7953\"], [0.7777777777777778, \"#fb9f3a\"], [0.8888888888888888, \"#fdca26\"], [1.0, \"#f0f921\"]], \"type\": \"histogram2dcontour\"}], \"mesh3d\": [{\"colorbar\": {\"outlinewidth\": 0, \"ticks\": \"\"}, \"type\": \"mesh3d\"}], \"parcoords\": [{\"line\": {\"colorbar\": {\"outlinewidth\": 0, \"ticks\": \"\"}}, \"type\": \"parcoords\"}], \"pie\": [{\"automargin\": true, \"type\": \"pie\"}], \"scatter\": [{\"marker\": {\"colorbar\": {\"outlinewidth\": 0, \"ticks\": \"\"}}, \"type\": \"scatter\"}], \"scatter3d\": [{\"line\": {\"colorbar\": {\"outlinewidth\": 0, \"ticks\": \"\"}}, \"marker\": {\"colorbar\": {\"outlinewidth\": 0, \"ticks\": \"\"}}, \"type\": \"scatter3d\"}], \"scattercarpet\": [{\"marker\": {\"colorbar\": {\"outlinewidth\": 0, \"ticks\": \"\"}}, \"type\": \"scattercarpet\"}], \"scattergeo\": [{\"marker\": {\"colorbar\": {\"outlinewidth\": 0, \"ticks\": \"\"}}, \"type\": \"scattergeo\"}], \"scattergl\": [{\"marker\": {\"colorbar\": {\"outlinewidth\": 0, \"ticks\": \"\"}}, \"type\": \"scattergl\"}], \"scattermapbox\": [{\"marker\": {\"colorbar\": {\"outlinewidth\": 0, \"ticks\": \"\"}}, \"type\": \"scattermapbox\"}], \"scatterpolar\": [{\"marker\": {\"colorbar\": {\"outlinewidth\": 0, \"ticks\": \"\"}}, \"type\": \"scatterpolar\"}], \"scatterpolargl\": [{\"marker\": {\"colorbar\": {\"outlinewidth\": 0, \"ticks\": \"\"}}, \"type\": \"scatterpolargl\"}], \"scatterternary\": [{\"marker\": {\"colorbar\": {\"outlinewidth\": 0, \"ticks\": \"\"}}, \"type\": \"scatterternary\"}], \"surface\": [{\"colorbar\": {\"outlinewidth\": 0, \"ticks\": \"\"}, \"colorscale\": [[0.0, \"#0d0887\"], [0.1111111111111111, \"#46039f\"], [0.2222222222222222, \"#7201a8\"], [0.3333333333333333, \"#9c179e\"], [0.4444444444444444, \"#bd3786\"], [0.5555555555555556, \"#d8576b\"], [0.6666666666666666, \"#ed7953\"], [0.7777777777777778, \"#fb9f3a\"], [0.8888888888888888, \"#fdca26\"], [1.0, \"#f0f921\"]], \"type\": \"surface\"}], \"table\": [{\"cells\": {\"fill\": {\"color\": \"#EBF0F8\"}, \"line\": {\"color\": \"white\"}}, \"header\": {\"fill\": {\"color\": \"#C8D4E3\"}, \"line\": {\"color\": \"white\"}}, \"type\": \"table\"}]}, \"layout\": {\"annotationdefaults\": {\"arrowcolor\": \"#2a3f5f\", \"arrowhead\": 0, \"arrowwidth\": 1}, \"coloraxis\": {\"colorbar\": {\"outlinewidth\": 0, \"ticks\": \"\"}}, \"colorscale\": {\"diverging\": [[0, \"#8e0152\"], [0.1, \"#c51b7d\"], [0.2, \"#de77ae\"], [0.3, \"#f1b6da\"], [0.4, \"#fde0ef\"], [0.5, \"#f7f7f7\"], [0.6, \"#e6f5d0\"], [0.7, \"#b8e186\"], [0.8, \"#7fbc41\"], [0.9, \"#4d9221\"], [1, \"#276419\"]], \"sequential\": [[0.0, \"#0d0887\"], [0.1111111111111111, \"#46039f\"], [0.2222222222222222, \"#7201a8\"], [0.3333333333333333, \"#9c179e\"], [0.4444444444444444, \"#bd3786\"], [0.5555555555555556, \"#d8576b\"], [0.6666666666666666, \"#ed7953\"], [0.7777777777777778, \"#fb9f3a\"], [0.8888888888888888, \"#fdca26\"], [1.0, \"#f0f921\"]], \"sequentialminus\": [[0.0, \"#0d0887\"], [0.1111111111111111, \"#46039f\"], [0.2222222222222222, \"#7201a8\"], [0.3333333333333333, \"#9c179e\"], [0.4444444444444444, \"#bd3786\"], [0.5555555555555556, \"#d8576b\"], [0.6666666666666666, \"#ed7953\"], [0.7777777777777778, \"#fb9f3a\"], [0.8888888888888888, \"#fdca26\"], [1.0, \"#f0f921\"]]}, \"colorway\": [\"#636efa\", \"#EF553B\", \"#00cc96\", \"#ab63fa\", \"#FFA15A\", \"#19d3f3\", \"#FF6692\", \"#B6E880\", \"#FF97FF\", \"#FECB52\"], \"font\": {\"color\": \"#2a3f5f\"}, \"geo\": {\"bgcolor\": \"white\", \"lakecolor\": \"white\", \"landcolor\": \"#E5ECF6\", \"showlakes\": true, \"showland\": true, \"subunitcolor\": \"white\"}, \"hoverlabel\": {\"align\": \"left\"}, \"hovermode\": \"closest\", \"mapbox\": {\"style\": \"light\"}, \"paper_bgcolor\": \"white\", \"plot_bgcolor\": \"#E5ECF6\", \"polar\": {\"angularaxis\": {\"gridcolor\": \"white\", \"linecolor\": \"white\", \"ticks\": \"\"}, \"bgcolor\": \"#E5ECF6\", \"radialaxis\": {\"gridcolor\": \"white\", \"linecolor\": \"white\", \"ticks\": \"\"}}, \"scene\": {\"xaxis\": {\"backgroundcolor\": \"#E5ECF6\", \"gridcolor\": \"white\", \"gridwidth\": 2, \"linecolor\": \"white\", \"showbackground\": true, \"ticks\": \"\", \"zerolinecolor\": \"white\"}, \"yaxis\": {\"backgroundcolor\": \"#E5ECF6\", \"gridcolor\": \"white\", \"gridwidth\": 2, \"linecolor\": \"white\", \"showbackground\": true, \"ticks\": \"\", \"zerolinecolor\": \"white\"}, \"zaxis\": {\"backgroundcolor\": \"#E5ECF6\", \"gridcolor\": \"white\", \"gridwidth\": 2, \"linecolor\": \"white\", \"showbackground\": true, \"ticks\": \"\", \"zerolinecolor\": \"white\"}}, \"shapedefaults\": {\"line\": {\"color\": \"#2a3f5f\"}}, \"ternary\": {\"aaxis\": {\"gridcolor\": \"white\", \"linecolor\": \"white\", \"ticks\": \"\"}, \"baxis\": {\"gridcolor\": \"white\", \"linecolor\": \"white\", \"ticks\": \"\"}, \"bgcolor\": \"#E5ECF6\", \"caxis\": {\"gridcolor\": \"white\", \"linecolor\": \"white\", \"ticks\": \"\"}}, \"title\": {\"x\": 0.05}, \"xaxis\": {\"automargin\": true, \"gridcolor\": \"white\", \"linecolor\": \"white\", \"ticks\": \"\", \"title\": {\"standoff\": 15}, \"zerolinecolor\": \"white\", \"zerolinewidth\": 2}, \"yaxis\": {\"automargin\": true, \"gridcolor\": \"white\", \"linecolor\": \"white\", \"ticks\": \"\", \"title\": {\"standoff\": 15}, \"zerolinecolor\": \"white\", \"zerolinewidth\": 2}}}, \"title\": {\"text\": \"Vizualizacia rozdielov pocetnosti - 4_STVR\"}, \"xaxis\": {\"title\": {\"text\": \"hour\"}}, \"yaxis\": {\"title\": {\"text\": \"rozdiely\"}}},\n",
              "                        {\"responsive\": true}\n",
              "                    ).then(function(){\n",
              "                            \n",
              "var gd = document.getElementById('cda72517-efc1-48a0-a7b1-2998567ef007');\n",
              "var x = new MutationObserver(function (mutations, observer) {{\n",
              "        var display = window.getComputedStyle(gd).display;\n",
              "        if (!display || display === 'none') {{\n",
              "            console.log([gd, 'removed!']);\n",
              "            Plotly.purge(gd);\n",
              "            observer.disconnect();\n",
              "        }}\n",
              "}});\n",
              "\n",
              "// Listen for the removal of the full notebook cells\n",
              "var notebookContainer = gd.closest('#notebook-container');\n",
              "if (notebookContainer) {{\n",
              "    x.observe(notebookContainer, {childList: true});\n",
              "}}\n",
              "\n",
              "// Listen for the clearing of the current output cell\n",
              "var outputEl = gd.closest('.output');\n",
              "if (outputEl) {{\n",
              "    x.observe(outputEl, {childList: true});\n",
              "}}\n",
              "\n",
              "                        })\n",
              "                };\n",
              "                \n",
              "            </script>\n",
              "        </div>\n",
              "</body>\n",
              "</html>"
            ]
          },
          "metadata": {},
          "output_type": "display_data"
        }
      ],
      "source": [
        "figures['4_STVR'].show()"
      ]
    },
    {
      "cell_type": "markdown",
      "metadata": {
        "id": "A94wBL0ESbDW"
      },
      "source": [
        "*Piatok*"
      ]
    },
    {
      "cell_type": "code",
      "execution_count": null,
      "metadata": {
        "colab": {
          "base_uri": "https://localhost:8080/",
          "height": 542
        },
        "id": "hh9j_hL0SZZp",
        "outputId": "241caced-fc38-442c-a502-4fdd65c5670c"
      },
      "outputs": [
        {
          "data": {
            "text/html": [
              "<html>\n",
              "<head><meta charset=\"utf-8\" /></head>\n",
              "<body>\n",
              "    <div>\n",
              "            <script src=\"https://cdnjs.cloudflare.com/ajax/libs/mathjax/2.7.5/MathJax.js?config=TeX-AMS-MML_SVG\"></script><script type=\"text/javascript\">if (window.MathJax) {MathJax.Hub.Config({SVG: {font: \"STIX-Web\"}});}</script>\n",
              "                <script type=\"text/javascript\">window.PlotlyConfig = {MathJaxConfig: 'local'};</script>\n",
              "        <script src=\"https://cdn.plot.ly/plotly-latest.min.js\"></script>    \n",
              "            <div id=\"3bf63b2a-c344-4d04-96e6-8d1914991d4d\" class=\"plotly-graph-div\" style=\"height:525px; width:100%;\"></div>\n",
              "            <script type=\"text/javascript\">\n",
              "                \n",
              "                    window.PLOTLYENV=window.PLOTLYENV || {};\n",
              "                    \n",
              "                if (document.getElementById(\"3bf63b2a-c344-4d04-96e6-8d1914991d4d\")) {\n",
              "                    Plotly.newPlot(\n",
              "                        '3bf63b2a-c344-4d04-96e6-8d1914991d4d',\n",
              "                        [{\"line\": {\"color\": \"blue\"}, \"mode\": \"lines\", \"name\": \"uvod\", \"type\": \"scatter\", \"x\": [7.0, 8.0, 9.0, 10.0, 11.0, 12.0, 13.0, 14.0, 15.0, 16.0, 17.0, 18.0, 19.0, 20.0, 21.0, 22.0], \"y\": [0.4466614966745297, 5.268097644969075, 1.6455376339677201, -0.5617639119985753, -1.8081869490641225, 3.5520742976126343, 2.3402380373230187, 4.1487315547684815, -3.5558983383272995, 0.9220526155781728, 0.5644110835592338, 0.0, -21.953074573296252, 0.49182195982393384, 0.0, -0.03635337897181623]}, {\"line\": {\"color\": \"lightgrey\", \"dash\": \"dashdot\"}, \"mode\": \"lines\", \"name\": \"ext uvod\", \"type\": \"scatter\", \"x\": [7.0, 8.0, 9.0, 10.0, 11.0, 12.0, 13.0, 14.0, 15.0, 16.0, 17.0, 18.0, 19.0, 20.0, 21.0, 22.0], \"y\": [11.697536560246688, 11.697536560246688, 11.697536560246688, 11.697536560246688, 11.697536560246688, 11.697536560246688, 11.697536560246688, 11.697536560246688, 11.697536560246688, 11.697536560246688, 11.697536560246688, 11.697536560246688, 11.697536560246688, 11.697536560246688, 11.697536560246688, 11.697536560246688]}, {\"line\": {\"color\": \"lightgrey\", \"dash\": \"dashdot\"}, \"mode\": \"lines\", \"name\": \"ext uvod\", \"type\": \"scatter\", \"x\": [7.0, 8.0, 9.0, 10.0, 11.0, 12.0, 13.0, 14.0, 15.0, 16.0, 17.0, 18.0, 19.0, 20.0, 21.0, 22.0], \"y\": [-12.764492913669345, -12.764492913669345, -12.764492913669345, -12.764492913669345, -12.764492913669345, -12.764492913669345, -12.764492913669345, -12.764492913669345, -12.764492913669345, -12.764492913669345, -12.764492913669345, -12.764492913669345, -12.764492913669345, -12.764492913669345, -12.764492913669345, -12.764492913669345]}, {\"line\": {\"color\": \"green\"}, \"mode\": \"lines\", \"name\": \"studium\", \"type\": \"scatter\", \"x\": [7.0, 8.0, 9.0, 10.0, 11.0, 12.0, 13.0, 14.0, 15.0, 16.0, 17.0, 18.0, 19.0, 20.0, 21.0, 22.0], \"y\": [-0.4103444602579847, -4.986859545127759, -4.441540198111958, -1.376454526568939, 1.8855683145445994, -3.5023629539690266, -6.237017858010839, -4.111001314328324, 3.5749678357872487, -0.9156170597044981, -0.5607361302091222, 0.0, 22.075500069925774, -0.4884767418386199, 0.0, -1.9466855044520794]}, {\"line\": {\"color\": \"lightgrey\", \"dash\": \"dashdot\"}, \"mode\": \"lines\", \"name\": \"ext studium\", \"type\": \"scatter\", \"x\": [7.0, 8.0, 9.0, 10.0, 11.0, 12.0, 13.0, 14.0, 15.0, 16.0, 17.0, 18.0, 19.0, 20.0, 21.0, 22.0], \"y\": [12.803766647153127, 12.803766647153127, 12.803766647153127, 12.803766647153127, 12.803766647153127, 12.803766647153127, 12.803766647153127, 12.803766647153127, 12.803766647153127, 12.803766647153127, 12.803766647153127, 12.803766647153127, 12.803766647153127, 12.803766647153127, 12.803766647153127, 12.803766647153127]}, {\"line\": {\"color\": \"lightgrey\", \"dash\": \"dashdot\"}, \"mode\": \"lines\", \"name\": \"ext studium\", \"type\": \"scatter\", \"x\": [7.0, 8.0, 9.0, 10.0, 11.0, 12.0, 13.0, 14.0, 15.0, 16.0, 17.0, 18.0, 19.0, 20.0, 21.0, 22.0], \"y\": [-12.983899156193319, -12.983899156193319, -12.983899156193319, -12.983899156193319, -12.983899156193319, -12.983899156193319, -12.983899156193319, -12.983899156193319, -12.983899156193319, -12.983899156193319, -12.983899156193319, -12.983899156193319, -12.983899156193319, -12.983899156193319, -12.983899156193319, -12.983899156193319]}, {\"line\": {\"color\": \"red\"}, \"mode\": \"lines\", \"name\": \"oznamy\", \"type\": \"scatter\", \"x\": [7.0, 8.0, 9.0, 10.0, 11.0, 12.0, 13.0, 14.0, 15.0, 16.0, 17.0, 18.0, 19.0, 20.0, 21.0, 22.0], \"y\": [-0.036317036416544046, -0.28123809984131226, -0.2039974358557577, -0.061781561432486504, -0.077381365480477, -0.04971134364360908, 0.8967798206878135, -0.0377302404401614, -0.019069497459949618, -0.006435555873674733, -0.00367495335011171, 0.0, -0.12242549662952829, -0.0033452179853138957, 0.0, -0.0169611165761047]}, {\"line\": {\"color\": \"lightgrey\", \"dash\": \"dashdot\"}, \"mode\": \"lines\", \"name\": \"ext oznamy\", \"type\": \"scatter\", \"x\": [7.0, 8.0, 9.0, 10.0, 11.0, 12.0, 13.0, 14.0, 15.0, 16.0, 17.0, 18.0, 19.0, 20.0, 21.0, 22.0], \"y\": [0.5033517114335316, 0.5033517114335316, 0.5033517114335316, 0.5033517114335316, 0.5033517114335316, 0.5033517114335316, 0.5033517114335316, 0.5033517114335316, 0.5033517114335316, 0.5033517114335316, 0.5033517114335316, 0.5033517114335316, 0.5033517114335316, 0.5033517114335316, 0.5033517114335316, 0.5033517114335316]}, {\"line\": {\"color\": \"lightgrey\", \"dash\": \"dashdot\"}, \"mode\": \"lines\", \"name\": \"ext oznamy\", \"type\": \"scatter\", \"x\": [7.0, 8.0, 9.0, 10.0, 11.0, 12.0, 13.0, 14.0, 15.0, 16.0, 17.0, 18.0, 19.0, 20.0, 21.0, 22.0], \"y\": [-0.5062628489706839, -0.5062628489706839, -0.5062628489706839, -0.5062628489706839, -0.5062628489706839, -0.5062628489706839, -0.5062628489706839, -0.5062628489706839, -0.5062628489706839, -0.5062628489706839, -0.5062628489706839, -0.5062628489706839, -0.5062628489706839, -0.5062628489706839, -0.5062628489706839, -0.5062628489706839]}, {\"line\": {\"color\": \"yellow\"}, \"mode\": \"lines\", \"name\": \"o fakulte\", \"type\": \"scatter\", \"x\": [7.0, 8.0, 9.0, 10.0, 11.0, 12.0, 13.0, 14.0, 15.0, 16.0, 17.0, 18.0, 19.0, 20.0, 21.0, 22.0], \"y\": [-0.22507699600791253, -2.1153133430880304, 1.1822462592269287, 1.3634501848704155, -0.8996602383190675, -0.6364211739258124, 1.5800673674489967, -0.5442201164149917, -0.2814388462217166, -0.09483844573971137, -0.05277339638813222, 0.0, -1.551820705467297, -0.03840833860406915, 0.0, 1.8515302311931108]}, {\"line\": {\"color\": \"lightgrey\", \"dash\": \"dashdot\"}, \"mode\": \"lines\", \"name\": \"ext o fakulte\", \"type\": \"scatter\", \"x\": [7.0, 8.0, 9.0, 10.0, 11.0, 12.0, 13.0, 14.0, 15.0, 16.0, 17.0, 18.0, 19.0, 20.0, 21.0, 22.0], \"y\": [2.1439159103570837, 2.1439159103570837, 2.1439159103570837, 2.1439159103570837, 2.1439159103570837, 2.1439159103570837, 2.1439159103570837, 2.1439159103570837, 2.1439159103570837, 2.1439159103570837, 2.1439159103570837, 2.1439159103570837, 2.1439159103570837, 2.1439159103570837, 2.1439159103570837, 2.1439159103570837]}, {\"line\": {\"color\": \"lightgrey\", \"dash\": \"dashdot\"}, \"mode\": \"lines\", \"name\": \"ext o fakulte\", \"type\": \"scatter\", \"x\": [7.0, 8.0, 9.0, 10.0, 11.0, 12.0, 13.0, 14.0, 15.0, 16.0, 17.0, 18.0, 19.0, 20.0, 21.0, 22.0], \"y\": [-2.201750605036745, -2.201750605036745, -2.201750605036745, -2.201750605036745, -2.201750605036745, -2.201750605036745, -2.201750605036745, -2.201750605036745, -2.201750605036745, -2.201750605036745, -2.201750605036745, -2.201750605036745, -2.201750605036745, -2.201750605036745, -2.201750605036745, -2.201750605036745]}],\n",
              "                        {\"template\": {\"data\": {\"bar\": [{\"error_x\": {\"color\": \"#2a3f5f\"}, \"error_y\": {\"color\": \"#2a3f5f\"}, \"marker\": {\"line\": {\"color\": \"#E5ECF6\", \"width\": 0.5}}, \"type\": \"bar\"}], \"barpolar\": [{\"marker\": {\"line\": {\"color\": \"#E5ECF6\", \"width\": 0.5}}, \"type\": \"barpolar\"}], \"carpet\": [{\"aaxis\": {\"endlinecolor\": \"#2a3f5f\", \"gridcolor\": \"white\", \"linecolor\": \"white\", \"minorgridcolor\": \"white\", \"startlinecolor\": \"#2a3f5f\"}, \"baxis\": {\"endlinecolor\": \"#2a3f5f\", \"gridcolor\": \"white\", \"linecolor\": \"white\", \"minorgridcolor\": \"white\", \"startlinecolor\": \"#2a3f5f\"}, \"type\": \"carpet\"}], \"choropleth\": [{\"colorbar\": {\"outlinewidth\": 0, \"ticks\": \"\"}, \"type\": \"choropleth\"}], \"contour\": [{\"colorbar\": {\"outlinewidth\": 0, \"ticks\": \"\"}, \"colorscale\": [[0.0, \"#0d0887\"], [0.1111111111111111, \"#46039f\"], [0.2222222222222222, \"#7201a8\"], [0.3333333333333333, \"#9c179e\"], [0.4444444444444444, \"#bd3786\"], [0.5555555555555556, \"#d8576b\"], [0.6666666666666666, \"#ed7953\"], [0.7777777777777778, \"#fb9f3a\"], [0.8888888888888888, \"#fdca26\"], [1.0, \"#f0f921\"]], \"type\": \"contour\"}], \"contourcarpet\": [{\"colorbar\": {\"outlinewidth\": 0, \"ticks\": \"\"}, \"type\": \"contourcarpet\"}], \"heatmap\": [{\"colorbar\": {\"outlinewidth\": 0, \"ticks\": \"\"}, \"colorscale\": [[0.0, \"#0d0887\"], [0.1111111111111111, \"#46039f\"], [0.2222222222222222, \"#7201a8\"], [0.3333333333333333, \"#9c179e\"], [0.4444444444444444, \"#bd3786\"], [0.5555555555555556, \"#d8576b\"], [0.6666666666666666, \"#ed7953\"], [0.7777777777777778, \"#fb9f3a\"], [0.8888888888888888, \"#fdca26\"], [1.0, \"#f0f921\"]], \"type\": \"heatmap\"}], \"heatmapgl\": [{\"colorbar\": {\"outlinewidth\": 0, \"ticks\": \"\"}, \"colorscale\": [[0.0, \"#0d0887\"], [0.1111111111111111, \"#46039f\"], [0.2222222222222222, \"#7201a8\"], [0.3333333333333333, \"#9c179e\"], [0.4444444444444444, \"#bd3786\"], [0.5555555555555556, \"#d8576b\"], [0.6666666666666666, \"#ed7953\"], [0.7777777777777778, \"#fb9f3a\"], [0.8888888888888888, \"#fdca26\"], [1.0, \"#f0f921\"]], \"type\": \"heatmapgl\"}], \"histogram\": [{\"marker\": {\"colorbar\": {\"outlinewidth\": 0, \"ticks\": \"\"}}, \"type\": \"histogram\"}], \"histogram2d\": [{\"colorbar\": {\"outlinewidth\": 0, \"ticks\": \"\"}, \"colorscale\": [[0.0, \"#0d0887\"], [0.1111111111111111, \"#46039f\"], [0.2222222222222222, \"#7201a8\"], [0.3333333333333333, \"#9c179e\"], [0.4444444444444444, \"#bd3786\"], [0.5555555555555556, \"#d8576b\"], [0.6666666666666666, \"#ed7953\"], [0.7777777777777778, \"#fb9f3a\"], [0.8888888888888888, \"#fdca26\"], [1.0, \"#f0f921\"]], \"type\": \"histogram2d\"}], \"histogram2dcontour\": [{\"colorbar\": {\"outlinewidth\": 0, \"ticks\": \"\"}, \"colorscale\": [[0.0, \"#0d0887\"], [0.1111111111111111, \"#46039f\"], [0.2222222222222222, \"#7201a8\"], [0.3333333333333333, \"#9c179e\"], [0.4444444444444444, \"#bd3786\"], [0.5555555555555556, \"#d8576b\"], [0.6666666666666666, \"#ed7953\"], [0.7777777777777778, \"#fb9f3a\"], [0.8888888888888888, \"#fdca26\"], [1.0, \"#f0f921\"]], \"type\": \"histogram2dcontour\"}], \"mesh3d\": [{\"colorbar\": {\"outlinewidth\": 0, \"ticks\": \"\"}, \"type\": \"mesh3d\"}], \"parcoords\": [{\"line\": {\"colorbar\": {\"outlinewidth\": 0, \"ticks\": \"\"}}, \"type\": \"parcoords\"}], \"pie\": [{\"automargin\": true, \"type\": \"pie\"}], \"scatter\": [{\"marker\": {\"colorbar\": {\"outlinewidth\": 0, \"ticks\": \"\"}}, \"type\": \"scatter\"}], \"scatter3d\": [{\"line\": {\"colorbar\": {\"outlinewidth\": 0, \"ticks\": \"\"}}, \"marker\": {\"colorbar\": {\"outlinewidth\": 0, \"ticks\": \"\"}}, \"type\": \"scatter3d\"}], \"scattercarpet\": [{\"marker\": {\"colorbar\": {\"outlinewidth\": 0, \"ticks\": \"\"}}, \"type\": \"scattercarpet\"}], \"scattergeo\": [{\"marker\": {\"colorbar\": {\"outlinewidth\": 0, \"ticks\": \"\"}}, \"type\": \"scattergeo\"}], \"scattergl\": [{\"marker\": {\"colorbar\": {\"outlinewidth\": 0, \"ticks\": \"\"}}, \"type\": \"scattergl\"}], \"scattermapbox\": [{\"marker\": {\"colorbar\": {\"outlinewidth\": 0, \"ticks\": \"\"}}, \"type\": \"scattermapbox\"}], \"scatterpolar\": [{\"marker\": {\"colorbar\": {\"outlinewidth\": 0, \"ticks\": \"\"}}, \"type\": \"scatterpolar\"}], \"scatterpolargl\": [{\"marker\": {\"colorbar\": {\"outlinewidth\": 0, \"ticks\": \"\"}}, \"type\": \"scatterpolargl\"}], \"scatterternary\": [{\"marker\": {\"colorbar\": {\"outlinewidth\": 0, \"ticks\": \"\"}}, \"type\": \"scatterternary\"}], \"surface\": [{\"colorbar\": {\"outlinewidth\": 0, \"ticks\": \"\"}, \"colorscale\": [[0.0, \"#0d0887\"], [0.1111111111111111, \"#46039f\"], [0.2222222222222222, \"#7201a8\"], [0.3333333333333333, \"#9c179e\"], [0.4444444444444444, \"#bd3786\"], [0.5555555555555556, \"#d8576b\"], [0.6666666666666666, \"#ed7953\"], [0.7777777777777778, \"#fb9f3a\"], [0.8888888888888888, \"#fdca26\"], [1.0, \"#f0f921\"]], \"type\": \"surface\"}], \"table\": [{\"cells\": {\"fill\": {\"color\": \"#EBF0F8\"}, \"line\": {\"color\": \"white\"}}, \"header\": {\"fill\": {\"color\": \"#C8D4E3\"}, \"line\": {\"color\": \"white\"}}, \"type\": \"table\"}]}, \"layout\": {\"annotationdefaults\": {\"arrowcolor\": \"#2a3f5f\", \"arrowhead\": 0, \"arrowwidth\": 1}, \"coloraxis\": {\"colorbar\": {\"outlinewidth\": 0, \"ticks\": \"\"}}, \"colorscale\": {\"diverging\": [[0, \"#8e0152\"], [0.1, \"#c51b7d\"], [0.2, \"#de77ae\"], [0.3, \"#f1b6da\"], [0.4, \"#fde0ef\"], [0.5, \"#f7f7f7\"], [0.6, \"#e6f5d0\"], [0.7, \"#b8e186\"], [0.8, \"#7fbc41\"], [0.9, \"#4d9221\"], [1, \"#276419\"]], \"sequential\": [[0.0, \"#0d0887\"], [0.1111111111111111, \"#46039f\"], [0.2222222222222222, \"#7201a8\"], [0.3333333333333333, \"#9c179e\"], [0.4444444444444444, \"#bd3786\"], [0.5555555555555556, \"#d8576b\"], [0.6666666666666666, \"#ed7953\"], [0.7777777777777778, \"#fb9f3a\"], [0.8888888888888888, \"#fdca26\"], [1.0, \"#f0f921\"]], \"sequentialminus\": [[0.0, \"#0d0887\"], [0.1111111111111111, \"#46039f\"], [0.2222222222222222, \"#7201a8\"], [0.3333333333333333, \"#9c179e\"], [0.4444444444444444, \"#bd3786\"], [0.5555555555555556, \"#d8576b\"], [0.6666666666666666, \"#ed7953\"], [0.7777777777777778, \"#fb9f3a\"], [0.8888888888888888, \"#fdca26\"], [1.0, \"#f0f921\"]]}, \"colorway\": [\"#636efa\", \"#EF553B\", \"#00cc96\", \"#ab63fa\", \"#FFA15A\", \"#19d3f3\", \"#FF6692\", \"#B6E880\", \"#FF97FF\", \"#FECB52\"], \"font\": {\"color\": \"#2a3f5f\"}, \"geo\": {\"bgcolor\": \"white\", \"lakecolor\": \"white\", \"landcolor\": \"#E5ECF6\", \"showlakes\": true, \"showland\": true, \"subunitcolor\": \"white\"}, \"hoverlabel\": {\"align\": \"left\"}, \"hovermode\": \"closest\", \"mapbox\": {\"style\": \"light\"}, \"paper_bgcolor\": \"white\", \"plot_bgcolor\": \"#E5ECF6\", \"polar\": {\"angularaxis\": {\"gridcolor\": \"white\", \"linecolor\": \"white\", \"ticks\": \"\"}, \"bgcolor\": \"#E5ECF6\", \"radialaxis\": {\"gridcolor\": \"white\", \"linecolor\": \"white\", \"ticks\": \"\"}}, \"scene\": {\"xaxis\": {\"backgroundcolor\": \"#E5ECF6\", \"gridcolor\": \"white\", \"gridwidth\": 2, \"linecolor\": \"white\", \"showbackground\": true, \"ticks\": \"\", \"zerolinecolor\": \"white\"}, \"yaxis\": {\"backgroundcolor\": \"#E5ECF6\", \"gridcolor\": \"white\", \"gridwidth\": 2, \"linecolor\": \"white\", \"showbackground\": true, \"ticks\": \"\", \"zerolinecolor\": \"white\"}, \"zaxis\": {\"backgroundcolor\": \"#E5ECF6\", \"gridcolor\": \"white\", \"gridwidth\": 2, \"linecolor\": \"white\", \"showbackground\": true, \"ticks\": \"\", \"zerolinecolor\": \"white\"}}, \"shapedefaults\": {\"line\": {\"color\": \"#2a3f5f\"}}, \"ternary\": {\"aaxis\": {\"gridcolor\": \"white\", \"linecolor\": \"white\", \"ticks\": \"\"}, \"baxis\": {\"gridcolor\": \"white\", \"linecolor\": \"white\", \"ticks\": \"\"}, \"bgcolor\": \"#E5ECF6\", \"caxis\": {\"gridcolor\": \"white\", \"linecolor\": \"white\", \"ticks\": \"\"}}, \"title\": {\"x\": 0.05}, \"xaxis\": {\"automargin\": true, \"gridcolor\": \"white\", \"linecolor\": \"white\", \"ticks\": \"\", \"title\": {\"standoff\": 15}, \"zerolinecolor\": \"white\", \"zerolinewidth\": 2}, \"yaxis\": {\"automargin\": true, \"gridcolor\": \"white\", \"linecolor\": \"white\", \"ticks\": \"\", \"title\": {\"standoff\": 15}, \"zerolinecolor\": \"white\", \"zerolinewidth\": 2}}}, \"title\": {\"text\": \"Vizualizacia rozdielov pocetnosti - 5_PIA\"}, \"xaxis\": {\"title\": {\"text\": \"hour\"}}, \"yaxis\": {\"title\": {\"text\": \"rozdiely\"}}},\n",
              "                        {\"responsive\": true}\n",
              "                    ).then(function(){\n",
              "                            \n",
              "var gd = document.getElementById('3bf63b2a-c344-4d04-96e6-8d1914991d4d');\n",
              "var x = new MutationObserver(function (mutations, observer) {{\n",
              "        var display = window.getComputedStyle(gd).display;\n",
              "        if (!display || display === 'none') {{\n",
              "            console.log([gd, 'removed!']);\n",
              "            Plotly.purge(gd);\n",
              "            observer.disconnect();\n",
              "        }}\n",
              "}});\n",
              "\n",
              "// Listen for the removal of the full notebook cells\n",
              "var notebookContainer = gd.closest('#notebook-container');\n",
              "if (notebookContainer) {{\n",
              "    x.observe(notebookContainer, {childList: true});\n",
              "}}\n",
              "\n",
              "// Listen for the clearing of the current output cell\n",
              "var outputEl = gd.closest('.output');\n",
              "if (outputEl) {{\n",
              "    x.observe(outputEl, {childList: true});\n",
              "}}\n",
              "\n",
              "                        })\n",
              "                };\n",
              "                \n",
              "            </script>\n",
              "        </div>\n",
              "</body>\n",
              "</html>"
            ]
          },
          "metadata": {},
          "output_type": "display_data"
        }
      ],
      "source": [
        "figures['5_PIA'].show()"
      ]
    },
    {
      "cell_type": "markdown",
      "metadata": {
        "id": "tr3S20sWSf5z"
      },
      "source": [
        "*Sobota*"
      ]
    },
    {
      "cell_type": "code",
      "execution_count": null,
      "metadata": {
        "colab": {
          "base_uri": "https://localhost:8080/",
          "height": 542
        },
        "id": "sPfKmwzCSejR",
        "outputId": "ced125ef-81f3-43ce-806b-7cfaab79b1fa"
      },
      "outputs": [
        {
          "data": {
            "text/html": [
              "<html>\n",
              "<head><meta charset=\"utf-8\" /></head>\n",
              "<body>\n",
              "    <div>\n",
              "            <script src=\"https://cdnjs.cloudflare.com/ajax/libs/mathjax/2.7.5/MathJax.js?config=TeX-AMS-MML_SVG\"></script><script type=\"text/javascript\">if (window.MathJax) {MathJax.Hub.Config({SVG: {font: \"STIX-Web\"}});}</script>\n",
              "                <script type=\"text/javascript\">window.PlotlyConfig = {MathJaxConfig: 'local'};</script>\n",
              "        <script src=\"https://cdn.plot.ly/plotly-latest.min.js\"></script>    \n",
              "            <div id=\"2754fdce-62be-4aef-a151-b8d22737467e\" class=\"plotly-graph-div\" style=\"height:525px; width:100%;\"></div>\n",
              "            <script type=\"text/javascript\">\n",
              "                \n",
              "                    window.PLOTLYENV=window.PLOTLYENV || {};\n",
              "                    \n",
              "                if (document.getElementById(\"2754fdce-62be-4aef-a151-b8d22737467e\")) {\n",
              "                    Plotly.newPlot(\n",
              "                        '2754fdce-62be-4aef-a151-b8d22737467e',\n",
              "                        [{\"line\": {\"color\": \"blue\"}, \"mode\": \"lines\", \"name\": \"uvod\", \"type\": \"scatter\", \"x\": [7.0, 8.0, 9.0, 10.0, 11.0, 12.0, 13.0, 14.0, 15.0, 16.0, 17.0, 18.0, 19.0, 20.0, 21.0, 22.0], \"y\": [-3.3997923526830363, -4.807944633931186, -0.41936397899846867, 1.9842440674144228, 2.64432785273992, -2.3049267236926063, -1.2887292332254852, 1.0572637994136986, 3.2399611515281634, -1.903483657608362, 0.0, 0.0, 0.0, 0.0, -1.2221807345275693, -7.975005212605822]}, {\"line\": {\"color\": \"lightgrey\", \"dash\": \"dashdot\"}, \"mode\": \"lines\", \"name\": \"ext uvod\", \"type\": \"scatter\", \"x\": [7.0, 8.0, 9.0, 10.0, 11.0, 12.0, 13.0, 14.0, 15.0, 16.0, 17.0, 18.0, 19.0, 20.0, 21.0, 22.0], \"y\": [4.760301290000219, 4.760301290000219, 4.760301290000219, 4.760301290000219, 4.760301290000219, 4.760301290000219, 4.760301290000219, 4.760301290000219, 4.760301290000219, 4.760301290000219, 4.760301290000219, 4.760301290000219, 4.760301290000219, 4.760301290000219, 4.760301290000219, 4.760301290000219]}, {\"line\": {\"color\": \"lightgrey\", \"dash\": \"dashdot\"}, \"mode\": \"lines\", \"name\": \"ext uvod\", \"type\": \"scatter\", \"x\": [7.0, 8.0, 9.0, 10.0, 11.0, 12.0, 13.0, 14.0, 15.0, 16.0, 17.0, 18.0, 19.0, 20.0, 21.0, 22.0], \"y\": [-6.559754997022259, -6.559754997022259, -6.559754997022259, -6.559754997022259, -6.559754997022259, -6.559754997022259, -6.559754997022259, -6.559754997022259, -6.559754997022259, -6.559754997022259, -6.559754997022259, -6.559754997022259, -6.559754997022259, -6.559754997022259, -6.559754997022259, -6.559754997022259]}, {\"line\": {\"color\": \"green\"}, \"mode\": \"lines\", \"name\": \"studium\", \"type\": \"scatter\", \"x\": [7.0, 8.0, 9.0, 10.0, 11.0, 12.0, 13.0, 14.0, 15.0, 16.0, 17.0, 18.0, 19.0, 20.0, 21.0, 22.0], \"y\": [-0.29637072466035286, 2.4643802599477302, 0.8979404547501963, -1.5250007471976015, -1.8135272433484575, -1.455731243969992, -0.40053940698806256, -0.9556644751631147, -2.969475112214556, -1.6375253945546184, 0.0, 0.0, 0.0, 0.0, -2.554070541089227, 7.985705571472538]}, {\"line\": {\"color\": \"lightgrey\", \"dash\": \"dashdot\"}, \"mode\": \"lines\", \"name\": \"ext studium\", \"type\": \"scatter\", \"x\": [7.0, 8.0, 9.0, 10.0, 11.0, 12.0, 13.0, 14.0, 15.0, 16.0, 17.0, 18.0, 19.0, 20.0, 21.0, 22.0], \"y\": [4.951223706083977, 4.951223706083977, 4.951223706083977, 4.951223706083977, 4.951223706083977, 4.951223706083977, 4.951223706083977, 4.951223706083977, 4.951223706083977, 4.951223706083977, 4.951223706083977, 4.951223706083977, 4.951223706083977, 4.951223706083977, 4.951223706083977, 4.951223706083977]}, {\"line\": {\"color\": \"lightgrey\", \"dash\": \"dashdot\"}, \"mode\": \"lines\", \"name\": \"ext studium\", \"type\": \"scatter\", \"x\": [7.0, 8.0, 9.0, 10.0, 11.0, 12.0, 13.0, 14.0, 15.0, 16.0, 17.0, 18.0, 19.0, 20.0, 21.0, 22.0], \"y\": [-5.233708531460917, -5.233708531460917, -5.233708531460917, -5.233708531460917, -5.233708531460917, -5.233708531460917, -5.233708531460917, -5.233708531460917, -5.233708531460917, -5.233708531460917, -5.233708531460917, -5.233708531460917, -5.233708531460917, -5.233708531460917, -5.233708531460917, -5.233708531460917]}, {\"line\": {\"color\": \"red\"}, \"mode\": \"lines\", \"name\": \"oznamy\", \"type\": \"scatter\", \"x\": [7.0, 8.0, 9.0, 10.0, 11.0, 12.0, 13.0, 14.0, 15.0, 16.0, 17.0, 18.0, 19.0, 20.0, 21.0, 22.0], \"y\": [-0.3038369226566097, 2.3435643739834635, -0.47857647575173035, -0.45924332021682196, -0.830800609391458, 0.7606579676625976, -0.31073135978645267, -0.10159932425058343, -0.27048603931361037, -0.45899094783702166, 0.0, 0.0, 0.0, 0.0, -0.22374872438320387, -0.010700358866716497]}, {\"line\": {\"color\": \"lightgrey\", \"dash\": \"dashdot\"}, \"mode\": \"lines\", \"name\": \"ext oznamy\", \"type\": \"scatter\", \"x\": [7.0, 8.0, 9.0, 10.0, 11.0, 12.0, 13.0, 14.0, 15.0, 16.0, 17.0, 18.0, 19.0, 20.0, 21.0, 22.0], \"y\": [1.4139114545063969, 1.4139114545063969, 1.4139114545063969, 1.4139114545063969, 1.4139114545063969, 1.4139114545063969, 1.4139114545063969, 1.4139114545063969, 1.4139114545063969, 1.4139114545063969, 1.4139114545063969, 1.4139114545063969, 1.4139114545063969, 1.4139114545063969, 1.4139114545063969, 1.4139114545063969]}, {\"line\": {\"color\": \"lightgrey\", \"dash\": \"dashdot\"}, \"mode\": \"lines\", \"name\": \"ext oznamy\", \"type\": \"scatter\", \"x\": [7.0, 8.0, 9.0, 10.0, 11.0, 12.0, 13.0, 14.0, 15.0, 16.0, 17.0, 18.0, 19.0, 20.0, 21.0, 22.0], \"y\": [-1.4569729221074155, -1.4569729221074155, -1.4569729221074155, -1.4569729221074155, -1.4569729221074155, -1.4569729221074155, -1.4569729221074155, -1.4569729221074155, -1.4569729221074155, -1.4569729221074155, -1.4569729221074155, -1.4569729221074155, -1.4569729221074155, -1.4569729221074155, -1.4569729221074155, -1.4569729221074155]}, {\"line\": {\"color\": \"yellow\"}, \"mode\": \"lines\", \"name\": \"o fakulte\", \"type\": \"scatter\", \"x\": [7.0, 8.0, 9.0, 10.0, 11.0, 12.0, 13.0, 14.0, 15.0, 16.0, 17.0, 18.0, 19.0, 20.0, 21.0, 22.0], \"y\": [3.4429959186692543, -3.6773266870815213, -1.256856099645945, -1.393404349413434, -2.843696474548337, 2.0976506775585624, 0.7401324210389093, -0.43257060913587264, -1.1809605281053936, 1.9927626539522554, 0.0, 0.0, 0.0, 0.0, 3.301523907568792, -2.7534332491054636]}, {\"line\": {\"color\": \"lightgrey\", \"dash\": \"dashdot\"}, \"mode\": \"lines\", \"name\": \"ext o fakulte\", \"type\": \"scatter\", \"x\": [7.0, 8.0, 9.0, 10.0, 11.0, 12.0, 13.0, 14.0, 15.0, 16.0, 17.0, 18.0, 19.0, 20.0, 21.0, 22.0], \"y\": [4.0638262113494275, 4.0638262113494275, 4.0638262113494275, 4.0638262113494275, 4.0638262113494275, 4.0638262113494275, 4.0638262113494275, 4.0638262113494275, 4.0638262113494275, 4.0638262113494275, 4.0638262113494275, 4.0638262113494275, 4.0638262113494275, 4.0638262113494275, 4.0638262113494275, 4.0638262113494275]}, {\"line\": {\"color\": \"lightgrey\", \"dash\": \"dashdot\"}, \"mode\": \"lines\", \"name\": \"ext o fakulte\", \"type\": \"scatter\", \"x\": [7.0, 8.0, 9.0, 10.0, 11.0, 12.0, 13.0, 14.0, 15.0, 16.0, 17.0, 18.0, 19.0, 20.0, 21.0, 22.0], \"y\": [-4.309224013630452, -4.309224013630452, -4.309224013630452, -4.309224013630452, -4.309224013630452, -4.309224013630452, -4.309224013630452, -4.309224013630452, -4.309224013630452, -4.309224013630452, -4.309224013630452, -4.309224013630452, -4.309224013630452, -4.309224013630452, -4.309224013630452, -4.309224013630452]}],\n",
              "                        {\"template\": {\"data\": {\"bar\": [{\"error_x\": {\"color\": \"#2a3f5f\"}, \"error_y\": {\"color\": \"#2a3f5f\"}, \"marker\": {\"line\": {\"color\": \"#E5ECF6\", \"width\": 0.5}}, \"type\": \"bar\"}], \"barpolar\": [{\"marker\": {\"line\": {\"color\": \"#E5ECF6\", \"width\": 0.5}}, \"type\": \"barpolar\"}], \"carpet\": [{\"aaxis\": {\"endlinecolor\": \"#2a3f5f\", \"gridcolor\": \"white\", \"linecolor\": \"white\", \"minorgridcolor\": \"white\", \"startlinecolor\": \"#2a3f5f\"}, \"baxis\": {\"endlinecolor\": \"#2a3f5f\", \"gridcolor\": \"white\", \"linecolor\": \"white\", \"minorgridcolor\": \"white\", \"startlinecolor\": \"#2a3f5f\"}, \"type\": \"carpet\"}], \"choropleth\": [{\"colorbar\": {\"outlinewidth\": 0, \"ticks\": \"\"}, \"type\": \"choropleth\"}], \"contour\": [{\"colorbar\": {\"outlinewidth\": 0, \"ticks\": \"\"}, \"colorscale\": [[0.0, \"#0d0887\"], [0.1111111111111111, \"#46039f\"], [0.2222222222222222, \"#7201a8\"], [0.3333333333333333, \"#9c179e\"], [0.4444444444444444, \"#bd3786\"], [0.5555555555555556, \"#d8576b\"], [0.6666666666666666, \"#ed7953\"], [0.7777777777777778, \"#fb9f3a\"], [0.8888888888888888, \"#fdca26\"], [1.0, \"#f0f921\"]], \"type\": \"contour\"}], \"contourcarpet\": [{\"colorbar\": {\"outlinewidth\": 0, \"ticks\": \"\"}, \"type\": \"contourcarpet\"}], \"heatmap\": [{\"colorbar\": {\"outlinewidth\": 0, \"ticks\": \"\"}, \"colorscale\": [[0.0, \"#0d0887\"], [0.1111111111111111, \"#46039f\"], [0.2222222222222222, \"#7201a8\"], [0.3333333333333333, \"#9c179e\"], [0.4444444444444444, \"#bd3786\"], [0.5555555555555556, \"#d8576b\"], [0.6666666666666666, \"#ed7953\"], [0.7777777777777778, \"#fb9f3a\"], [0.8888888888888888, \"#fdca26\"], [1.0, \"#f0f921\"]], \"type\": \"heatmap\"}], \"heatmapgl\": [{\"colorbar\": {\"outlinewidth\": 0, \"ticks\": \"\"}, \"colorscale\": [[0.0, \"#0d0887\"], [0.1111111111111111, \"#46039f\"], [0.2222222222222222, \"#7201a8\"], [0.3333333333333333, \"#9c179e\"], [0.4444444444444444, \"#bd3786\"], [0.5555555555555556, \"#d8576b\"], [0.6666666666666666, \"#ed7953\"], [0.7777777777777778, \"#fb9f3a\"], [0.8888888888888888, \"#fdca26\"], [1.0, \"#f0f921\"]], \"type\": \"heatmapgl\"}], \"histogram\": [{\"marker\": {\"colorbar\": {\"outlinewidth\": 0, \"ticks\": \"\"}}, \"type\": \"histogram\"}], \"histogram2d\": [{\"colorbar\": {\"outlinewidth\": 0, \"ticks\": \"\"}, \"colorscale\": [[0.0, \"#0d0887\"], [0.1111111111111111, \"#46039f\"], [0.2222222222222222, \"#7201a8\"], [0.3333333333333333, \"#9c179e\"], [0.4444444444444444, \"#bd3786\"], [0.5555555555555556, \"#d8576b\"], [0.6666666666666666, \"#ed7953\"], [0.7777777777777778, \"#fb9f3a\"], [0.8888888888888888, \"#fdca26\"], [1.0, \"#f0f921\"]], \"type\": \"histogram2d\"}], \"histogram2dcontour\": [{\"colorbar\": {\"outlinewidth\": 0, \"ticks\": \"\"}, \"colorscale\": [[0.0, \"#0d0887\"], [0.1111111111111111, \"#46039f\"], [0.2222222222222222, \"#7201a8\"], [0.3333333333333333, \"#9c179e\"], [0.4444444444444444, \"#bd3786\"], [0.5555555555555556, \"#d8576b\"], [0.6666666666666666, \"#ed7953\"], [0.7777777777777778, \"#fb9f3a\"], [0.8888888888888888, \"#fdca26\"], [1.0, \"#f0f921\"]], \"type\": \"histogram2dcontour\"}], \"mesh3d\": [{\"colorbar\": {\"outlinewidth\": 0, \"ticks\": \"\"}, \"type\": \"mesh3d\"}], \"parcoords\": [{\"line\": {\"colorbar\": {\"outlinewidth\": 0, \"ticks\": \"\"}}, \"type\": \"parcoords\"}], \"pie\": [{\"automargin\": true, \"type\": \"pie\"}], \"scatter\": [{\"marker\": {\"colorbar\": {\"outlinewidth\": 0, \"ticks\": \"\"}}, \"type\": \"scatter\"}], \"scatter3d\": [{\"line\": {\"colorbar\": {\"outlinewidth\": 0, \"ticks\": \"\"}}, \"marker\": {\"colorbar\": {\"outlinewidth\": 0, \"ticks\": \"\"}}, \"type\": \"scatter3d\"}], \"scattercarpet\": [{\"marker\": {\"colorbar\": {\"outlinewidth\": 0, \"ticks\": \"\"}}, \"type\": \"scattercarpet\"}], \"scattergeo\": [{\"marker\": {\"colorbar\": {\"outlinewidth\": 0, \"ticks\": \"\"}}, \"type\": \"scattergeo\"}], \"scattergl\": [{\"marker\": {\"colorbar\": {\"outlinewidth\": 0, \"ticks\": \"\"}}, \"type\": \"scattergl\"}], \"scattermapbox\": [{\"marker\": {\"colorbar\": {\"outlinewidth\": 0, \"ticks\": \"\"}}, \"type\": \"scattermapbox\"}], \"scatterpolar\": [{\"marker\": {\"colorbar\": {\"outlinewidth\": 0, \"ticks\": \"\"}}, \"type\": \"scatterpolar\"}], \"scatterpolargl\": [{\"marker\": {\"colorbar\": {\"outlinewidth\": 0, \"ticks\": \"\"}}, \"type\": \"scatterpolargl\"}], \"scatterternary\": [{\"marker\": {\"colorbar\": {\"outlinewidth\": 0, \"ticks\": \"\"}}, \"type\": \"scatterternary\"}], \"surface\": [{\"colorbar\": {\"outlinewidth\": 0, \"ticks\": \"\"}, \"colorscale\": [[0.0, \"#0d0887\"], [0.1111111111111111, \"#46039f\"], [0.2222222222222222, \"#7201a8\"], [0.3333333333333333, \"#9c179e\"], [0.4444444444444444, \"#bd3786\"], [0.5555555555555556, \"#d8576b\"], [0.6666666666666666, \"#ed7953\"], [0.7777777777777778, \"#fb9f3a\"], [0.8888888888888888, \"#fdca26\"], [1.0, \"#f0f921\"]], \"type\": \"surface\"}], \"table\": [{\"cells\": {\"fill\": {\"color\": \"#EBF0F8\"}, \"line\": {\"color\": \"white\"}}, \"header\": {\"fill\": {\"color\": \"#C8D4E3\"}, \"line\": {\"color\": \"white\"}}, \"type\": \"table\"}]}, \"layout\": {\"annotationdefaults\": {\"arrowcolor\": \"#2a3f5f\", \"arrowhead\": 0, \"arrowwidth\": 1}, \"coloraxis\": {\"colorbar\": {\"outlinewidth\": 0, \"ticks\": \"\"}}, \"colorscale\": {\"diverging\": [[0, \"#8e0152\"], [0.1, \"#c51b7d\"], [0.2, \"#de77ae\"], [0.3, \"#f1b6da\"], [0.4, \"#fde0ef\"], [0.5, \"#f7f7f7\"], [0.6, \"#e6f5d0\"], [0.7, \"#b8e186\"], [0.8, \"#7fbc41\"], [0.9, \"#4d9221\"], [1, \"#276419\"]], \"sequential\": [[0.0, \"#0d0887\"], [0.1111111111111111, \"#46039f\"], [0.2222222222222222, \"#7201a8\"], [0.3333333333333333, \"#9c179e\"], [0.4444444444444444, \"#bd3786\"], [0.5555555555555556, \"#d8576b\"], [0.6666666666666666, \"#ed7953\"], [0.7777777777777778, \"#fb9f3a\"], [0.8888888888888888, \"#fdca26\"], [1.0, \"#f0f921\"]], \"sequentialminus\": [[0.0, \"#0d0887\"], [0.1111111111111111, \"#46039f\"], [0.2222222222222222, \"#7201a8\"], [0.3333333333333333, \"#9c179e\"], [0.4444444444444444, \"#bd3786\"], [0.5555555555555556, \"#d8576b\"], [0.6666666666666666, \"#ed7953\"], [0.7777777777777778, \"#fb9f3a\"], [0.8888888888888888, \"#fdca26\"], [1.0, \"#f0f921\"]]}, \"colorway\": [\"#636efa\", \"#EF553B\", \"#00cc96\", \"#ab63fa\", \"#FFA15A\", \"#19d3f3\", \"#FF6692\", \"#B6E880\", \"#FF97FF\", \"#FECB52\"], \"font\": {\"color\": \"#2a3f5f\"}, \"geo\": {\"bgcolor\": \"white\", \"lakecolor\": \"white\", \"landcolor\": \"#E5ECF6\", \"showlakes\": true, \"showland\": true, \"subunitcolor\": \"white\"}, \"hoverlabel\": {\"align\": \"left\"}, \"hovermode\": \"closest\", \"mapbox\": {\"style\": \"light\"}, \"paper_bgcolor\": \"white\", \"plot_bgcolor\": \"#E5ECF6\", \"polar\": {\"angularaxis\": {\"gridcolor\": \"white\", \"linecolor\": \"white\", \"ticks\": \"\"}, \"bgcolor\": \"#E5ECF6\", \"radialaxis\": {\"gridcolor\": \"white\", \"linecolor\": \"white\", \"ticks\": \"\"}}, \"scene\": {\"xaxis\": {\"backgroundcolor\": \"#E5ECF6\", \"gridcolor\": \"white\", \"gridwidth\": 2, \"linecolor\": \"white\", \"showbackground\": true, \"ticks\": \"\", \"zerolinecolor\": \"white\"}, \"yaxis\": {\"backgroundcolor\": \"#E5ECF6\", \"gridcolor\": \"white\", \"gridwidth\": 2, \"linecolor\": \"white\", \"showbackground\": true, \"ticks\": \"\", \"zerolinecolor\": \"white\"}, \"zaxis\": {\"backgroundcolor\": \"#E5ECF6\", \"gridcolor\": \"white\", \"gridwidth\": 2, \"linecolor\": \"white\", \"showbackground\": true, \"ticks\": \"\", \"zerolinecolor\": \"white\"}}, \"shapedefaults\": {\"line\": {\"color\": \"#2a3f5f\"}}, \"ternary\": {\"aaxis\": {\"gridcolor\": \"white\", \"linecolor\": \"white\", \"ticks\": \"\"}, \"baxis\": {\"gridcolor\": \"white\", \"linecolor\": \"white\", \"ticks\": \"\"}, \"bgcolor\": \"#E5ECF6\", \"caxis\": {\"gridcolor\": \"white\", \"linecolor\": \"white\", \"ticks\": \"\"}}, \"title\": {\"x\": 0.05}, \"xaxis\": {\"automargin\": true, \"gridcolor\": \"white\", \"linecolor\": \"white\", \"ticks\": \"\", \"title\": {\"standoff\": 15}, \"zerolinecolor\": \"white\", \"zerolinewidth\": 2}, \"yaxis\": {\"automargin\": true, \"gridcolor\": \"white\", \"linecolor\": \"white\", \"ticks\": \"\", \"title\": {\"standoff\": 15}, \"zerolinecolor\": \"white\", \"zerolinewidth\": 2}}}, \"title\": {\"text\": \"Vizualizacia rozdielov pocetnosti - 6_SO\"}, \"xaxis\": {\"title\": {\"text\": \"hour\"}}, \"yaxis\": {\"title\": {\"text\": \"rozdiely\"}}},\n",
              "                        {\"responsive\": true}\n",
              "                    ).then(function(){\n",
              "                            \n",
              "var gd = document.getElementById('2754fdce-62be-4aef-a151-b8d22737467e');\n",
              "var x = new MutationObserver(function (mutations, observer) {{\n",
              "        var display = window.getComputedStyle(gd).display;\n",
              "        if (!display || display === 'none') {{\n",
              "            console.log([gd, 'removed!']);\n",
              "            Plotly.purge(gd);\n",
              "            observer.disconnect();\n",
              "        }}\n",
              "}});\n",
              "\n",
              "// Listen for the removal of the full notebook cells\n",
              "var notebookContainer = gd.closest('#notebook-container');\n",
              "if (notebookContainer) {{\n",
              "    x.observe(notebookContainer, {childList: true});\n",
              "}}\n",
              "\n",
              "// Listen for the clearing of the current output cell\n",
              "var outputEl = gd.closest('.output');\n",
              "if (outputEl) {{\n",
              "    x.observe(outputEl, {childList: true});\n",
              "}}\n",
              "\n",
              "                        })\n",
              "                };\n",
              "                \n",
              "            </script>\n",
              "        </div>\n",
              "</body>\n",
              "</html>"
            ]
          },
          "metadata": {},
          "output_type": "display_data"
        }
      ],
      "source": [
        "figures['6_SO'].show()"
      ]
    }
  ],
  "metadata": {
    "colab": {
      "collapsed_sections": [],
      "name": "evalvacia_modelu_II_a.ipynb",
      "provenance": []
    },
    "kernelspec": {
      "display_name": "Python 3",
      "name": "python3"
    },
    "language_info": {
      "name": "python"
    }
  },
  "nbformat": 4,
  "nbformat_minor": 0
}
