{
  "nbformat": 4,
  "nbformat_minor": 0,
  "metadata": {
    "colab": {
      "name": "datovy_subor.ipynb",
      "provenance": [],
      "collapsed_sections": []
    },
    "kernelspec": {
      "name": "python3",
      "display_name": "Python 3"
    },
    "language_info": {
      "name": "python"
    }
  },
  "cells": [
    {
      "cell_type": "markdown",
      "metadata": {
        "id": "j0Z1K2xv6maK"
      },
      "source": [
        "0. Imports"
      ]
    },
    {
      "cell_type": "code",
      "metadata": {
        "id": "y-wfqjNx6Ftq"
      },
      "source": [
        "import pandas as pd\n",
        "import datetime\n",
        "import re"
      ],
      "execution_count": 1,
      "outputs": []
    },
    {
      "cell_type": "markdown",
      "metadata": {
        "id": "T-aTuMGlGWq3"
      },
      "source": [
        "1. Load csv"
      ]
    },
    {
      "cell_type": "code",
      "metadata": {
        "colab": {
          "base_uri": "https://localhost:8080/",
          "height": 357
        },
        "id": "LTEU19Yg6lGM",
        "outputId": "8c2c95c8-e6b2-43d6-c856-a404cf921706"
      },
      "source": [
        "# change to your file location\n",
        "df = pd.read_csv('/content/drive/MyDrive/Škola/DM/datovy_súbor/log_jeden_den.csv', ';', usecols=['ip','url', 'unixtime'])\n",
        "df.head(10)"
      ],
      "execution_count": 2,
      "outputs": [
        {
          "output_type": "execute_result",
          "data": {
            "text/html": [
              "<div>\n",
              "<style scoped>\n",
              "    .dataframe tbody tr th:only-of-type {\n",
              "        vertical-align: middle;\n",
              "    }\n",
              "\n",
              "    .dataframe tbody tr th {\n",
              "        vertical-align: top;\n",
              "    }\n",
              "\n",
              "    .dataframe thead th {\n",
              "        text-align: right;\n",
              "    }\n",
              "</style>\n",
              "<table border=\"1\" class=\"dataframe\">\n",
              "  <thead>\n",
              "    <tr style=\"text-align: right;\">\n",
              "      <th></th>\n",
              "      <th>ip</th>\n",
              "      <th>url</th>\n",
              "      <th>unixtime</th>\n",
              "    </tr>\n",
              "  </thead>\n",
              "  <tbody>\n",
              "    <tr>\n",
              "      <th>0</th>\n",
              "      <td>10.160.0.12</td>\n",
              "      <td>GET / HTTP/1.1</td>\n",
              "      <td>1582096524</td>\n",
              "    </tr>\n",
              "    <tr>\n",
              "      <th>1</th>\n",
              "      <td>10.160.0.126</td>\n",
              "      <td>GET / HTTP/1.1</td>\n",
              "      <td>1582119924</td>\n",
              "    </tr>\n",
              "    <tr>\n",
              "      <th>2</th>\n",
              "      <td>10.160.0.127</td>\n",
              "      <td>GET / HTTP/1.1</td>\n",
              "      <td>1582113753</td>\n",
              "    </tr>\n",
              "    <tr>\n",
              "      <th>3</th>\n",
              "      <td>10.160.0.13</td>\n",
              "      <td>GET / HTTP/1.1</td>\n",
              "      <td>1582105765</td>\n",
              "    </tr>\n",
              "    <tr>\n",
              "      <th>4</th>\n",
              "      <td>10.160.0.166</td>\n",
              "      <td>GET / HTTP/1.1</td>\n",
              "      <td>1582101139</td>\n",
              "    </tr>\n",
              "    <tr>\n",
              "      <th>5</th>\n",
              "      <td>10.160.0.166</td>\n",
              "      <td>GET / HTTP/1.1</td>\n",
              "      <td>1582102809</td>\n",
              "    </tr>\n",
              "    <tr>\n",
              "      <th>6</th>\n",
              "      <td>10.160.0.174</td>\n",
              "      <td>GET / HTTP/1.1</td>\n",
              "      <td>1582093467</td>\n",
              "    </tr>\n",
              "    <tr>\n",
              "      <th>7</th>\n",
              "      <td>10.160.0.177</td>\n",
              "      <td>GET / HTTP/1.1</td>\n",
              "      <td>1582101744</td>\n",
              "    </tr>\n",
              "    <tr>\n",
              "      <th>8</th>\n",
              "      <td>10.160.0.177</td>\n",
              "      <td>GET /univerzita/kontakt/adresar-osob HTTP/1.1</td>\n",
              "      <td>1582104899</td>\n",
              "    </tr>\n",
              "    <tr>\n",
              "      <th>9</th>\n",
              "      <td>10.160.0.177</td>\n",
              "      <td>GET / HTTP/1.1</td>\n",
              "      <td>1582117002</td>\n",
              "    </tr>\n",
              "  </tbody>\n",
              "</table>\n",
              "</div>"
            ],
            "text/plain": [
              "             ip                                            url    unixtime\n",
              "0   10.160.0.12                                 GET / HTTP/1.1  1582096524\n",
              "1  10.160.0.126                                 GET / HTTP/1.1  1582119924\n",
              "2  10.160.0.127                                 GET / HTTP/1.1  1582113753\n",
              "3   10.160.0.13                                 GET / HTTP/1.1  1582105765\n",
              "4  10.160.0.166                                 GET / HTTP/1.1  1582101139\n",
              "5  10.160.0.166                                 GET / HTTP/1.1  1582102809\n",
              "6  10.160.0.174                                 GET / HTTP/1.1  1582093467\n",
              "7  10.160.0.177                                 GET / HTTP/1.1  1582101744\n",
              "8  10.160.0.177  GET /univerzita/kontakt/adresar-osob HTTP/1.1  1582104899\n",
              "9  10.160.0.177                                 GET / HTTP/1.1  1582117002"
            ]
          },
          "metadata": {},
          "execution_count": 2
        }
      ]
    },
    {
      "cell_type": "markdown",
      "metadata": {
        "id": "MrvulcPiOyvk"
      },
      "source": [
        "3. Add new columns with default values of 0\n",
        "\n"
      ]
    },
    {
      "cell_type": "code",
      "metadata": {
        "id": "xKvQifctOyc3"
      },
      "source": [
        "df['INTERNY'] = 0\n",
        "df['STUD'] = 0\n",
        "df['ZAM'] = 0\n",
        "df['PON'] = 0\n",
        "df['UTO'] = 0\n",
        "df['STR'] = 0\n",
        "df['STV'] = 0\n",
        "df['PIA'] = 0\n",
        "df['SOB'] = 0\n",
        "df['NED'] = 0"
      ],
      "execution_count": 3,
      "outputs": []
    },
    {
      "cell_type": "markdown",
      "metadata": {
        "id": "d8ie5t68O8hm"
      },
      "source": [
        "4. Whether it is access from inside the network or outside the network based on IP \n",
        "\n",
        "\n",
        "\n",
        "*   10.160.0.xxx -> IN/STUDENT\n",
        "*   10.160.1.xxx -> IN/STUDENT\n",
        "*   10.160.2.0xx -> IN/STUDENT\n",
        "*   10.160.2.1xx -> IN/STUDENT\n",
        "*   10.160.2.2xx -> IN/ZAMEST\n",
        "*   10.160.3.xxx -> IN/STUDENT\n",
        "*   10.160.xxx.xxx -> IN/ZAMEST\n",
        "*   other -> OUT\n",
        "\n"
      ]
    },
    {
      "cell_type": "code",
      "metadata": {
        "id": "7Fo8eN_gO72L"
      },
      "source": [
        "def classify_ips(ip, index):\n",
        "    if(ip.__contains__('10.160.0')):\n",
        "        df.loc[index, 'STUD'] = 1\n",
        "        df.loc[index, 'INTERNY'] = 1\n",
        "    elif(ip.__contains__('10.160.1')):\n",
        "        df.loc[index, 'STUD'] = 1\n",
        "        df.loc[index, 'INTERNY'] = 1\n",
        "    elif(ip.__contains__('10.160.2.0')):\n",
        "        df.loc[index, 'STUD'] = 1\n",
        "        df.loc[index, 'INTERNY'] = 1\n",
        "    elif(ip.__contains__('10.160.2.1')):\n",
        "        df.loc[index, 'STUD'] = 1\n",
        "        df.loc[index, 'INTERNY'] = 1\n",
        "    elif(ip.__contains__('10.160.2.2')):\n",
        "        df.loc[index, 'ZAM'] = 1\n",
        "        df.loc[index, 'INTERNY'] = 1\n",
        "    elif(ip.__contains__('10.160.3')):\n",
        "        df.loc[index, 'STUD'] = 1\n",
        "        df.loc[index, 'INTERNY'] = 1\n",
        "    elif(ip.__contains__('10.160')):\n",
        "        df.loc[index, 'ZAM'] = 1\n",
        "        df.loc[index, 'INTERNY'] = 1"
      ],
      "execution_count": 4,
      "outputs": []
    },
    {
      "cell_type": "markdown",
      "metadata": {
        "id": "YabM-oBcXQog"
      },
      "source": [
        "5. Information on the weekday of access "
      ]
    },
    {
      "cell_type": "code",
      "metadata": {
        "id": "ngRjqZSuWOPo"
      },
      "source": [
        "def classify_weekday(weekday, index):\n",
        "  if (weekday == 0):\n",
        "    df.loc[index, 'PON'] = 1\n",
        "  elif (weekday == 1):\n",
        "    df.loc[index, 'UTO'] = 1\n",
        "  elif (weekday == 2):\n",
        "    df.loc[index, 'STR'] = 1\n",
        "  elif (weekday == 3):\n",
        "    df.loc[index, 'STV'] = 1\n",
        "  elif (weekday == 4):\n",
        "    df.loc[index, 'PIA'] = 1\n",
        "  elif (weekday == 5):\n",
        "    df.loc[index, 'SOB'] = 1\n",
        "  else:\n",
        "    df.loc[index, 'NED'] = 1"
      ],
      "execution_count": 5,
      "outputs": []
    },
    {
      "cell_type": "markdown",
      "metadata": {
        "id": "KMztif-UIAMY"
      },
      "source": [
        "6. Cycle through dataframe and apply all changes"
      ]
    },
    {
      "cell_type": "code",
      "metadata": {
        "colab": {
          "base_uri": "https://localhost:8080/",
          "height": 357
        },
        "id": "c0TosqkRGqd0",
        "outputId": "c7470e0f-7b09-4e75-ba62-a0430e5c6dd0"
      },
      "source": [
        "# Cycle through dataframe\n",
        "for index, row in df.iterrows():\n",
        "\n",
        "    # Create regex for url to get category name\n",
        "    req = re.search(\"GET /(.+?)/\",row['url'])\n",
        "    if req:\n",
        "      value = req.group(1)\n",
        "\n",
        "      # Replace all HTTP with 'úvod'\n",
        "      if (value == ' HTTP'):\n",
        "        value = 'uvod' \n",
        "      df.loc[index, 'url'] = value\n",
        "\n",
        "    # Classify ip\n",
        "    classify_ips(row['ip'], index)\n",
        "\n",
        "    # Get a hour of access and hour stv\n",
        "    hod = datetime.datetime.fromtimestamp(int(row['unixtime'])).strftime('%H')\n",
        "    df.loc[index, 'HOD'] = hod\n",
        "    df.loc[index, 'HOD_STV'] = int(hod) * int(hod)\n",
        "\n",
        "    # Get a weekday of access\n",
        "    classify_weekday(datetime.datetime.fromtimestamp(int(row['unixtime'])).weekday(), index) \n",
        "\n",
        "df.head(10)"
      ],
      "execution_count": 6,
      "outputs": [
        {
          "output_type": "execute_result",
          "data": {
            "text/html": [
              "<div>\n",
              "<style scoped>\n",
              "    .dataframe tbody tr th:only-of-type {\n",
              "        vertical-align: middle;\n",
              "    }\n",
              "\n",
              "    .dataframe tbody tr th {\n",
              "        vertical-align: top;\n",
              "    }\n",
              "\n",
              "    .dataframe thead th {\n",
              "        text-align: right;\n",
              "    }\n",
              "</style>\n",
              "<table border=\"1\" class=\"dataframe\">\n",
              "  <thead>\n",
              "    <tr style=\"text-align: right;\">\n",
              "      <th></th>\n",
              "      <th>ip</th>\n",
              "      <th>url</th>\n",
              "      <th>unixtime</th>\n",
              "      <th>INTERNY</th>\n",
              "      <th>STUD</th>\n",
              "      <th>ZAM</th>\n",
              "      <th>PON</th>\n",
              "      <th>UTO</th>\n",
              "      <th>STR</th>\n",
              "      <th>STV</th>\n",
              "      <th>PIA</th>\n",
              "      <th>SOB</th>\n",
              "      <th>NED</th>\n",
              "      <th>HOD</th>\n",
              "      <th>HOD_STV</th>\n",
              "    </tr>\n",
              "  </thead>\n",
              "  <tbody>\n",
              "    <tr>\n",
              "      <th>0</th>\n",
              "      <td>10.160.0.12</td>\n",
              "      <td>uvod</td>\n",
              "      <td>1582096524</td>\n",
              "      <td>1</td>\n",
              "      <td>1</td>\n",
              "      <td>0</td>\n",
              "      <td>0</td>\n",
              "      <td>0</td>\n",
              "      <td>1</td>\n",
              "      <td>0</td>\n",
              "      <td>0</td>\n",
              "      <td>0</td>\n",
              "      <td>0</td>\n",
              "      <td>07</td>\n",
              "      <td>49.0</td>\n",
              "    </tr>\n",
              "    <tr>\n",
              "      <th>1</th>\n",
              "      <td>10.160.0.126</td>\n",
              "      <td>uvod</td>\n",
              "      <td>1582119924</td>\n",
              "      <td>1</td>\n",
              "      <td>1</td>\n",
              "      <td>0</td>\n",
              "      <td>0</td>\n",
              "      <td>0</td>\n",
              "      <td>1</td>\n",
              "      <td>0</td>\n",
              "      <td>0</td>\n",
              "      <td>0</td>\n",
              "      <td>0</td>\n",
              "      <td>13</td>\n",
              "      <td>169.0</td>\n",
              "    </tr>\n",
              "    <tr>\n",
              "      <th>2</th>\n",
              "      <td>10.160.0.127</td>\n",
              "      <td>uvod</td>\n",
              "      <td>1582113753</td>\n",
              "      <td>1</td>\n",
              "      <td>1</td>\n",
              "      <td>0</td>\n",
              "      <td>0</td>\n",
              "      <td>0</td>\n",
              "      <td>1</td>\n",
              "      <td>0</td>\n",
              "      <td>0</td>\n",
              "      <td>0</td>\n",
              "      <td>0</td>\n",
              "      <td>12</td>\n",
              "      <td>144.0</td>\n",
              "    </tr>\n",
              "    <tr>\n",
              "      <th>3</th>\n",
              "      <td>10.160.0.13</td>\n",
              "      <td>uvod</td>\n",
              "      <td>1582105765</td>\n",
              "      <td>1</td>\n",
              "      <td>1</td>\n",
              "      <td>0</td>\n",
              "      <td>0</td>\n",
              "      <td>0</td>\n",
              "      <td>1</td>\n",
              "      <td>0</td>\n",
              "      <td>0</td>\n",
              "      <td>0</td>\n",
              "      <td>0</td>\n",
              "      <td>09</td>\n",
              "      <td>81.0</td>\n",
              "    </tr>\n",
              "    <tr>\n",
              "      <th>4</th>\n",
              "      <td>10.160.0.166</td>\n",
              "      <td>uvod</td>\n",
              "      <td>1582101139</td>\n",
              "      <td>1</td>\n",
              "      <td>1</td>\n",
              "      <td>0</td>\n",
              "      <td>0</td>\n",
              "      <td>0</td>\n",
              "      <td>1</td>\n",
              "      <td>0</td>\n",
              "      <td>0</td>\n",
              "      <td>0</td>\n",
              "      <td>0</td>\n",
              "      <td>08</td>\n",
              "      <td>64.0</td>\n",
              "    </tr>\n",
              "    <tr>\n",
              "      <th>5</th>\n",
              "      <td>10.160.0.166</td>\n",
              "      <td>uvod</td>\n",
              "      <td>1582102809</td>\n",
              "      <td>1</td>\n",
              "      <td>1</td>\n",
              "      <td>0</td>\n",
              "      <td>0</td>\n",
              "      <td>0</td>\n",
              "      <td>1</td>\n",
              "      <td>0</td>\n",
              "      <td>0</td>\n",
              "      <td>0</td>\n",
              "      <td>0</td>\n",
              "      <td>09</td>\n",
              "      <td>81.0</td>\n",
              "    </tr>\n",
              "    <tr>\n",
              "      <th>6</th>\n",
              "      <td>10.160.0.174</td>\n",
              "      <td>uvod</td>\n",
              "      <td>1582093467</td>\n",
              "      <td>1</td>\n",
              "      <td>1</td>\n",
              "      <td>0</td>\n",
              "      <td>0</td>\n",
              "      <td>0</td>\n",
              "      <td>1</td>\n",
              "      <td>0</td>\n",
              "      <td>0</td>\n",
              "      <td>0</td>\n",
              "      <td>0</td>\n",
              "      <td>06</td>\n",
              "      <td>36.0</td>\n",
              "    </tr>\n",
              "    <tr>\n",
              "      <th>7</th>\n",
              "      <td>10.160.0.177</td>\n",
              "      <td>uvod</td>\n",
              "      <td>1582101744</td>\n",
              "      <td>1</td>\n",
              "      <td>1</td>\n",
              "      <td>0</td>\n",
              "      <td>0</td>\n",
              "      <td>0</td>\n",
              "      <td>1</td>\n",
              "      <td>0</td>\n",
              "      <td>0</td>\n",
              "      <td>0</td>\n",
              "      <td>0</td>\n",
              "      <td>08</td>\n",
              "      <td>64.0</td>\n",
              "    </tr>\n",
              "    <tr>\n",
              "      <th>8</th>\n",
              "      <td>10.160.0.177</td>\n",
              "      <td>univerzita</td>\n",
              "      <td>1582104899</td>\n",
              "      <td>1</td>\n",
              "      <td>1</td>\n",
              "      <td>0</td>\n",
              "      <td>0</td>\n",
              "      <td>0</td>\n",
              "      <td>1</td>\n",
              "      <td>0</td>\n",
              "      <td>0</td>\n",
              "      <td>0</td>\n",
              "      <td>0</td>\n",
              "      <td>09</td>\n",
              "      <td>81.0</td>\n",
              "    </tr>\n",
              "    <tr>\n",
              "      <th>9</th>\n",
              "      <td>10.160.0.177</td>\n",
              "      <td>uvod</td>\n",
              "      <td>1582117002</td>\n",
              "      <td>1</td>\n",
              "      <td>1</td>\n",
              "      <td>0</td>\n",
              "      <td>0</td>\n",
              "      <td>0</td>\n",
              "      <td>1</td>\n",
              "      <td>0</td>\n",
              "      <td>0</td>\n",
              "      <td>0</td>\n",
              "      <td>0</td>\n",
              "      <td>12</td>\n",
              "      <td>144.0</td>\n",
              "    </tr>\n",
              "  </tbody>\n",
              "</table>\n",
              "</div>"
            ],
            "text/plain": [
              "             ip         url    unixtime  INTERNY  ...  SOB  NED  HOD  HOD_STV\n",
              "0   10.160.0.12        uvod  1582096524        1  ...    0    0   07     49.0\n",
              "1  10.160.0.126        uvod  1582119924        1  ...    0    0   13    169.0\n",
              "2  10.160.0.127        uvod  1582113753        1  ...    0    0   12    144.0\n",
              "3   10.160.0.13        uvod  1582105765        1  ...    0    0   09     81.0\n",
              "4  10.160.0.166        uvod  1582101139        1  ...    0    0   08     64.0\n",
              "5  10.160.0.166        uvod  1582102809        1  ...    0    0   09     81.0\n",
              "6  10.160.0.174        uvod  1582093467        1  ...    0    0   06     36.0\n",
              "7  10.160.0.177        uvod  1582101744        1  ...    0    0   08     64.0\n",
              "8  10.160.0.177  univerzita  1582104899        1  ...    0    0   09     81.0\n",
              "9  10.160.0.177        uvod  1582117002        1  ...    0    0   12    144.0\n",
              "\n",
              "[10 rows x 15 columns]"
            ]
          },
          "metadata": {},
          "execution_count": 6
        }
      ]
    },
    {
      "cell_type": "markdown",
      "metadata": {
        "id": "TtEtaC4SacEG"
      },
      "source": [
        "7. Delete unnecessary columns"
      ]
    },
    {
      "cell_type": "code",
      "metadata": {
        "colab": {
          "base_uri": "https://localhost:8080/"
        },
        "id": "s3xCsr9HabK8",
        "outputId": "1636ec02-0891-46b3-d44d-69fae354e2c9"
      },
      "source": [
        "df.pop('ip')\n",
        "df.pop('unixtime')"
      ],
      "execution_count": 7,
      "outputs": [
        {
          "output_type": "execute_result",
          "data": {
            "text/plain": [
              "0        1582096524\n",
              "1        1582119924\n",
              "2        1582113753\n",
              "3        1582105765\n",
              "4        1582101139\n",
              "            ...    \n",
              "20643    1582144086\n",
              "20644    1582162245\n",
              "20645    1582132345\n",
              "20646    1582132345\n",
              "20647    1582147423\n",
              "Name: unixtime, Length: 20648, dtype: int64"
            ]
          },
          "metadata": {},
          "execution_count": 7
        }
      ]
    },
    {
      "cell_type": "markdown",
      "metadata": {
        "id": "zYLlDumMZf4m"
      },
      "source": [
        "8. Save to csv"
      ]
    },
    {
      "cell_type": "code",
      "metadata": {
        "id": "spuTcsU5ZQBl"
      },
      "source": [
        "df.to_csv('Laca_datovy_subor.csv', sep=';')"
      ],
      "execution_count": 8,
      "outputs": []
    }
  ]
}