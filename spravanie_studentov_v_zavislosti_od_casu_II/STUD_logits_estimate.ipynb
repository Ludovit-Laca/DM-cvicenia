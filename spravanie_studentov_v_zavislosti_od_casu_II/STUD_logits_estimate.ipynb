{
  "nbformat": 4,
  "nbformat_minor": 0,
  "metadata": {
    "colab": {
      "name": "STUD_logits_estimate.ipynb",
      "provenance": [],
      "collapsed_sections": []
    },
    "kernelspec": {
      "name": "python3",
      "display_name": "Python 3"
    },
    "language_info": {
      "name": "python"
    }
  },
  "cells": [
    {
      "cell_type": "markdown",
      "metadata": {
        "id": "IbZbfN79oBHI"
      },
      "source": [
        "0. Imports"
      ]
    },
    {
      "cell_type": "code",
      "metadata": {
        "id": "Zy8rz1rhnRIO"
      },
      "source": [
        "import pandas as pd"
      ],
      "execution_count": null,
      "outputs": []
    },
    {
      "cell_type": "markdown",
      "metadata": {
        "id": "us71la8rqHkg"
      },
      "source": [
        "1. Load csv"
      ]
    },
    {
      "cell_type": "code",
      "metadata": {
        "colab": {
          "base_uri": "https://localhost:8080/",
          "height": 142
        },
        "id": "IxB1KS0DoDN-",
        "outputId": "31d31e45-d495-4385-c0a7-4d60e9377452"
      },
      "source": [
        "# change to your file location\n",
        "df = pd.read_csv('/content/drive/MyDrive/Škola/DM/spravanie_studentov_v_zavislosti_od_casu_II/MLM_STUD_stats.csv', ';', usecols=range(0,10))\n",
        "df.head(10)"
      ],
      "execution_count": null,
      "outputs": [
        {
          "output_type": "execute_result",
          "data": {
            "text/html": [
              "<div>\n",
              "<style scoped>\n",
              "    .dataframe tbody tr th:only-of-type {\n",
              "        vertical-align: middle;\n",
              "    }\n",
              "\n",
              "    .dataframe tbody tr th {\n",
              "        vertical-align: top;\n",
              "    }\n",
              "\n",
              "    .dataframe thead th {\n",
              "        text-align: right;\n",
              "    }\n",
              "</style>\n",
              "<table border=\"1\" class=\"dataframe\">\n",
              "  <thead>\n",
              "    <tr style=\"text-align: right;\">\n",
              "      <th></th>\n",
              "      <th>Effect</th>\n",
              "      <th>Intercept</th>\n",
              "      <th>HODINA</th>\n",
              "      <th>HODINA_STV</th>\n",
              "      <th>PO</th>\n",
              "      <th>UT</th>\n",
              "      <th>STR</th>\n",
              "      <th>STVR</th>\n",
              "      <th>PIA</th>\n",
              "      <th>SO</th>\n",
              "    </tr>\n",
              "  </thead>\n",
              "  <tbody>\n",
              "    <tr>\n",
              "      <th>0</th>\n",
              "      <td>uvod_STUD</td>\n",
              "      <td>1.34835</td>\n",
              "      <td>0.34182</td>\n",
              "      <td>-0.01563</td>\n",
              "      <td>-0.63353</td>\n",
              "      <td>1.10307</td>\n",
              "      <td>0.11376</td>\n",
              "      <td>-0.49911</td>\n",
              "      <td>0.68682</td>\n",
              "      <td>0</td>\n",
              "    </tr>\n",
              "    <tr>\n",
              "      <th>1</th>\n",
              "      <td>studium_STUD</td>\n",
              "      <td>-2.84924</td>\n",
              "      <td>0.38448</td>\n",
              "      <td>-0.00867</td>\n",
              "      <td>0.95518</td>\n",
              "      <td>3.02822</td>\n",
              "      <td>1.54827</td>\n",
              "      <td>1.22148</td>\n",
              "      <td>1.20767</td>\n",
              "      <td>0</td>\n",
              "    </tr>\n",
              "    <tr>\n",
              "      <th>2</th>\n",
              "      <td>oznamy_STUD</td>\n",
              "      <td>1.51459</td>\n",
              "      <td>-0.38342</td>\n",
              "      <td>0.01248</td>\n",
              "      <td>1.65098</td>\n",
              "      <td>3.04913</td>\n",
              "      <td>1.59056</td>\n",
              "      <td>0.14253</td>\n",
              "      <td>-1.24192</td>\n",
              "      <td>0</td>\n",
              "    </tr>\n",
              "  </tbody>\n",
              "</table>\n",
              "</div>"
            ],
            "text/plain": [
              "         Effect  Intercept   HODINA  HODINA_STV  ...      STR     STVR      PIA  SO\n",
              "0     uvod_STUD    1.34835  0.34182    -0.01563  ...  0.11376 -0.49911  0.68682   0\n",
              "1  studium_STUD   -2.84924  0.38448    -0.00867  ...  1.54827  1.22148  1.20767   0\n",
              "2   oznamy_STUD    1.51459 -0.38342     0.01248  ...  1.59056  0.14253 -1.24192   0\n",
              "\n",
              "[3 rows x 10 columns]"
            ]
          },
          "metadata": {},
          "execution_count": 138
        }
      ]
    },
    {
      "cell_type": "markdown",
      "metadata": {
        "id": "qwCBMLqxzU66"
      },
      "source": [
        "2. Create collection of weekdays"
      ]
    },
    {
      "cell_type": "code",
      "metadata": {
        "id": "Os522Me82PLs"
      },
      "source": [
        "days = ['PO', 'UT', 'STR', 'STVR', 'PIA', 'SO']"
      ],
      "execution_count": null,
      "outputs": []
    },
    {
      "cell_type": "markdown",
      "metadata": {
        "id": "StUWxXtTHSO0"
      },
      "source": [
        "3. Create logits estimate"
      ]
    },
    {
      "cell_type": "code",
      "metadata": {
        "id": "6DaF2rKZooB6"
      },
      "source": [
        "dataframe_collection = {} \n",
        "index = 0\n",
        "\n",
        "# Cycle through weekdays\n",
        "for day in days:\n",
        "\n",
        "      # Create empty dataframe for weekday\n",
        "      df_day = pd.DataFrame()\n",
        "\n",
        "      # Cycle through hours from 7 to 23\n",
        "      for x in range (7,23):\n",
        "\n",
        "        # Create logits estimates\n",
        "        logit_uvod = df.at[index, 'Intercept'] + df.at[index, 'HODINA']*x+df.at[index, 'HODINA_STV']*(x*x)+df.at[index, day]\n",
        "        logit_studium = df.at[index+1, 'Intercept'] + df.at[index+1, 'HODINA']*x+df.at[index+1, 'HODINA_STV']*(x*x)+df.at[index+1, day]\n",
        "        logit_oznamy = df.at[index+2, 'Intercept'] + df.at[index+2, 'HODINA']*x+df.at[index+2, 'HODINA_STV']*(x*x)+df.at[index+2, day]\n",
        "\n",
        "        # Create new row and append it to dataframe\n",
        "        new_row = {'0_hod': x, '1_uvod': logit_uvod, '2_studium':logit_studium, '3_oznamy':logit_oznamy}\n",
        "        df_day = df_day.append(new_row, sort=False, ignore_index=True)\n",
        "\n",
        "      # add dataframe to dictionary of dataframes\n",
        "      dataframe_collection[day] = df_day"
      ],
      "execution_count": null,
      "outputs": []
    },
    {
      "cell_type": "markdown",
      "metadata": {
        "id": "_yK_9Ul-8xer"
      },
      "source": [
        "4. Export to excel"
      ]
    },
    {
      "cell_type": "code",
      "metadata": {
        "id": "hOxDJQ9EsgAX"
      },
      "source": [
        "# Creating Excel Writer Object from Pandas  \n",
        "writer = pd.ExcelWriter('STUD_logits.xlsx',engine='xlsxwriter')   \n",
        "workbook=writer.book\n",
        "worksheet=workbook.add_worksheet('STUD')\n",
        "writer.sheets['STUD'] = worksheet\n",
        "\n",
        "i = 0\n",
        "for day in days:\n",
        "  worksheet.write(0, i, str(day + \" - ODHAD LOGITOV\"))\n",
        "  dataframe_collection[day].to_excel(writer, sheet_name='STUD',startrow=1 , startcol=i, index=False)\n",
        "  i = i+5\n",
        "writer.save()"
      ],
      "execution_count": null,
      "outputs": []
    }
  ]
}