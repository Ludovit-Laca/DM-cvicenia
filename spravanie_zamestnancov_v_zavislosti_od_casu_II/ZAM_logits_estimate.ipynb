{
  "nbformat": 4,
  "nbformat_minor": 0,
  "metadata": {
    "colab": {
      "name": "ZAM_logits_estimate.ipynb",
      "provenance": []
    },
    "kernelspec": {
      "name": "python3",
      "display_name": "Python 3"
    },
    "language_info": {
      "name": "python"
    }
  },
  "cells": [
    {
      "cell_type": "markdown",
      "metadata": {
        "id": "rpZiUllIKheS"
      },
      "source": [
        "0. Imports"
      ]
    },
    {
      "cell_type": "code",
      "metadata": {
        "id": "4RzJ03PpKVsC"
      },
      "source": [
        "import pandas as pd"
      ],
      "execution_count": 12,
      "outputs": []
    },
    {
      "cell_type": "markdown",
      "metadata": {
        "id": "DdBaHDDBKk_0"
      },
      "source": [
        "1. Load csv"
      ]
    },
    {
      "cell_type": "code",
      "metadata": {
        "colab": {
          "base_uri": "https://localhost:8080/",
          "height": 142
        },
        "id": "87TgmlrbKlyo",
        "outputId": "efe13535-8283-4e4e-9fb3-90eec1f8e81e"
      },
      "source": [
        "# change to your file location\n",
        "df = pd.read_csv('/content/drive/MyDrive/Škola/DM/spravanie_zamestnancov_v_zavislosti_od_casu_II/MLM_ZAM_stats.csv', ';', usecols=range(0,10))\n",
        "df.head(10)"
      ],
      "execution_count": 13,
      "outputs": [
        {
          "output_type": "execute_result",
          "data": {
            "text/html": [
              "<div>\n",
              "<style scoped>\n",
              "    .dataframe tbody tr th:only-of-type {\n",
              "        vertical-align: middle;\n",
              "    }\n",
              "\n",
              "    .dataframe tbody tr th {\n",
              "        vertical-align: top;\n",
              "    }\n",
              "\n",
              "    .dataframe thead th {\n",
              "        text-align: right;\n",
              "    }\n",
              "</style>\n",
              "<table border=\"1\" class=\"dataframe\">\n",
              "  <thead>\n",
              "    <tr style=\"text-align: right;\">\n",
              "      <th></th>\n",
              "      <th>Effect</th>\n",
              "      <th>Intercept</th>\n",
              "      <th>HODINA</th>\n",
              "      <th>HODINA_STV</th>\n",
              "      <th>PO</th>\n",
              "      <th>UT</th>\n",
              "      <th>STR</th>\n",
              "      <th>STVR</th>\n",
              "      <th>PIA</th>\n",
              "      <th>SO</th>\n",
              "    </tr>\n",
              "  </thead>\n",
              "  <tbody>\n",
              "    <tr>\n",
              "      <th>0</th>\n",
              "      <td>uvod_ZAM</td>\n",
              "      <td>5.58384</td>\n",
              "      <td>-0.68231</td>\n",
              "      <td>0.02633</td>\n",
              "      <td>0.16019</td>\n",
              "      <td>0.00955</td>\n",
              "      <td>-0.76405</td>\n",
              "      <td>-0.98585</td>\n",
              "      <td>0</td>\n",
              "      <td>0</td>\n",
              "    </tr>\n",
              "    <tr>\n",
              "      <th>1</th>\n",
              "      <td>studium_ZAM</td>\n",
              "      <td>0.92959</td>\n",
              "      <td>0.06409</td>\n",
              "      <td>-0.00612</td>\n",
              "      <td>0.38236</td>\n",
              "      <td>0.82227</td>\n",
              "      <td>-0.17730</td>\n",
              "      <td>-0.00245</td>\n",
              "      <td>0</td>\n",
              "      <td>0</td>\n",
              "    </tr>\n",
              "    <tr>\n",
              "      <th>2</th>\n",
              "      <td>oznamy_ZAM</td>\n",
              "      <td>-3.91218</td>\n",
              "      <td>0.40371</td>\n",
              "      <td>-0.02517</td>\n",
              "      <td>2.31863</td>\n",
              "      <td>2.96682</td>\n",
              "      <td>0.57197</td>\n",
              "      <td>-0.49513</td>\n",
              "      <td>0</td>\n",
              "      <td>0</td>\n",
              "    </tr>\n",
              "  </tbody>\n",
              "</table>\n",
              "</div>"
            ],
            "text/plain": [
              "        Effect  Intercept   HODINA  HODINA_STV  ...      STR     STVR  PIA  SO\n",
              "0     uvod_ZAM    5.58384 -0.68231     0.02633  ... -0.76405 -0.98585    0   0\n",
              "1  studium_ZAM    0.92959  0.06409    -0.00612  ... -0.17730 -0.00245    0   0\n",
              "2   oznamy_ZAM   -3.91218  0.40371    -0.02517  ...  0.57197 -0.49513    0   0\n",
              "\n",
              "[3 rows x 10 columns]"
            ]
          },
          "metadata": {},
          "execution_count": 13
        }
      ]
    },
    {
      "cell_type": "markdown",
      "metadata": {
        "id": "KvcF5DLJLCm7"
      },
      "source": [
        "2. Create collection of weekdays"
      ]
    },
    {
      "cell_type": "code",
      "metadata": {
        "id": "6tmMjFTNK8-b"
      },
      "source": [
        "days = ['PO', 'UT', 'STR', 'STVR', 'PIA']"
      ],
      "execution_count": 14,
      "outputs": []
    },
    {
      "cell_type": "markdown",
      "metadata": {
        "id": "ScZrHi-8LG9W"
      },
      "source": [
        "3. Create logits estimate"
      ]
    },
    {
      "cell_type": "code",
      "metadata": {
        "id": "w9lO10toLFbF"
      },
      "source": [
        "dataframe_collection = {} \n",
        "index = 0\n",
        "\n",
        "# Cycle through weekdays\n",
        "for day in days:\n",
        "\n",
        "      # Create empty dataframe for weekday\n",
        "      df_day = pd.DataFrame()\n",
        "\n",
        "      # Cycle through hours from 7 to 23\n",
        "      for x in range (7,23):\n",
        "\n",
        "        # Create logits estimates\n",
        "        logit_uvod = df.at[index, 'Intercept'] + df.at[index, 'HODINA']*x+df.at[index, 'HODINA_STV']*(x*x)+df.at[index, day]\n",
        "        logit_studium = df.at[index+1, 'Intercept'] + df.at[index+1, 'HODINA']*x+df.at[index+1, 'HODINA_STV']*(x*x)+df.at[index+1, day]\n",
        "        logit_oznamy = df.at[index+2, 'Intercept'] + df.at[index+2, 'HODINA']*x+df.at[index+2, 'HODINA_STV']*(x*x)+df.at[index+2, day]\n",
        "\n",
        "        # Create new row and append it to dataframe\n",
        "        new_row = {'0_hod': x, '1_uvod': logit_uvod, '2_studium':logit_studium, '3_oznamy':logit_oznamy}\n",
        "        df_day = df_day.append(new_row, sort=False, ignore_index=True)\n",
        "\n",
        "      # add dataframe to dictionary of dataframes\n",
        "      dataframe_collection[day] = df_day"
      ],
      "execution_count": 15,
      "outputs": []
    },
    {
      "cell_type": "markdown",
      "metadata": {
        "id": "Teckag1PLS2K"
      },
      "source": [
        "4. Export to excel"
      ]
    },
    {
      "cell_type": "code",
      "metadata": {
        "id": "iqiYAYhhLQ6-"
      },
      "source": [
        "# Creating Excel Writer Object from Pandas  \n",
        "writer = pd.ExcelWriter('ZAM_logits.xlsx',engine='xlsxwriter')   \n",
        "workbook=writer.book\n",
        "worksheet=workbook.add_worksheet('ZAM')\n",
        "writer.sheets['ZAM'] = worksheet\n",
        "\n",
        "i = 0\n",
        "for day in days:\n",
        "  worksheet.write(0, i, str(day + \" - ODHAD LOGITOV\"))\n",
        "  dataframe_collection[day].to_excel(writer, sheet_name='ZAM',startrow=1 , startcol=i, index=False)\n",
        "  i = i+5\n",
        "writer.save()"
      ],
      "execution_count": 16,
      "outputs": []
    }
  ]
}