{
  "cells": [
    {
      "cell_type": "markdown",
      "metadata": {
        "id": "UkPUaHCxB4t0"
      },
      "source": [
        "0. Imports"
      ]
    },
    {
      "cell_type": "code",
      "execution_count": 13,
      "metadata": {
        "id": "Dr1HnyhcBfFu"
      },
      "outputs": [],
      "source": [
        "import pandas as pd\n",
        "import numpy as np"
      ]
    },
    {
      "cell_type": "markdown",
      "metadata": {
        "id": "_ofzP4rsCWT4"
      },
      "source": [
        "1. Load csv"
      ]
    },
    {
      "cell_type": "code",
      "execution_count": 14,
      "metadata": {
        "colab": {
          "base_uri": "https://localhost:8080/",
          "height": 142
        },
        "id": "6JM7De8aCYBs",
        "outputId": "8df87106-4336-4573-f6da-70cef9751fdd"
      },
      "outputs": [
        {
          "data": {
            "text/html": [
              "<div>\n",
              "<style scoped>\n",
              "    .dataframe tbody tr th:only-of-type {\n",
              "        vertical-align: middle;\n",
              "    }\n",
              "\n",
              "    .dataframe tbody tr th {\n",
              "        vertical-align: top;\n",
              "    }\n",
              "\n",
              "    .dataframe thead th {\n",
              "        text-align: right;\n",
              "    }\n",
              "</style>\n",
              "<table border=\"1\" class=\"dataframe\">\n",
              "  <thead>\n",
              "    <tr style=\"text-align: right;\">\n",
              "      <th></th>\n",
              "      <th>Effect</th>\n",
              "      <th>Intercept</th>\n",
              "      <th>HODINA</th>\n",
              "      <th>HODINA_STV</th>\n",
              "      <th>PO</th>\n",
              "      <th>UT</th>\n",
              "      <th>STR</th>\n",
              "      <th>STVR</th>\n",
              "      <th>PIA</th>\n",
              "      <th>SO</th>\n",
              "    </tr>\n",
              "  </thead>\n",
              "  <tbody>\n",
              "    <tr>\n",
              "      <th>0</th>\n",
              "      <td>uvod_ZAM</td>\n",
              "      <td>5.58384</td>\n",
              "      <td>-0.68231</td>\n",
              "      <td>0.02633</td>\n",
              "      <td>0.16019</td>\n",
              "      <td>0.00955</td>\n",
              "      <td>-0.76405</td>\n",
              "      <td>-0.98585</td>\n",
              "      <td>0</td>\n",
              "      <td>0</td>\n",
              "    </tr>\n",
              "    <tr>\n",
              "      <th>1</th>\n",
              "      <td>studium_ZAM</td>\n",
              "      <td>0.92959</td>\n",
              "      <td>0.06409</td>\n",
              "      <td>-0.00612</td>\n",
              "      <td>0.38236</td>\n",
              "      <td>0.82227</td>\n",
              "      <td>-0.17730</td>\n",
              "      <td>-0.00245</td>\n",
              "      <td>0</td>\n",
              "      <td>0</td>\n",
              "    </tr>\n",
              "    <tr>\n",
              "      <th>2</th>\n",
              "      <td>oznamy_ZAM</td>\n",
              "      <td>-3.91218</td>\n",
              "      <td>0.40371</td>\n",
              "      <td>-0.02517</td>\n",
              "      <td>2.31863</td>\n",
              "      <td>2.96682</td>\n",
              "      <td>0.57197</td>\n",
              "      <td>-0.49513</td>\n",
              "      <td>0</td>\n",
              "      <td>0</td>\n",
              "    </tr>\n",
              "  </tbody>\n",
              "</table>\n",
              "</div>"
            ],
            "text/plain": [
              "        Effect  Intercept   HODINA  HODINA_STV  ...      STR     STVR  PIA  SO\n",
              "0     uvod_ZAM    5.58384 -0.68231     0.02633  ... -0.76405 -0.98585    0   0\n",
              "1  studium_ZAM    0.92959  0.06409    -0.00612  ... -0.17730 -0.00245    0   0\n",
              "2   oznamy_ZAM   -3.91218  0.40371    -0.02517  ...  0.57197 -0.49513    0   0\n",
              "\n",
              "[3 rows x 10 columns]"
            ]
          },
          "execution_count": 14,
          "metadata": {},
          "output_type": "execute_result"
        }
      ],
      "source": [
        "# change to your file location\n",
        "df = pd.read_csv('/content/drive/MyDrive/Škola/DM/spravanie_zamestnancov_v_zavislosti_od_casu_IV/MLM_ZAM_stats.csv', ';', usecols=range(0,10))\n",
        "df.head(10)"
      ]
    },
    {
      "cell_type": "markdown",
      "metadata": {
        "id": "0cb0_Fd0GKBS"
      },
      "source": [
        "2. Create collection of weekdays"
      ]
    },
    {
      "cell_type": "code",
      "execution_count": 15,
      "metadata": {
        "id": "kyXSe_anGDj6"
      },
      "outputs": [],
      "source": [
        "days = ['PO', 'UT', 'STR', 'STVR', 'PIA']"
      ]
    },
    {
      "cell_type": "markdown",
      "metadata": {
        "id": "wQc2VFnUGN0Y"
      },
      "source": [
        "3. Create estimates for web parts"
      ]
    },
    {
      "cell_type": "code",
      "execution_count": 16,
      "metadata": {
        "colab": {
          "base_uri": "https://localhost:8080/",
          "height": 203
        },
        "id": "UDH-Q5x1GMHI",
        "outputId": "d0851a46-b7cd-497b-9f9c-dc4d24fd212a"
      },
      "outputs": [
        {
          "data": {
            "text/html": [
              "<div>\n",
              "<style scoped>\n",
              "    .dataframe tbody tr th:only-of-type {\n",
              "        vertical-align: middle;\n",
              "    }\n",
              "\n",
              "    .dataframe tbody tr th {\n",
              "        vertical-align: top;\n",
              "    }\n",
              "\n",
              "    .dataframe thead th {\n",
              "        text-align: right;\n",
              "    }\n",
              "</style>\n",
              "<table border=\"1\" class=\"dataframe\">\n",
              "  <thead>\n",
              "    <tr style=\"text-align: right;\">\n",
              "      <th></th>\n",
              "      <th>0_hod</th>\n",
              "      <th>1_PO</th>\n",
              "      <th>2_UT</th>\n",
              "      <th>3_STR</th>\n",
              "      <th>4_STVR</th>\n",
              "      <th>5_PIA</th>\n",
              "    </tr>\n",
              "  </thead>\n",
              "  <tbody>\n",
              "    <tr>\n",
              "      <th>0</th>\n",
              "      <td>7.0</td>\n",
              "      <td>0.643090</td>\n",
              "      <td>0.488900</td>\n",
              "      <td>0.590103</td>\n",
              "      <td>0.503968</td>\n",
              "      <td>0.728416</td>\n",
              "    </tr>\n",
              "    <tr>\n",
              "      <th>1</th>\n",
              "      <td>8.0</td>\n",
              "      <td>0.579029</td>\n",
              "      <td>0.421583</td>\n",
              "      <td>0.525251</td>\n",
              "      <td>0.439083</td>\n",
              "      <td>0.673743</td>\n",
              "    </tr>\n",
              "    <tr>\n",
              "      <th>2</th>\n",
              "      <td>9.0</td>\n",
              "      <td>0.530193</td>\n",
              "      <td>0.374092</td>\n",
              "      <td>0.476327</td>\n",
              "      <td>0.391748</td>\n",
              "      <td>0.629453</td>\n",
              "    </tr>\n",
              "    <tr>\n",
              "      <th>3</th>\n",
              "      <td>10.0</td>\n",
              "      <td>0.498869</td>\n",
              "      <td>0.345391</td>\n",
              "      <td>0.444466</td>\n",
              "      <td>0.361387</td>\n",
              "      <td>0.598877</td>\n",
              "    </tr>\n",
              "    <tr>\n",
              "      <th>4</th>\n",
              "      <td>11.0</td>\n",
              "      <td>0.485519</td>\n",
              "      <td>0.333875</td>\n",
              "      <td>0.429486</td>\n",
              "      <td>0.346815</td>\n",
              "      <td>0.583662</td>\n",
              "    </tr>\n",
              "  </tbody>\n",
              "</table>\n",
              "</div>"
            ],
            "text/plain": [
              "   0_hod      1_PO      2_UT     3_STR    4_STVR     5_PIA\n",
              "0    7.0  0.643090  0.488900  0.590103  0.503968  0.728416\n",
              "1    8.0  0.579029  0.421583  0.525251  0.439083  0.673743\n",
              "2    9.0  0.530193  0.374092  0.476327  0.391748  0.629453\n",
              "3   10.0  0.498869  0.345391  0.444466  0.361387  0.598877\n",
              "4   11.0  0.485519  0.333875  0.429486  0.346815  0.583662"
            ]
          },
          "execution_count": 16,
          "metadata": {},
          "output_type": "execute_result"
        }
      ],
      "source": [
        "df1 = pd.DataFrame()\n",
        "df2 = pd.DataFrame()\n",
        "df3 = pd.DataFrame()\n",
        "index = 0\n",
        "\n",
        "# Cycle through hours from 7 to 23\n",
        "for x in range (7,23):\n",
        "      new_row_uvod = {}\n",
        "      new_row_studium = {}\n",
        "      new_row_oznamy = {}\n",
        "      i = 1\n",
        "\n",
        "      # Cycle through weekdays\n",
        "      for day in days:\n",
        "\n",
        "        # Create logits estimates\n",
        "        logit_uvod = df.at[index, 'Intercept'] + df.at[index, 'HODINA']*x+df.at[index, 'HODINA_STV']*(x*x)+df.at[index, day]\n",
        "        logit_studium = df.at[index+1, 'Intercept'] + df.at[index+1, 'HODINA']*x+df.at[index+1, 'HODINA_STV']*(x*x)+df.at[index+1, day]\n",
        "        logit_oznamy = df.at[index+2, 'Intercept'] + df.at[index+2, 'HODINA']*x+df.at[index+2, 'HODINA_STV']*(x*x)+df.at[index+2, day]\n",
        "        \n",
        "        reference_web = 1 / (1 + np.exp(logit_uvod) + np.exp(logit_studium) + np.exp(logit_oznamy))\n",
        "        \n",
        "        # Create estimates for web parts\n",
        "        estimate_uvod = np.exp(logit_uvod) * reference_web\n",
        "        estimate_studium = np.exp(logit_studium) * reference_web\n",
        "        estimate_oznamy = np.exp(logit_oznamy) * reference_web\n",
        "\n",
        "        den = str(i) + '_' + day\n",
        "\n",
        "        # Create new rows and append it to dataframe\n",
        "        new_row_uvod.update({den: estimate_uvod})\n",
        "        new_row_studium.update({den: estimate_studium})\n",
        "        new_row_oznamy.update({den: estimate_oznamy})\n",
        "        i = i + 1\n",
        "      \n",
        "      # Append time to rows\n",
        "      new_row_uvod.update({'0_hod': x})\n",
        "      new_row_studium.update({'0_hod': x})\n",
        "      new_row_oznamy.update({'0_hod': x})\n",
        "\n",
        "      # Update dataframes\n",
        "      df1 = df1.append(new_row_uvod, sort=False, ignore_index=True)\n",
        "      df2 = df2.append(new_row_studium, sort=False, ignore_index=True)\n",
        "      df3 = df3.append(new_row_oznamy, sort=False, ignore_index=True)\n",
        "\n",
        "df1.head()"
      ]
    },
    {
      "cell_type": "markdown",
      "metadata": {
        "id": "pmeyt0NmNbow"
      },
      "source": [
        "4. Export to excel"
      ]
    },
    {
      "cell_type": "code",
      "execution_count": 17,
      "metadata": {
        "id": "Vgpf71YeK_wb"
      },
      "outputs": [],
      "source": [
        "# Creating Excel Writer Object from Pandas  \n",
        "writer = pd.ExcelWriter('ZAM_accessing_the_web_parts.xlsx',engine='xlsxwriter')   \n",
        "workbook=writer.book\n",
        "worksheet=workbook.add_worksheet('ZAM')\n",
        "writer.sheets['ZAM'] = worksheet\n",
        "\n",
        "# Úvod\n",
        "worksheet.write(0, 0, \"Úvod\")\n",
        "df1.to_excel(writer, sheet_name='ZAM',startrow=1 , startcol=0, index=False)\n",
        "\n",
        "# Śtúdium\n",
        "worksheet.write(0, 7, \"Štúdium\")\n",
        "df2.to_excel(writer, sheet_name='ZAM',startrow=1 , startcol=7, index=False)\n",
        "\n",
        "# Oznamy\n",
        "worksheet.write(0, 14, \"Oznamy\")\n",
        "df3.to_excel(writer, sheet_name='ZAM',startrow=1 , startcol=14, index=False)\n",
        "writer.save()"
      ]
    }
  ],
  "metadata": {
    "colab": {
      "collapsed_sections": [],
      "name": "ZAM_accessing_the_web_parts.ipynb",
      "provenance": []
    },
    "kernelspec": {
      "display_name": "Python 3",
      "name": "python3"
    },
    "language_info": {
      "name": "python"
    }
  },
  "nbformat": 4,
  "nbformat_minor": 0
}
