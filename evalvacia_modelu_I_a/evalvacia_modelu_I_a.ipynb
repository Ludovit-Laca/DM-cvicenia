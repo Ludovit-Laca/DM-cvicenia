{
  "cells": [
    {
      "cell_type": "markdown",
      "metadata": {
        "id": "W1McFcDOVx-a"
      },
      "source": [
        "0. Imports"
      ]
    },
    {
      "cell_type": "code",
      "execution_count": 15,
      "metadata": {
        "id": "SpFE0ICxUZjy"
      },
      "outputs": [],
      "source": [
        "import pandas as pd\n",
        "import numpy as np"
      ]
    },
    {
      "cell_type": "markdown",
      "metadata": {
        "id": "aak6N4H2V7Pl"
      },
      "source": [
        "1. Load CSV"
      ]
    },
    {
      "cell_type": "code",
      "execution_count": 16,
      "metadata": {
        "id": "379xB7tYV6G8"
      },
      "outputs": [],
      "source": [
        "# change to your file location\n",
        "df = pd.read_csv('/content/drive/MyDrive/Škola/DM/evalvacia_modelu_I_a/MLM_vstup.csv', ';', usecols=range(0,13))\n",
        "df_stats = pd.read_csv('/content/drive/MyDrive/Škola/DM/evalvacia_modelu_I_a/MLM_STUD_stats.csv', ';', usecols=range(0,10))\n",
        "\n",
        "# fiter for students\n",
        "df = df[(df['HODINA'] > 6) & (df['HODINA'] <= 22) & (df['STUD'] == 1) & (df['KATEGORIA'].isin(['uvod', 'studium', 'o_fakulte', 'oznamy']))]\n",
        "\n",
        "# empty dict to save created crosstables\n",
        "dfDict = {}"
      ]
    },
    {
      "cell_type": "markdown",
      "metadata": {
        "id": "EiwuILL53Wq7"
      },
      "source": [
        "2. Create crosstables\n",
        "\n",
        "*Crosstable - PO*"
      ]
    },
    {
      "cell_type": "code",
      "execution_count": 27,
      "metadata": {
        "id": "CsH6GQb625eL"
      },
      "outputs": [],
      "source": [
        "df1 = df[(df['PO'] == 1)]\n",
        "crosstable = pd.crosstab(df1['HODINA'], df1['KATEGORIA'], values=df1['PO'], margins=True, \n",
        "                 dropna=False, aggfunc='count').reset_index().fillna(0)\n",
        "\n",
        "# Add missing line\n",
        "crosstable = crosstable.append({'HODINA': 7, 'o_fakulte': 0, 'oznamy': 0, 'studium': 0, 'uvod': 0, 'All': 0}, ignore_index=True)\n",
        "\n",
        "# Add PO crosstable into dict\n",
        "dfDict['PO'] = crosstable"
      ]
    },
    {
      "cell_type": "markdown",
      "metadata": {
        "id": "kju7PnWt66VJ"
      },
      "source": [
        "*Crosstable - UT*"
      ]
    },
    {
      "cell_type": "code",
      "execution_count": 18,
      "metadata": {
        "id": "qDha2Jz669rL"
      },
      "outputs": [],
      "source": [
        "df1 = df[(df['UT'] == 1)]\n",
        "crosstable = pd.crosstab(df1['HODINA'], df1['KATEGORIA'], values=df1['UT'], margins=True, \n",
        "                 dropna=False, aggfunc='count').reset_index().fillna(0)\n",
        "\n",
        "# Add UT crosstable into dict\n",
        "dfDict['UT'] = crosstable"
      ]
    },
    {
      "cell_type": "markdown",
      "metadata": {
        "id": "0DO9m2R37lK-"
      },
      "source": [
        "*Crosstable - STR*"
      ]
    },
    {
      "cell_type": "code",
      "execution_count": 19,
      "metadata": {
        "id": "Td5vSqBN7iKV"
      },
      "outputs": [],
      "source": [
        "df1 = df[(df['STR'] == 1)]\n",
        "crosstable = pd.crosstab(df1['HODINA'], df1['KATEGORIA'], values=df1['STR'], margins=True, \n",
        "                 dropna=False, aggfunc='count').reset_index().fillna(0)\n",
        "\n",
        "# Add missing line   \n",
        "crosstable = crosstable.append({'HODINA': 22, 'o_fakulte': 0, 'oznamy': 0, 'studium': 0, 'uvod': 0, 'All': 0}, ignore_index=True)\n",
        "\n",
        "# Add STR crosstable into dict\n",
        "dfDict['STR'] = crosstable"
      ]
    },
    {
      "cell_type": "markdown",
      "metadata": {
        "id": "Qb6c4XMx8BaF"
      },
      "source": [
        "*Crosstable - STVR*"
      ]
    },
    {
      "cell_type": "code",
      "execution_count": 20,
      "metadata": {
        "id": "Hv1mXSOs74u6"
      },
      "outputs": [],
      "source": [
        "df1 = df[(df['STVR'] == 1)]\n",
        "crosstable = pd.crosstab(df1['HODINA'], df1['KATEGORIA'], values=df1['STVR'], margins=True, \n",
        "                 dropna=False, aggfunc='count').reset_index().fillna(0)\n",
        "\n",
        "# Add STVR crosstable into dict\n",
        "dfDict['STVR'] = crosstable"
      ]
    },
    {
      "cell_type": "markdown",
      "metadata": {
        "id": "hsSu7KzCW4oG"
      },
      "source": [
        "*Crosstable - PIA*"
      ]
    },
    {
      "cell_type": "code",
      "execution_count": 21,
      "metadata": {
        "id": "lfAng8AJWrWs"
      },
      "outputs": [],
      "source": [
        "df1 = df[(df['PIA'] == 1)]\n",
        "crosstable = pd.crosstab(df1['HODINA'], df1['KATEGORIA'], values=df1['PIA'], margins=True, \n",
        "                 dropna=False, aggfunc='count').reset_index().fillna(0)\n",
        "\n",
        "# Add missing lines\n",
        "crosstable = crosstable.append({'HODINA': 18, 'o_fakulte': 0, 'oznamy': 0, 'studium': 0, 'uvod': 0, 'All': 0}, ignore_index=True)\n",
        "crosstable = crosstable.append({'HODINA': 21, 'o_fakulte': 0, 'oznamy': 0, 'studium': 0, 'uvod': 0, 'All': 0}, ignore_index=True)\n",
        "\n",
        "# Add PIA crosstable into dict\n",
        "dfDict['PIA'] = crosstable"
      ]
    },
    {
      "cell_type": "markdown",
      "metadata": {
        "id": "K9IiF9Iw8NWm"
      },
      "source": [
        "*Crosstable - SO*"
      ]
    },
    {
      "cell_type": "code",
      "execution_count": 22,
      "metadata": {
        "id": "1y3n92cbvBHF"
      },
      "outputs": [],
      "source": [
        "df1 = df[(df['SO'] == 1)]\n",
        "crosstable = pd.crosstab(df1['HODINA'], df1['KATEGORIA'], values=df1['SO'], margins=True, \n",
        "                 dropna=False, aggfunc='count').reset_index().fillna(0)\n",
        "\n",
        "# Add missing lines\n",
        "crosstable = crosstable.append({'HODINA': 17, 'o_fakulte': 0, 'oznamy': 0, 'studium': 0, 'uvod': 0, 'All': 0}, ignore_index=True)\n",
        "crosstable = crosstable.append({'HODINA': 18, 'o_fakulte': 0, 'oznamy': 0, 'studium': 0, 'uvod': 0, 'All': 0}, ignore_index=True)\n",
        "crosstable = crosstable.append({'HODINA': 19, 'o_fakulte': 0, 'oznamy': 0, 'studium': 0, 'uvod': 0, 'All': 0}, ignore_index=True)\n",
        "crosstable = crosstable.append({'HODINA': 20, 'o_fakulte': 0, 'oznamy': 0, 'studium': 0, 'uvod': 0, 'All': 0}, ignore_index=True)\n",
        "\n",
        "# Add SO crosstable into dict\n",
        "dfDict['SO'] = crosstable"
      ]
    },
    {
      "cell_type": "markdown",
      "metadata": {
        "id": "NpYdkaOeBScX"
      },
      "source": [
        "3. Create collection of weekdays"
      ]
    },
    {
      "cell_type": "code",
      "execution_count": 23,
      "metadata": {
        "id": "JV_92Z5EBPoY"
      },
      "outputs": [],
      "source": [
        "days = ['PO', 'UT', 'STR', 'STVR', 'PIA', 'SO']"
      ]
    },
    {
      "cell_type": "markdown",
      "metadata": {
        "id": "1aKyUcP1-Ytv"
      },
      "source": [
        "4. Create estimates for web parts"
      ]
    },
    {
      "cell_type": "code",
      "execution_count": 24,
      "metadata": {
        "colab": {
          "base_uri": "https://localhost:8080/",
          "height": 542
        },
        "id": "19rW_Mcq8j4V",
        "outputId": "481d817e-ffd5-4978-e90c-b9cce37285e3"
      },
      "outputs": [
        {
          "data": {
            "text/html": [
              "<div>\n",
              "<style scoped>\n",
              "    .dataframe tbody tr th:only-of-type {\n",
              "        vertical-align: middle;\n",
              "    }\n",
              "\n",
              "    .dataframe tbody tr th {\n",
              "        vertical-align: top;\n",
              "    }\n",
              "\n",
              "    .dataframe thead th {\n",
              "        text-align: right;\n",
              "    }\n",
              "</style>\n",
              "<table border=\"1\" class=\"dataframe\">\n",
              "  <thead>\n",
              "    <tr style=\"text-align: right;\">\n",
              "      <th></th>\n",
              "      <th>0_hod</th>\n",
              "      <th>1_PO</th>\n",
              "      <th>2_UT</th>\n",
              "      <th>3_STR</th>\n",
              "      <th>4_STVR</th>\n",
              "      <th>5_PIA</th>\n",
              "      <th>6_SO</th>\n",
              "    </tr>\n",
              "  </thead>\n",
              "  <tbody>\n",
              "    <tr>\n",
              "      <th>0</th>\n",
              "      <td>7.0</td>\n",
              "      <td>0.000000</td>\n",
              "      <td>3.571617</td>\n",
              "      <td>26.451747</td>\n",
              "      <td>11.525116</td>\n",
              "      <td>8.553339</td>\n",
              "      <td>10.399792</td>\n",
              "    </tr>\n",
              "    <tr>\n",
              "      <th>1</th>\n",
              "      <td>8.0</td>\n",
              "      <td>13.833549</td>\n",
              "      <td>13.068825</td>\n",
              "      <td>18.653568</td>\n",
              "      <td>3.264149</td>\n",
              "      <td>89.731902</td>\n",
              "      <td>76.807945</td>\n",
              "    </tr>\n",
              "    <tr>\n",
              "      <th>2</th>\n",
              "      <td>9.0</td>\n",
              "      <td>64.192605</td>\n",
              "      <td>54.199823</td>\n",
              "      <td>36.392573</td>\n",
              "      <td>38.440714</td>\n",
              "      <td>83.354462</td>\n",
              "      <td>28.419364</td>\n",
              "    </tr>\n",
              "    <tr>\n",
              "      <th>3</th>\n",
              "      <td>10.0</td>\n",
              "      <td>67.507120</td>\n",
              "      <td>63.646036</td>\n",
              "      <td>9.563301</td>\n",
              "      <td>17.905450</td>\n",
              "      <td>30.561764</td>\n",
              "      <td>33.015756</td>\n",
              "    </tr>\n",
              "    <tr>\n",
              "      <th>4</th>\n",
              "      <td>11.0</td>\n",
              "      <td>66.064018</td>\n",
              "      <td>73.589841</td>\n",
              "      <td>58.256822</td>\n",
              "      <td>14.234026</td>\n",
              "      <td>43.808187</td>\n",
              "      <td>68.355672</td>\n",
              "    </tr>\n",
              "    <tr>\n",
              "      <th>5</th>\n",
              "      <td>12.0</td>\n",
              "      <td>75.434503</td>\n",
              "      <td>56.879803</td>\n",
              "      <td>38.921935</td>\n",
              "      <td>5.701469</td>\n",
              "      <td>30.447926</td>\n",
              "      <td>21.304927</td>\n",
              "    </tr>\n",
              "    <tr>\n",
              "      <th>6</th>\n",
              "      <td>13.0</td>\n",
              "      <td>55.793916</td>\n",
              "      <td>36.775645</td>\n",
              "      <td>38.453316</td>\n",
              "      <td>42.139338</td>\n",
              "      <td>64.659762</td>\n",
              "      <td>28.288729</td>\n",
              "    </tr>\n",
              "    <tr>\n",
              "      <th>7</th>\n",
              "      <td>14.0</td>\n",
              "      <td>75.843812</td>\n",
              "      <td>43.592840</td>\n",
              "      <td>50.723343</td>\n",
              "      <td>41.390634</td>\n",
              "      <td>22.851268</td>\n",
              "      <td>8.942736</td>\n",
              "    </tr>\n",
              "    <tr>\n",
              "      <th>8</th>\n",
              "      <td>15.0</td>\n",
              "      <td>96.626297</td>\n",
              "      <td>6.921608</td>\n",
              "      <td>14.748775</td>\n",
              "      <td>6.718350</td>\n",
              "      <td>10.555898</td>\n",
              "      <td>21.760039</td>\n",
              "    </tr>\n",
              "    <tr>\n",
              "      <th>9</th>\n",
              "      <td>16.0</td>\n",
              "      <td>11.959967</td>\n",
              "      <td>17.299181</td>\n",
              "      <td>48.760589</td>\n",
              "      <td>23.328197</td>\n",
              "      <td>3.077947</td>\n",
              "      <td>31.903484</td>\n",
              "    </tr>\n",
              "    <tr>\n",
              "      <th>10</th>\n",
              "      <td>17.0</td>\n",
              "      <td>6.928537</td>\n",
              "      <td>14.001006</td>\n",
              "      <td>2.925321</td>\n",
              "      <td>6.437909</td>\n",
              "      <td>1.435589</td>\n",
              "      <td>0.000000</td>\n",
              "    </tr>\n",
              "    <tr>\n",
              "      <th>11</th>\n",
              "      <td>18.0</td>\n",
              "      <td>14.249398</td>\n",
              "      <td>9.152679</td>\n",
              "      <td>5.841567</td>\n",
              "      <td>5.416080</td>\n",
              "      <td>0.000000</td>\n",
              "      <td>0.000000</td>\n",
              "    </tr>\n",
              "    <tr>\n",
              "      <th>12</th>\n",
              "      <td>19.0</td>\n",
              "      <td>11.643412</td>\n",
              "      <td>4.903946</td>\n",
              "      <td>1.385250</td>\n",
              "      <td>1.474966</td>\n",
              "      <td>26.953075</td>\n",
              "      <td>0.000000</td>\n",
              "    </tr>\n",
              "    <tr>\n",
              "      <th>13</th>\n",
              "      <td>20.0</td>\n",
              "      <td>12.732246</td>\n",
              "      <td>0.573406</td>\n",
              "      <td>1.668935</td>\n",
              "      <td>0.233830</td>\n",
              "      <td>0.508178</td>\n",
              "      <td>0.000000</td>\n",
              "    </tr>\n",
              "    <tr>\n",
              "      <th>14</th>\n",
              "      <td>21.0</td>\n",
              "      <td>5.212151</td>\n",
              "      <td>2.311898</td>\n",
              "      <td>2.375142</td>\n",
              "      <td>0.539460</td>\n",
              "      <td>0.000000</td>\n",
              "      <td>3.222181</td>\n",
              "    </tr>\n",
              "    <tr>\n",
              "      <th>15</th>\n",
              "      <td>22.0</td>\n",
              "      <td>1.453009</td>\n",
              "      <td>9.217549</td>\n",
              "      <td>0.000000</td>\n",
              "      <td>0.939748</td>\n",
              "      <td>1.036353</td>\n",
              "      <td>8.975005</td>\n",
              "    </tr>\n",
              "  </tbody>\n",
              "</table>\n",
              "</div>"
            ],
            "text/plain": [
              "    0_hod       1_PO       2_UT      3_STR     4_STVR      5_PIA       6_SO\n",
              "0     7.0   0.000000   3.571617  26.451747  11.525116   8.553339  10.399792\n",
              "1     8.0  13.833549  13.068825  18.653568   3.264149  89.731902  76.807945\n",
              "2     9.0  64.192605  54.199823  36.392573  38.440714  83.354462  28.419364\n",
              "3    10.0  67.507120  63.646036   9.563301  17.905450  30.561764  33.015756\n",
              "4    11.0  66.064018  73.589841  58.256822  14.234026  43.808187  68.355672\n",
              "5    12.0  75.434503  56.879803  38.921935   5.701469  30.447926  21.304927\n",
              "6    13.0  55.793916  36.775645  38.453316  42.139338  64.659762  28.288729\n",
              "7    14.0  75.843812  43.592840  50.723343  41.390634  22.851268   8.942736\n",
              "8    15.0  96.626297   6.921608  14.748775   6.718350  10.555898  21.760039\n",
              "9    16.0  11.959967  17.299181  48.760589  23.328197   3.077947  31.903484\n",
              "10   17.0   6.928537  14.001006   2.925321   6.437909   1.435589   0.000000\n",
              "11   18.0  14.249398   9.152679   5.841567   5.416080   0.000000   0.000000\n",
              "12   19.0  11.643412   4.903946   1.385250   1.474966  26.953075   0.000000\n",
              "13   20.0  12.732246   0.573406   1.668935   0.233830   0.508178   0.000000\n",
              "14   21.0   5.212151   2.311898   2.375142   0.539460   0.000000   3.222181\n",
              "15   22.0   1.453009   9.217549   0.000000   0.939748   1.036353   8.975005"
            ]
          },
          "execution_count": 24,
          "metadata": {},
          "output_type": "execute_result"
        }
      ],
      "source": [
        "df1 = pd.DataFrame()\n",
        "df2 = pd.DataFrame()\n",
        "df3 = pd.DataFrame()\n",
        "df4 = pd.DataFrame()\n",
        "index = 0\n",
        "\n",
        "# Cycle through hours from 7 to 23\n",
        "for x in range (7,23):\n",
        "      new_row_uvod = {}\n",
        "      new_row_studium = {}\n",
        "      new_row_oznamy = {}\n",
        "      new_row_fakulte = {}\n",
        "      i = 1\n",
        "\n",
        "      # Cycle through weekdays\n",
        "      for day in days:\n",
        "\n",
        "        # Create logits estimates\n",
        "        logit_uvod = df_stats.at[index, 'Intercept'] + df_stats.at[index, 'HODINA']*x+df_stats.at[index, 'HODINA_STV']*(x*x)+df_stats.at[index, day]\n",
        "        logit_studium = df_stats.at[index+1, 'Intercept'] + df_stats.at[index+1, 'HODINA']*x+df_stats.at[index+1, 'HODINA_STV']*(x*x)+df_stats.at[index+1, day]\n",
        "        logit_oznamy = df_stats.at[index+2, 'Intercept'] + df_stats.at[index+2, 'HODINA']*x+df_stats.at[index+2, 'HODINA_STV']*(x*x)+df_stats.at[index+2, day]\n",
        "        \n",
        "        reference_web = 1 / (1 + np.exp(logit_uvod) + np.exp(logit_studium) + np.exp(logit_oznamy))\n",
        "        \n",
        "        # Create estimates for web parts\n",
        "        estimate_uvod = np.exp(logit_uvod) * reference_web\n",
        "        estimate_studium = np.exp(logit_studium) * reference_web\n",
        "        estimate_oznamy = np.exp(logit_oznamy) * reference_web\n",
        "        estimate_fakulte = np.exp(reference_web) * reference_web\n",
        "\n",
        "        # Create evaluation\n",
        "        crosstable = dfDict[day]\n",
        "        crosstable = crosstable[(crosstable['HODINA'] == x)]\n",
        "        evaluation_uvod = estimate_uvod * crosstable.iloc[0]['All']\n",
        "        evaluation_studium = estimate_studium * crosstable.iloc[0]['All']\n",
        "        evaluation_oznamy = estimate_oznamy * crosstable.iloc[0]['All']\n",
        "        evaluation_fakulte = estimate_fakulte * crosstable.iloc[0]['All']\n",
        "\n",
        "        den = str(i) + '_' + day\n",
        "\n",
        "        # Create new rows and append it to dataframe\n",
        "        new_row_uvod.update({den: evaluation_uvod})\n",
        "        new_row_studium.update({den: evaluation_studium})\n",
        "        new_row_oznamy.update({den: evaluation_oznamy})\n",
        "        new_row_fakulte.update({den: evaluation_fakulte})\n",
        "        i = i + 1\n",
        "      \n",
        "      # Append time to rows\n",
        "      new_row_uvod.update({'0_hod': x})\n",
        "      new_row_studium.update({'0_hod': x})\n",
        "      new_row_oznamy.update({'0_hod': x})\n",
        "      new_row_fakulte.update({'0_hod': x})\n",
        "\n",
        "      # Update dataframes\n",
        "      df1 = df1.append(new_row_uvod, sort=False, ignore_index=True)\n",
        "      df2 = df2.append(new_row_studium, sort=False, ignore_index=True)\n",
        "      df3 = df3.append(new_row_oznamy, sort=False, ignore_index=True)\n",
        "      df4 = df4.append(new_row_fakulte, sort=False, ignore_index=True)\n",
        "\n",
        "df1.head(16)"
      ]
    },
    {
      "cell_type": "markdown",
      "metadata": {
        "id": "R3TJm4Oubc4n"
      },
      "source": [
        "4. Export to excel"
      ]
    },
    {
      "cell_type": "code",
      "execution_count": 25,
      "metadata": {
        "id": "z4iPztHabee1"
      },
      "outputs": [],
      "source": [
        "# Creating Excel Writer Object from Pandas  \n",
        "writer = pd.ExcelWriter('STUD_evaluation_model.xlsx',engine='xlsxwriter')   \n",
        "workbook=writer.book\n",
        "worksheet=workbook.add_worksheet('STUD')\n",
        "writer.sheets['STUD'] = worksheet\n",
        "\n",
        "# Úvod\n",
        "worksheet.write(0, 0, \"Úvod\")\n",
        "df1.to_excel(writer, sheet_name='STUD',startrow=1 , startcol=0, index=False)\n",
        "\n",
        "# Śtúdium\n",
        "worksheet.write(0, 8, \"Štúdium\")\n",
        "df2.to_excel(writer, sheet_name='STUD',startrow=1 , startcol=8, index=False)\n",
        "\n",
        "# Oznamy\n",
        "worksheet.write(0, 16, \"Oznamy\")\n",
        "df3.to_excel(writer, sheet_name='STUD',startrow=1 , startcol=16, index=False)\n",
        "\n",
        "# O fakulte\n",
        "worksheet.write(0, 24, \"O fakulte\")\n",
        "df4.to_excel(writer, sheet_name='STUD',startrow=1 , startcol=24, index=False)\n",
        "writer.save()"
      ]
    }
  ],
  "metadata": {
    "colab": {
      "collapsed_sections": [],
      "name": "evalvacia_modelu_I_a.ipynb",
      "provenance": []
    },
    "kernelspec": {
      "display_name": "Python 3",
      "name": "python3"
    },
    "language_info": {
      "name": "python"
    }
  },
  "nbformat": 4,
  "nbformat_minor": 0
}
