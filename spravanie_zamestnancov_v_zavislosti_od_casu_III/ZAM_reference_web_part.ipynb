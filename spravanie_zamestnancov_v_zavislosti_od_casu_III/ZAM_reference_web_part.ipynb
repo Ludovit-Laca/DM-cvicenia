{
  "nbformat": 4,
  "nbformat_minor": 0,
  "metadata": {
    "colab": {
      "name": "ZAM_reference_web_part.ipynb",
      "provenance": [],
      "collapsed_sections": []
    },
    "kernelspec": {
      "name": "python3",
      "display_name": "Python 3"
    },
    "language_info": {
      "name": "python"
    }
  },
  "cells": [
    {
      "cell_type": "markdown",
      "metadata": {
        "id": "rpZiUllIKheS"
      },
      "source": [
        "0. Imports"
      ]
    },
    {
      "cell_type": "code",
      "metadata": {
        "id": "4RzJ03PpKVsC"
      },
      "source": [
        "import pandas as pd\n",
        "import numpy as np"
      ],
      "execution_count": 8,
      "outputs": []
    },
    {
      "cell_type": "markdown",
      "metadata": {
        "id": "DdBaHDDBKk_0"
      },
      "source": [
        "1. Load csv"
      ]
    },
    {
      "cell_type": "code",
      "metadata": {
        "colab": {
          "base_uri": "https://localhost:8080/",
          "height": 142
        },
        "id": "87TgmlrbKlyo",
        "outputId": "59e3eff0-2623-4c83-c0c7-bf97c7749f46"
      },
      "source": [
        "# change to your file location\n",
        "df = pd.read_csv('/content/drive/MyDrive/Škola/DM/spravanie_zamestnancov_v_zavislosti_od_casu_III/MLM_ZAM_stats.csv', ';', usecols=range(0,10))\n",
        "df.head(10)"
      ],
      "execution_count": 9,
      "outputs": [
        {
          "output_type": "execute_result",
          "data": {
            "text/html": [
              "<div>\n",
              "<style scoped>\n",
              "    .dataframe tbody tr th:only-of-type {\n",
              "        vertical-align: middle;\n",
              "    }\n",
              "\n",
              "    .dataframe tbody tr th {\n",
              "        vertical-align: top;\n",
              "    }\n",
              "\n",
              "    .dataframe thead th {\n",
              "        text-align: right;\n",
              "    }\n",
              "</style>\n",
              "<table border=\"1\" class=\"dataframe\">\n",
              "  <thead>\n",
              "    <tr style=\"text-align: right;\">\n",
              "      <th></th>\n",
              "      <th>Effect</th>\n",
              "      <th>Intercept</th>\n",
              "      <th>HODINA</th>\n",
              "      <th>HODINA_STV</th>\n",
              "      <th>PO</th>\n",
              "      <th>UT</th>\n",
              "      <th>STR</th>\n",
              "      <th>STVR</th>\n",
              "      <th>PIA</th>\n",
              "      <th>SO</th>\n",
              "    </tr>\n",
              "  </thead>\n",
              "  <tbody>\n",
              "    <tr>\n",
              "      <th>0</th>\n",
              "      <td>uvod_ZAM</td>\n",
              "      <td>5.58384</td>\n",
              "      <td>-0.68231</td>\n",
              "      <td>0.02633</td>\n",
              "      <td>0.16019</td>\n",
              "      <td>0.00955</td>\n",
              "      <td>-0.76405</td>\n",
              "      <td>-0.98585</td>\n",
              "      <td>0</td>\n",
              "      <td>0</td>\n",
              "    </tr>\n",
              "    <tr>\n",
              "      <th>1</th>\n",
              "      <td>studium_ZAM</td>\n",
              "      <td>0.92959</td>\n",
              "      <td>0.06409</td>\n",
              "      <td>-0.00612</td>\n",
              "      <td>0.38236</td>\n",
              "      <td>0.82227</td>\n",
              "      <td>-0.17730</td>\n",
              "      <td>-0.00245</td>\n",
              "      <td>0</td>\n",
              "      <td>0</td>\n",
              "    </tr>\n",
              "    <tr>\n",
              "      <th>2</th>\n",
              "      <td>oznamy_ZAM</td>\n",
              "      <td>-3.91218</td>\n",
              "      <td>0.40371</td>\n",
              "      <td>-0.02517</td>\n",
              "      <td>2.31863</td>\n",
              "      <td>2.96682</td>\n",
              "      <td>0.57197</td>\n",
              "      <td>-0.49513</td>\n",
              "      <td>0</td>\n",
              "      <td>0</td>\n",
              "    </tr>\n",
              "  </tbody>\n",
              "</table>\n",
              "</div>"
            ],
            "text/plain": [
              "        Effect  Intercept   HODINA  HODINA_STV  ...      STR     STVR  PIA  SO\n",
              "0     uvod_ZAM    5.58384 -0.68231     0.02633  ... -0.76405 -0.98585    0   0\n",
              "1  studium_ZAM    0.92959  0.06409    -0.00612  ... -0.17730 -0.00245    0   0\n",
              "2   oznamy_ZAM   -3.91218  0.40371    -0.02517  ...  0.57197 -0.49513    0   0\n",
              "\n",
              "[3 rows x 10 columns]"
            ]
          },
          "metadata": {},
          "execution_count": 9
        }
      ]
    },
    {
      "cell_type": "markdown",
      "metadata": {
        "id": "KvcF5DLJLCm7"
      },
      "source": [
        "2. Create collection of weekdays"
      ]
    },
    {
      "cell_type": "code",
      "metadata": {
        "id": "6tmMjFTNK8-b"
      },
      "source": [
        "days = ['PO', 'UT', 'STR', 'STVR', 'PIA']"
      ],
      "execution_count": 10,
      "outputs": []
    },
    {
      "cell_type": "markdown",
      "metadata": {
        "id": "ScZrHi-8LG9W"
      },
      "source": [
        "3. Create logits estimate"
      ]
    },
    {
      "cell_type": "code",
      "metadata": {
        "id": "w9lO10toLFbF",
        "colab": {
          "base_uri": "https://localhost:8080/",
          "height": 203
        },
        "outputId": "9e4ad124-d91d-453f-b6a7-a4a0d457892d"
      },
      "source": [
        "df1 = pd.DataFrame()\n",
        "index = 0\n",
        "\n",
        "# Cycle through hours from 7 to 23\n",
        "for x in range (7,23):\n",
        "      new_row = {}\n",
        "      i = 1\n",
        "\n",
        "      # Cycle through weekdays\n",
        "      for day in days:\n",
        "\n",
        "        # Create logits estimates\n",
        "        logit_uvod = df.at[index, 'Intercept'] + df.at[index, 'HODINA']*x+df.at[index, 'HODINA_STV']*(x*x)+df.at[index, day]\n",
        "        logit_studium = df.at[index+1, 'Intercept'] + df.at[index+1, 'HODINA']*x+df.at[index+1, 'HODINA_STV']*(x*x)+df.at[index+1, day]\n",
        "        logit_oznamy = df.at[index+2, 'Intercept'] + df.at[index+2, 'HODINA']*x+df.at[index+2, 'HODINA_STV']*(x*x)+df.at[index+2, day]\n",
        "        reference_web = 1 / (np.exp(logit_uvod) + np.exp(logit_studium) + np.exp(logit_oznamy))\n",
        "        den = str(i) + '_' + day\n",
        "\n",
        "        # Create new row and append it to dataframe\n",
        "        new_row.update({den: reference_web})\n",
        "        i = i + 1\n",
        "      \n",
        "      new_row.update({'0_hod': x})\n",
        "      df1 = df1.append(new_row, sort=False, ignore_index=True)\n",
        "\n",
        "df1.head()"
      ],
      "execution_count": 11,
      "outputs": [
        {
          "output_type": "execute_result",
          "data": {
            "text/html": [
              "<div>\n",
              "<style scoped>\n",
              "    .dataframe tbody tr th:only-of-type {\n",
              "        vertical-align: middle;\n",
              "    }\n",
              "\n",
              "    .dataframe tbody tr th {\n",
              "        vertical-align: top;\n",
              "    }\n",
              "\n",
              "    .dataframe thead th {\n",
              "        text-align: right;\n",
              "    }\n",
              "</style>\n",
              "<table border=\"1\" class=\"dataframe\">\n",
              "  <thead>\n",
              "    <tr style=\"text-align: right;\">\n",
              "      <th></th>\n",
              "      <th>0_hod</th>\n",
              "      <th>1_PO</th>\n",
              "      <th>2_UT</th>\n",
              "      <th>3_STR</th>\n",
              "      <th>4_STVR</th>\n",
              "      <th>5_PIA</th>\n",
              "    </tr>\n",
              "  </thead>\n",
              "  <tbody>\n",
              "    <tr>\n",
              "      <th>0</th>\n",
              "      <td>7.0</td>\n",
              "      <td>0.067239</td>\n",
              "      <td>0.059428</td>\n",
              "      <td>0.155478</td>\n",
              "      <td>0.165757</td>\n",
              "      <td>0.089392</td>\n",
              "    </tr>\n",
              "    <tr>\n",
              "      <th>1</th>\n",
              "      <td>8.0</td>\n",
              "      <td>0.080695</td>\n",
              "      <td>0.068305</td>\n",
              "      <td>0.184463</td>\n",
              "      <td>0.192493</td>\n",
              "      <td>0.110208</td>\n",
              "    </tr>\n",
              "    <tr>\n",
              "      <th>2</th>\n",
              "      <td>9.0</td>\n",
              "      <td>0.093435</td>\n",
              "      <td>0.076644</td>\n",
              "      <td>0.211532</td>\n",
              "      <td>0.217172</td>\n",
              "      <td>0.130200</td>\n",
              "    </tr>\n",
              "    <tr>\n",
              "      <th>3</th>\n",
              "      <td>10.0</td>\n",
              "      <td>0.105469</td>\n",
              "      <td>0.084893</td>\n",
              "      <td>0.236793</td>\n",
              "      <td>0.240341</td>\n",
              "      <td>0.148609</td>\n",
              "    </tr>\n",
              "    <tr>\n",
              "      <th>4</th>\n",
              "      <td>11.0</td>\n",
              "      <td>0.116824</td>\n",
              "      <td>0.093397</td>\n",
              "      <td>0.260416</td>\n",
              "      <td>0.262508</td>\n",
              "      <td>0.164838</td>\n",
              "    </tr>\n",
              "  </tbody>\n",
              "</table>\n",
              "</div>"
            ],
            "text/plain": [
              "   0_hod      1_PO      2_UT     3_STR    4_STVR     5_PIA\n",
              "0    7.0  0.067239  0.059428  0.155478  0.165757  0.089392\n",
              "1    8.0  0.080695  0.068305  0.184463  0.192493  0.110208\n",
              "2    9.0  0.093435  0.076644  0.211532  0.217172  0.130200\n",
              "3   10.0  0.105469  0.084893  0.236793  0.240341  0.148609\n",
              "4   11.0  0.116824  0.093397  0.260416  0.262508  0.164838"
            ]
          },
          "metadata": {},
          "execution_count": 11
        }
      ]
    },
    {
      "cell_type": "markdown",
      "metadata": {
        "id": "Teckag1PLS2K"
      },
      "source": [
        "4. Export to excel"
      ]
    },
    {
      "cell_type": "code",
      "metadata": {
        "id": "iqiYAYhhLQ6-"
      },
      "source": [
        "df1.to_excel('ZAM_reference_web_part.xlsx', index = False)"
      ],
      "execution_count": 12,
      "outputs": []
    }
  ]
}