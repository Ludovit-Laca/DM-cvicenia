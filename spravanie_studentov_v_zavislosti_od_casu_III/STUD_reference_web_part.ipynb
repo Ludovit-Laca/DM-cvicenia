{
  "cells": [
    {
      "cell_type": "markdown",
      "metadata": {
        "id": "UkPUaHCxB4t0"
      },
      "source": [
        "0. Imports"
      ]
    },
    {
      "cell_type": "code",
      "execution_count": 1,
      "metadata": {
        "id": "Dr1HnyhcBfFu"
      },
      "outputs": [],
      "source": [
        "import pandas as pd\n",
        "import numpy as np"
      ]
    },
    {
      "cell_type": "markdown",
      "metadata": {
        "id": "_ofzP4rsCWT4"
      },
      "source": [
        "1. Load csv"
      ]
    },
    {
      "cell_type": "code",
      "execution_count": 2,
      "metadata": {
        "colab": {
          "base_uri": "https://localhost:8080/",
          "height": 142
        },
        "id": "6JM7De8aCYBs",
        "outputId": "6032e9e1-7be2-484d-cb07-56412728e7ac"
      },
      "outputs": [
        {
          "data": {
            "text/html": [
              "<div>\n",
              "<style scoped>\n",
              "    .dataframe tbody tr th:only-of-type {\n",
              "        vertical-align: middle;\n",
              "    }\n",
              "\n",
              "    .dataframe tbody tr th {\n",
              "        vertical-align: top;\n",
              "    }\n",
              "\n",
              "    .dataframe thead th {\n",
              "        text-align: right;\n",
              "    }\n",
              "</style>\n",
              "<table border=\"1\" class=\"dataframe\">\n",
              "  <thead>\n",
              "    <tr style=\"text-align: right;\">\n",
              "      <th></th>\n",
              "      <th>Effect</th>\n",
              "      <th>Intercept</th>\n",
              "      <th>HODINA</th>\n",
              "      <th>HODINA_STV</th>\n",
              "      <th>PO</th>\n",
              "      <th>UT</th>\n",
              "      <th>STR</th>\n",
              "      <th>STVR</th>\n",
              "      <th>PIA</th>\n",
              "      <th>SO</th>\n",
              "    </tr>\n",
              "  </thead>\n",
              "  <tbody>\n",
              "    <tr>\n",
              "      <th>0</th>\n",
              "      <td>uvod_STUD</td>\n",
              "      <td>1.34835</td>\n",
              "      <td>0.34182</td>\n",
              "      <td>-0.01563</td>\n",
              "      <td>-0.63353</td>\n",
              "      <td>1.10307</td>\n",
              "      <td>0.11376</td>\n",
              "      <td>-0.49911</td>\n",
              "      <td>0.68682</td>\n",
              "      <td>0</td>\n",
              "    </tr>\n",
              "    <tr>\n",
              "      <th>1</th>\n",
              "      <td>studium_STUD</td>\n",
              "      <td>-2.84924</td>\n",
              "      <td>0.38448</td>\n",
              "      <td>-0.00867</td>\n",
              "      <td>0.95518</td>\n",
              "      <td>3.02822</td>\n",
              "      <td>1.54827</td>\n",
              "      <td>1.22148</td>\n",
              "      <td>1.20767</td>\n",
              "      <td>0</td>\n",
              "    </tr>\n",
              "    <tr>\n",
              "      <th>2</th>\n",
              "      <td>oznamy_STUD</td>\n",
              "      <td>1.51459</td>\n",
              "      <td>-0.38342</td>\n",
              "      <td>0.01248</td>\n",
              "      <td>1.65098</td>\n",
              "      <td>3.04913</td>\n",
              "      <td>1.59056</td>\n",
              "      <td>0.14253</td>\n",
              "      <td>-1.24192</td>\n",
              "      <td>0</td>\n",
              "    </tr>\n",
              "  </tbody>\n",
              "</table>\n",
              "</div>"
            ],
            "text/plain": [
              "         Effect  Intercept   HODINA  HODINA_STV  ...      STR     STVR      PIA  SO\n",
              "0     uvod_STUD    1.34835  0.34182    -0.01563  ...  0.11376 -0.49911  0.68682   0\n",
              "1  studium_STUD   -2.84924  0.38448    -0.00867  ...  1.54827  1.22148  1.20767   0\n",
              "2   oznamy_STUD    1.51459 -0.38342     0.01248  ...  1.59056  0.14253 -1.24192   0\n",
              "\n",
              "[3 rows x 10 columns]"
            ]
          },
          "execution_count": 2,
          "metadata": {},
          "output_type": "execute_result"
        }
      ],
      "source": [
        "# change to your file location\n",
        "df = pd.read_csv('/content/drive/MyDrive/Škola/DM/spravanie_studentov_v_zavislosti_od_casu_III/MLM_STUD_stats.csv', ';', usecols=range(0,10))\n",
        "df.head(10)"
      ]
    },
    {
      "cell_type": "markdown",
      "metadata": {
        "id": "0cb0_Fd0GKBS"
      },
      "source": [
        "2. Create collection of weekdays"
      ]
    },
    {
      "cell_type": "code",
      "execution_count": 3,
      "metadata": {
        "id": "kyXSe_anGDj6"
      },
      "outputs": [],
      "source": [
        "days = ['PO', 'UT', 'STR', 'STVR', 'PIA', 'SO']"
      ]
    },
    {
      "cell_type": "markdown",
      "metadata": {
        "id": "wQc2VFnUGN0Y"
      },
      "source": [
        "3. Create logits estimate"
      ]
    },
    {
      "cell_type": "code",
      "execution_count": 4,
      "metadata": {
        "colab": {
          "base_uri": "https://localhost:8080/",
          "height": 203
        },
        "id": "UDH-Q5x1GMHI",
        "outputId": "aeb56987-bb44-414b-a55f-4e10464b8802"
      },
      "outputs": [
        {
          "data": {
            "text/html": [
              "<div>\n",
              "<style scoped>\n",
              "    .dataframe tbody tr th:only-of-type {\n",
              "        vertical-align: middle;\n",
              "    }\n",
              "\n",
              "    .dataframe tbody tr th {\n",
              "        vertical-align: top;\n",
              "    }\n",
              "\n",
              "    .dataframe thead th {\n",
              "        text-align: right;\n",
              "    }\n",
              "</style>\n",
              "<table border=\"1\" class=\"dataframe\">\n",
              "  <thead>\n",
              "    <tr style=\"text-align: right;\">\n",
              "      <th></th>\n",
              "      <th>0_hod</th>\n",
              "      <th>1_PO</th>\n",
              "      <th>2_UT</th>\n",
              "      <th>3_STR</th>\n",
              "      <th>4_STVR</th>\n",
              "      <th>5_PIA</th>\n",
              "      <th>6_SO</th>\n",
              "    </tr>\n",
              "  </thead>\n",
              "  <tbody>\n",
              "    <tr>\n",
              "      <th>0</th>\n",
              "      <td>7.0</td>\n",
              "      <td>0.067414</td>\n",
              "      <td>0.012098</td>\n",
              "      <td>0.036510</td>\n",
              "      <td>0.069208</td>\n",
              "      <td>0.024406</td>\n",
              "      <td>0.048251</td>\n",
              "    </tr>\n",
              "    <tr>\n",
              "      <th>1</th>\n",
              "      <td>8.0</td>\n",
              "      <td>0.062888</td>\n",
              "      <td>0.011045</td>\n",
              "      <td>0.033180</td>\n",
              "      <td>0.061620</td>\n",
              "      <td>0.021787</td>\n",
              "      <td>0.043468</td>\n",
              "    </tr>\n",
              "    <tr>\n",
              "      <th>2</th>\n",
              "      <td>9.0</td>\n",
              "      <td>0.059061</td>\n",
              "      <td>0.010188</td>\n",
              "      <td>0.030661</td>\n",
              "      <td>0.056041</td>\n",
              "      <td>0.020019</td>\n",
              "      <td>0.040243</td>\n",
              "    </tr>\n",
              "    <tr>\n",
              "      <th>3</th>\n",
              "      <td>10.0</td>\n",
              "      <td>0.056159</td>\n",
              "      <td>0.009532</td>\n",
              "      <td>0.028889</td>\n",
              "      <td>0.052088</td>\n",
              "      <td>0.018928</td>\n",
              "      <td>0.038315</td>\n",
              "    </tr>\n",
              "    <tr>\n",
              "      <th>4</th>\n",
              "      <td>11.0</td>\n",
              "      <td>0.054216</td>\n",
              "      <td>0.009060</td>\n",
              "      <td>0.027778</td>\n",
              "      <td>0.049448</td>\n",
              "      <td>0.018401</td>\n",
              "      <td>0.037520</td>\n",
              "    </tr>\n",
              "  </tbody>\n",
              "</table>\n",
              "</div>"
            ],
            "text/plain": [
              "   0_hod      1_PO      2_UT     3_STR    4_STVR     5_PIA      6_SO\n",
              "0    7.0  0.067414  0.012098  0.036510  0.069208  0.024406  0.048251\n",
              "1    8.0  0.062888  0.011045  0.033180  0.061620  0.021787  0.043468\n",
              "2    9.0  0.059061  0.010188  0.030661  0.056041  0.020019  0.040243\n",
              "3   10.0  0.056159  0.009532  0.028889  0.052088  0.018928  0.038315\n",
              "4   11.0  0.054216  0.009060  0.027778  0.049448  0.018401  0.037520"
            ]
          },
          "execution_count": 4,
          "metadata": {},
          "output_type": "execute_result"
        }
      ],
      "source": [
        "df1 = pd.DataFrame()\n",
        "index = 0\n",
        "\n",
        "# Cycle through hours from 7 to 23\n",
        "for x in range (7,23):\n",
        "      new_row = {}\n",
        "      i = 1\n",
        "\n",
        "      # Cycle through weekdays\n",
        "      for day in days:\n",
        "\n",
        "        # Create logits estimates\n",
        "        logit_uvod = df.at[index, 'Intercept'] + df.at[index, 'HODINA']*x+df.at[index, 'HODINA_STV']*(x*x)+df.at[index, day]\n",
        "        logit_studium = df.at[index+1, 'Intercept'] + df.at[index+1, 'HODINA']*x+df.at[index+1, 'HODINA_STV']*(x*x)+df.at[index+1, day]\n",
        "        logit_oznamy = df.at[index+2, 'Intercept'] + df.at[index+2, 'HODINA']*x+df.at[index+2, 'HODINA_STV']*(x*x)+df.at[index+2, day]\n",
        "        reference_web = 1 / (1 + np.exp(logit_uvod) + np.exp(logit_studium) + np.exp(logit_oznamy))\n",
        "        den = str(i) + '_' + day\n",
        "\n",
        "        # Create new row and append it to dataframe\n",
        "        new_row.update({den: reference_web})\n",
        "        i = i + 1\n",
        "      \n",
        "      new_row.update({'0_hod': x})\n",
        "      df1 = df1.append(new_row, sort=False, ignore_index=True)\n",
        "\n",
        "df1.head()"
      ]
    },
    {
      "cell_type": "markdown",
      "metadata": {
        "id": "pmeyt0NmNbow"
      },
      "source": [
        "4. Export to excel"
      ]
    },
    {
      "cell_type": "code",
      "execution_count": 5,
      "metadata": {
        "id": "Vgpf71YeK_wb"
      },
      "outputs": [],
      "source": [
        "df1.to_excel('STUD_reference_web_part.xlsx', index = False)"
      ]
    }
  ],
  "metadata": {
    "colab": {
      "collapsed_sections": [],
      "name": "STUD_reference_web_part.ipynb",
      "provenance": []
    },
    "kernelspec": {
      "display_name": "Python 3",
      "name": "python3"
    },
    "language_info": {
      "name": "python"
    }
  },
  "nbformat": 4,
  "nbformat_minor": 0
}
