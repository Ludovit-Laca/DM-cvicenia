{
  "nbformat": 4,
  "nbformat_minor": 0,
  "metadata": {
    "colab": {
      "name": "evalvacia_modelu_III_b.ipynb",
      "provenance": [],
      "collapsed_sections": []
    },
    "kernelspec": {
      "name": "python3",
      "display_name": "Python 3"
    },
    "language_info": {
      "name": "python"
    }
  },
  "cells": [
    {
      "cell_type": "markdown",
      "metadata": {
        "id": "W1McFcDOVx-a"
      },
      "source": [
        "0. Imports"
      ]
    },
    {
      "cell_type": "code",
      "metadata": {
        "id": "SpFE0ICxUZjy"
      },
      "source": [
        "import pandas as pd\n",
        "import numpy as np"
      ],
      "execution_count": null,
      "outputs": []
    },
    {
      "cell_type": "markdown",
      "metadata": {
        "id": "aak6N4H2V7Pl"
      },
      "source": [
        "1. Load CSV"
      ]
    },
    {
      "cell_type": "code",
      "metadata": {
        "id": "379xB7tYV6G8"
      },
      "source": [
        "# change to your file location\n",
        "df = pd.read_csv('/content/drive/MyDrive/Škola/DM/evalvacia_modelu_II_b/MLM_vstup.csv', ';', usecols=range(0,13))\n",
        "\n",
        "# fiter for students\n",
        "df = df[(df['HODINA'] > 6) & (df['HODINA'] <= 22) & (df['ZAM'] == 1) & (df['KATEGORIA'].isin(['uvod', 'studium', 'o_fakulte', 'oznamy']))]\n",
        "\n",
        "# empty dict to save created crosstables\n",
        "dfDict = {}"
      ],
      "execution_count": null,
      "outputs": []
    },
    {
      "cell_type": "markdown",
      "metadata": {
        "id": "EiwuILL53Wq7"
      },
      "source": [
        "2. Create crosstables\n",
        "\n",
        "*Crosstable - PO*"
      ]
    },
    {
      "cell_type": "code",
      "metadata": {
        "id": "CsH6GQb625eL"
      },
      "source": [
        "df1 = df[(df['PO'] == 1)]\n",
        "crosstable = pd.crosstab(df1['HODINA'], df1['KATEGORIA'], values=df1['PO'], margins=True, \n",
        "                 dropna=False, aggfunc='count').reset_index().fillna(0)\n",
        "\n",
        "# Add missing line\n",
        "crosstable = crosstable.append({'HODINA': 18, 'o_fakulte': 0, 'oznamy': 0, 'studium': 0, 'uvod': 0, 'All': 0}, ignore_index=True)\n",
        "crosstable = crosstable.append({'HODINA': 19, 'o_fakulte': 0, 'oznamy': 0, 'studium': 0, 'uvod': 0, 'All': 0}, ignore_index=True)\n",
        "crosstable = crosstable.append({'HODINA': 20, 'o_fakulte': 0, 'oznamy': 0, 'studium': 0, 'uvod': 0, 'All': 0}, ignore_index=True)\n",
        "\n",
        "# Add PO crosstable into dict\n",
        "dfDict['PO'] = crosstable"
      ],
      "execution_count": null,
      "outputs": []
    },
    {
      "cell_type": "markdown",
      "metadata": {
        "id": "kju7PnWt66VJ"
      },
      "source": [
        "*Crosstable - UT*"
      ]
    },
    {
      "cell_type": "code",
      "metadata": {
        "id": "qDha2Jz669rL"
      },
      "source": [
        "df1 = df[(df['UT'] == 1)]\n",
        "crosstable = pd.crosstab(df1['HODINA'], df1['KATEGORIA'], values=df1['UT'], margins=True, \n",
        "                 dropna=False, aggfunc='count').reset_index().fillna(0)\n",
        "\n",
        "# Add missing line   \n",
        "crosstable = crosstable.append({'HODINA': 19, 'o_fakulte': 0, 'oznamy': 0, 'studium': 0, 'uvod': 0, 'All': 0}, ignore_index=True)\n",
        "crosstable = crosstable.append({'HODINA': 20, 'o_fakulte': 0, 'oznamy': 0, 'studium': 0, 'uvod': 0, 'All': 0}, ignore_index=True)\n",
        "crosstable = crosstable.append({'HODINA': 21, 'o_fakulte': 0, 'oznamy': 0, 'studium': 0, 'uvod': 0, 'All': 0}, ignore_index=True)\n",
        "crosstable = crosstable.append({'HODINA': 22, 'o_fakulte': 0, 'oznamy': 0, 'studium': 0, 'uvod': 0, 'All': 0}, ignore_index=True)\n",
        "\n",
        "# Add UT crosstable into dict\n",
        "dfDict['UT'] = crosstable"
      ],
      "execution_count": null,
      "outputs": []
    },
    {
      "cell_type": "markdown",
      "metadata": {
        "id": "0DO9m2R37lK-"
      },
      "source": [
        "*Crosstable - STR*"
      ]
    },
    {
      "cell_type": "code",
      "metadata": {
        "id": "Td5vSqBN7iKV"
      },
      "source": [
        "df1 = df[(df['STR'] == 1)]\n",
        "crosstable = pd.crosstab(df1['HODINA'], df1['KATEGORIA'], values=df1['STR'], margins=True, \n",
        "                 dropna=False, aggfunc='count').reset_index().fillna(0)\n",
        "\n",
        "# Add missing line   \n",
        "crosstable = crosstable.append({'HODINA': 17, 'o_fakulte': 0, 'oznamy': 0, 'studium': 0, 'uvod': 0, 'All': 0}, ignore_index=True)\n",
        "crosstable = crosstable.append({'HODINA': 20, 'o_fakulte': 0, 'oznamy': 0, 'studium': 0, 'uvod': 0, 'All': 0}, ignore_index=True)\n",
        "crosstable = crosstable.append({'HODINA': 21, 'o_fakulte': 0, 'oznamy': 0, 'studium': 0, 'uvod': 0, 'All': 0}, ignore_index=True)\n",
        "crosstable = crosstable.append({'HODINA': 22, 'o_fakulte': 0, 'oznamy': 0, 'studium': 0, 'uvod': 0, 'All': 0}, ignore_index=True)\n",
        "\n",
        "# Add STR crosstable into dict\n",
        "dfDict['STR'] = crosstable"
      ],
      "execution_count": null,
      "outputs": []
    },
    {
      "cell_type": "markdown",
      "metadata": {
        "id": "Qb6c4XMx8BaF"
      },
      "source": [
        "*Crosstable - STVR*"
      ]
    },
    {
      "cell_type": "code",
      "metadata": {
        "id": "Hv1mXSOs74u6"
      },
      "source": [
        "df1 = df[(df['STVR'] == 1)]\n",
        "crosstable = pd.crosstab(df1['HODINA'], df1['KATEGORIA'], values=df1['STVR'], margins=True, \n",
        "                 dropna=False, aggfunc='count').reset_index().fillna(0)\n",
        "\n",
        "# Add missing lines\n",
        "crosstable = crosstable.append({'HODINA': 18, 'o_fakulte': 0, 'oznamy': 0, 'studium': 0, 'uvod': 0, 'All': 0}, ignore_index=True)\n",
        "crosstable = crosstable.append({'HODINA': 19, 'o_fakulte': 0, 'oznamy': 0, 'studium': 0, 'uvod': 0, 'All': 0}, ignore_index=True)\n",
        "crosstable = crosstable.append({'HODINA': 20, 'o_fakulte': 0, 'oznamy': 0, 'studium': 0, 'uvod': 0, 'All': 0}, ignore_index=True)\n",
        "crosstable = crosstable.append({'HODINA': 21, 'o_fakulte': 0, 'oznamy': 0, 'studium': 0, 'uvod': 0, 'All': 0}, ignore_index=True)\n",
        "crosstable = crosstable.append({'HODINA': 22, 'o_fakulte': 0, 'oznamy': 0, 'studium': 0, 'uvod': 0, 'All': 0}, ignore_index=True)\n",
        "\n",
        "# Add STVR crosstable into dict\n",
        "dfDict['STVR'] = crosstable"
      ],
      "execution_count": null,
      "outputs": []
    },
    {
      "cell_type": "markdown",
      "metadata": {
        "id": "hsSu7KzCW4oG"
      },
      "source": [
        "*Crosstable - PIA*"
      ]
    },
    {
      "cell_type": "code",
      "metadata": {
        "id": "lfAng8AJWrWs"
      },
      "source": [
        "df1 = df[(df['PIA'] == 1)]\n",
        "crosstable = pd.crosstab(df1['HODINA'], df1['KATEGORIA'], values=df1['PIA'], margins=True, \n",
        "                 dropna=False, aggfunc='count').reset_index().fillna(0)\n",
        "\n",
        "# Add missing lines\n",
        "crosstable = crosstable.append({'HODINA': 16, 'o_fakulte': 0, 'oznamy': 0, 'studium': 0, 'uvod': 0, 'All': 0}, ignore_index=True)\n",
        "crosstable = crosstable.append({'HODINA': 17, 'o_fakulte': 0, 'oznamy': 0, 'studium': 0, 'uvod': 0, 'All': 0}, ignore_index=True)\n",
        "crosstable = crosstable.append({'HODINA': 18, 'o_fakulte': 0, 'oznamy': 0, 'studium': 0, 'uvod': 0, 'All': 0}, ignore_index=True)\n",
        "crosstable = crosstable.append({'HODINA': 19, 'o_fakulte': 0, 'oznamy': 0, 'studium': 0, 'uvod': 0, 'All': 0}, ignore_index=True)\n",
        "crosstable = crosstable.append({'HODINA': 20, 'o_fakulte': 0, 'oznamy': 0, 'studium': 0, 'uvod': 0, 'All': 0}, ignore_index=True)\n",
        "crosstable = crosstable.append({'HODINA': 21, 'o_fakulte': 0, 'oznamy': 0, 'studium': 0, 'uvod': 0, 'All': 0}, ignore_index=True)\n",
        "crosstable = crosstable.append({'HODINA': 22, 'o_fakulte': 0, 'oznamy': 0, 'studium': 0, 'uvod': 0, 'All': 0}, ignore_index=True)\n",
        "\n",
        "# Add PIA crosstable into dict\n",
        "dfDict['PIA'] = crosstable"
      ],
      "execution_count": null,
      "outputs": []
    },
    {
      "cell_type": "markdown",
      "metadata": {
        "id": "NpYdkaOeBScX"
      },
      "source": [
        "3. Create collection of weekdays"
      ]
    },
    {
      "cell_type": "code",
      "metadata": {
        "id": "JV_92Z5EBPoY"
      },
      "source": [
        "days = ['PO', 'UT', 'STR', 'STVR', 'PIA']"
      ],
      "execution_count": null,
      "outputs": []
    },
    {
      "cell_type": "markdown",
      "metadata": {
        "id": "1aKyUcP1-Ytv"
      },
      "source": [
        "4. Calculate differences"
      ]
    },
    {
      "cell_type": "code",
      "metadata": {
        "colab": {
          "base_uri": "https://localhost:8080/",
          "height": 545
        },
        "id": "19rW_Mcq8j4V",
        "outputId": "e1131f13-e19a-4f10-a8a3-d91515fc384f"
      },
      "source": [
        "df1 = pd.DataFrame()\n",
        "df2 = pd.DataFrame()\n",
        "df3 = pd.DataFrame()\n",
        "df4 = pd.DataFrame()\n",
        "index = 0\n",
        "\n",
        "# Cycle through hours from 7 to 23\n",
        "for x in range (7,23):\n",
        "      new_row_uvod = {}\n",
        "      new_row_studium = {}\n",
        "      new_row_oznamy = {}\n",
        "      new_row_fakulte = {}\n",
        "      i = 1\n",
        "\n",
        "      # Cycle through weekdays\n",
        "      for day in days:\n",
        "\n",
        "         # Get current crosstable\n",
        "        crosstable = dfDict[day]\n",
        "        crosstable = crosstable[(crosstable['HODINA'] == x)]\n",
        "        crosstable_all = crosstable.iloc[0]['All']\n",
        "\n",
        "        # Empirical relative abundance\n",
        "        if(crosstable_all == 0):\n",
        "          dij_uvod = 0\n",
        "          dij_studium = 0\n",
        "          dij_oznamy = 0\n",
        "          dij_fakulte = 0\n",
        "        else:\n",
        "          dij_uvod = crosstable.iloc[0]['uvod'] / crosstable_all\n",
        "          dij_studium = crosstable.iloc[0]['studium'] / crosstable_all\n",
        "          dij_oznamy = crosstable.iloc[0]['oznamy'] / crosstable_all\n",
        "          dij_fakulte = crosstable.iloc[0]['o_fakulte'] / crosstable_all\n",
        "\n",
        "        den = str(i) + '_' + day\n",
        "\n",
        "        new_row_uvod.update({den: dij_uvod})\n",
        "        new_row_studium.update({den: dij_studium})\n",
        "        new_row_oznamy.update({den: dij_oznamy})\n",
        "        new_row_fakulte.update({den: dij_fakulte})\n",
        "        i = i + 1\n",
        "      \n",
        "       # Append time and ext to rows\n",
        "      new_row_uvod.update({'0_hod': x})\n",
        "      new_row_studium.update({'0_hod': x})\n",
        "      new_row_oznamy.update({'0_hod': x})\n",
        "      new_row_fakulte.update({'0_hod': x})\n",
        "\n",
        "      # Update dataframes\n",
        "      df1 = df1.append(new_row_uvod, sort=False, ignore_index=True)\n",
        "      df2 = df2.append(new_row_studium, sort=False, ignore_index=True)\n",
        "      df3 = df3.append(new_row_oznamy, sort=False, ignore_index=True)\n",
        "      df4 = df4.append(new_row_fakulte, sort=False, ignore_index=True)\n",
        "\n",
        "df1.head()"
      ],
      "execution_count": null,
      "outputs": [
        {
          "output_type": "execute_result",
          "data": {
            "text/html": [
              "<div>\n",
              "<style scoped>\n",
              "    .dataframe tbody tr th:only-of-type {\n",
              "        vertical-align: middle;\n",
              "    }\n",
              "\n",
              "    .dataframe tbody tr th {\n",
              "        vertical-align: top;\n",
              "    }\n",
              "\n",
              "    .dataframe thead th {\n",
              "        text-align: right;\n",
              "    }\n",
              "</style>\n",
              "<table border=\"1\" class=\"dataframe\">\n",
              "  <thead>\n",
              "    <tr style=\"text-align: right;\">\n",
              "      <th></th>\n",
              "      <th>0_hod</th>\n",
              "      <th>1_PO</th>\n",
              "      <th>2_UT</th>\n",
              "      <th>3_STR</th>\n",
              "      <th>4_STVR</th>\n",
              "      <th>5_PIA</th>\n",
              "    </tr>\n",
              "  </thead>\n",
              "  <tbody>\n",
              "    <tr>\n",
              "      <th>0</th>\n",
              "      <td>7.0</td>\n",
              "      <td>1.000000</td>\n",
              "      <td>0.800000</td>\n",
              "      <td>0.833333</td>\n",
              "      <td>0.500000</td>\n",
              "      <td>0.857143</td>\n",
              "    </tr>\n",
              "    <tr>\n",
              "      <th>1</th>\n",
              "      <td>8.0</td>\n",
              "      <td>0.622222</td>\n",
              "      <td>0.675676</td>\n",
              "      <td>0.348837</td>\n",
              "      <td>0.272727</td>\n",
              "      <td>0.875000</td>\n",
              "    </tr>\n",
              "    <tr>\n",
              "      <th>2</th>\n",
              "      <td>9.0</td>\n",
              "      <td>0.543478</td>\n",
              "      <td>0.197605</td>\n",
              "      <td>0.303571</td>\n",
              "      <td>0.225806</td>\n",
              "      <td>0.419355</td>\n",
              "    </tr>\n",
              "    <tr>\n",
              "      <th>3</th>\n",
              "      <td>10.0</td>\n",
              "      <td>0.629032</td>\n",
              "      <td>0.600000</td>\n",
              "      <td>0.408163</td>\n",
              "      <td>0.309524</td>\n",
              "      <td>0.387755</td>\n",
              "    </tr>\n",
              "    <tr>\n",
              "      <th>4</th>\n",
              "      <td>11.0</td>\n",
              "      <td>0.435897</td>\n",
              "      <td>0.294118</td>\n",
              "      <td>0.333333</td>\n",
              "      <td>0.350000</td>\n",
              "      <td>0.647059</td>\n",
              "    </tr>\n",
              "    <tr>\n",
              "      <th>5</th>\n",
              "      <td>12.0</td>\n",
              "      <td>0.632353</td>\n",
              "      <td>0.404255</td>\n",
              "      <td>0.388060</td>\n",
              "      <td>0.192982</td>\n",
              "      <td>0.727273</td>\n",
              "    </tr>\n",
              "    <tr>\n",
              "      <th>6</th>\n",
              "      <td>13.0</td>\n",
              "      <td>0.122222</td>\n",
              "      <td>0.653846</td>\n",
              "      <td>0.346939</td>\n",
              "      <td>0.434783</td>\n",
              "      <td>0.441860</td>\n",
              "    </tr>\n",
              "    <tr>\n",
              "      <th>7</th>\n",
              "      <td>14.0</td>\n",
              "      <td>0.366667</td>\n",
              "      <td>0.638889</td>\n",
              "      <td>0.400000</td>\n",
              "      <td>0.422222</td>\n",
              "      <td>0.687500</td>\n",
              "    </tr>\n",
              "    <tr>\n",
              "      <th>8</th>\n",
              "      <td>15.0</td>\n",
              "      <td>0.766667</td>\n",
              "      <td>0.157895</td>\n",
              "      <td>0.518519</td>\n",
              "      <td>0.333333</td>\n",
              "      <td>1.000000</td>\n",
              "    </tr>\n",
              "    <tr>\n",
              "      <th>9</th>\n",
              "      <td>16.0</td>\n",
              "      <td>0.571429</td>\n",
              "      <td>1.000000</td>\n",
              "      <td>0.125000</td>\n",
              "      <td>1.000000</td>\n",
              "      <td>0.000000</td>\n",
              "    </tr>\n",
              "    <tr>\n",
              "      <th>10</th>\n",
              "      <td>17.0</td>\n",
              "      <td>1.000000</td>\n",
              "      <td>0.470588</td>\n",
              "      <td>0.000000</td>\n",
              "      <td>1.000000</td>\n",
              "      <td>0.000000</td>\n",
              "    </tr>\n",
              "    <tr>\n",
              "      <th>11</th>\n",
              "      <td>18.0</td>\n",
              "      <td>0.000000</td>\n",
              "      <td>1.000000</td>\n",
              "      <td>0.600000</td>\n",
              "      <td>0.000000</td>\n",
              "      <td>0.000000</td>\n",
              "    </tr>\n",
              "    <tr>\n",
              "      <th>12</th>\n",
              "      <td>19.0</td>\n",
              "      <td>0.000000</td>\n",
              "      <td>0.000000</td>\n",
              "      <td>1.000000</td>\n",
              "      <td>0.000000</td>\n",
              "      <td>0.000000</td>\n",
              "    </tr>\n",
              "    <tr>\n",
              "      <th>13</th>\n",
              "      <td>20.0</td>\n",
              "      <td>0.000000</td>\n",
              "      <td>0.000000</td>\n",
              "      <td>0.000000</td>\n",
              "      <td>0.000000</td>\n",
              "      <td>0.000000</td>\n",
              "    </tr>\n",
              "    <tr>\n",
              "      <th>14</th>\n",
              "      <td>21.0</td>\n",
              "      <td>0.875000</td>\n",
              "      <td>0.000000</td>\n",
              "      <td>0.000000</td>\n",
              "      <td>0.000000</td>\n",
              "      <td>0.000000</td>\n",
              "    </tr>\n",
              "    <tr>\n",
              "      <th>15</th>\n",
              "      <td>22.0</td>\n",
              "      <td>1.000000</td>\n",
              "      <td>0.000000</td>\n",
              "      <td>0.000000</td>\n",
              "      <td>0.000000</td>\n",
              "      <td>0.000000</td>\n",
              "    </tr>\n",
              "  </tbody>\n",
              "</table>\n",
              "</div>"
            ],
            "text/plain": [
              "    0_hod      1_PO      2_UT     3_STR    4_STVR     5_PIA\n",
              "0     7.0  1.000000  0.800000  0.833333  0.500000  0.857143\n",
              "1     8.0  0.622222  0.675676  0.348837  0.272727  0.875000\n",
              "2     9.0  0.543478  0.197605  0.303571  0.225806  0.419355\n",
              "3    10.0  0.629032  0.600000  0.408163  0.309524  0.387755\n",
              "4    11.0  0.435897  0.294118  0.333333  0.350000  0.647059\n",
              "5    12.0  0.632353  0.404255  0.388060  0.192982  0.727273\n",
              "6    13.0  0.122222  0.653846  0.346939  0.434783  0.441860\n",
              "7    14.0  0.366667  0.638889  0.400000  0.422222  0.687500\n",
              "8    15.0  0.766667  0.157895  0.518519  0.333333  1.000000\n",
              "9    16.0  0.571429  1.000000  0.125000  1.000000  0.000000\n",
              "10   17.0  1.000000  0.470588  0.000000  1.000000  0.000000\n",
              "11   18.0  0.000000  1.000000  0.600000  0.000000  0.000000\n",
              "12   19.0  0.000000  0.000000  1.000000  0.000000  0.000000\n",
              "13   20.0  0.000000  0.000000  0.000000  0.000000  0.000000\n",
              "14   21.0  0.875000  0.000000  0.000000  0.000000  0.000000\n",
              "15   22.0  1.000000  0.000000  0.000000  0.000000  0.000000"
            ]
          },
          "metadata": {},
          "execution_count": 20
        }
      ]
    },
    {
      "cell_type": "code",
      "metadata": {
        "id": "zgeexuGgjKpm"
      },
      "source": [
        "# Creating Excel Writer Object from Pandas  \n",
        "writer = pd.ExcelWriter('ZAM_evaluation_model_III.xlsx',engine='xlsxwriter')   \n",
        "workbook=writer.book\n",
        "worksheet=workbook.add_worksheet('ZAM')\n",
        "writer.sheets['ZAM'] = worksheet\n",
        "\n",
        "# Úvod\n",
        "worksheet.write(0, 0, \"Úvod\")\n",
        "df1.to_excel(writer, sheet_name='ZAM',startrow=1 , startcol=0, index=False)\n",
        "\n",
        "# Śtúdium\n",
        "worksheet.write(0, 7, \"Štúdium\")\n",
        "df2.to_excel(writer, sheet_name='ZAM',startrow=1 , startcol=7, index=False)\n",
        "\n",
        "# Oznamy\n",
        "worksheet.write(0, 14, \"Oznamy\")\n",
        "df3.to_excel(writer, sheet_name='ZAM',startrow=1 , startcol=14, index=False)\n",
        "\n",
        "# O fakulte\n",
        "worksheet.write(0, 21, \"O fakulte\")\n",
        "df4.to_excel(writer, sheet_name='ZAM',startrow=1 , startcol=21, index=False)\n",
        "writer.save()"
      ],
      "execution_count": null,
      "outputs": []
    }
  ]
}