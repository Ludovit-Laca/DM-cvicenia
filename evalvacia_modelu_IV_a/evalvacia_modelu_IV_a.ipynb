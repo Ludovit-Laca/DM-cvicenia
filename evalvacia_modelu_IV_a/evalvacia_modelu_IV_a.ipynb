{
  "nbformat": 4,
  "nbformat_minor": 0,
  "metadata": {
    "colab": {
      "name": "evalvacia_modelu_IV_a.ipynb",
      "provenance": [],
      "collapsed_sections": []
    },
    "kernelspec": {
      "name": "python3",
      "display_name": "Python 3"
    },
    "language_info": {
      "name": "python"
    }
  },
  "cells": [
    {
      "cell_type": "markdown",
      "metadata": {
        "id": "W1McFcDOVx-a"
      },
      "source": [
        "0. Imports"
      ]
    },
    {
      "cell_type": "code",
      "metadata": {
        "id": "SpFE0ICxUZjy"
      },
      "source": [
        "import pandas as pd\n",
        "import numpy as np\n",
        "from scipy import stats # statistika"
      ],
      "execution_count": null,
      "outputs": []
    },
    {
      "cell_type": "markdown",
      "metadata": {
        "id": "aak6N4H2V7Pl"
      },
      "source": [
        "1. Load CSV"
      ]
    },
    {
      "cell_type": "code",
      "metadata": {
        "id": "379xB7tYV6G8"
      },
      "source": [
        "# change to your file location\n",
        "df = pd.read_csv('/content/drive/MyDrive/Škola/DM/evalvacia_modelu_IV_a/MLM_vstup.csv', ';', usecols=range(0,13))\n",
        "df_stats = pd.read_csv('/content/drive/MyDrive/Škola/DM/evalvacia_modelu_IV_a/MLM_STUD_stats.csv', ';', usecols=range(0,10))\n",
        "\n",
        "# fiter for students\n",
        "df = df[(df['HODINA'] > 6) & (df['HODINA'] <= 22) & (df['STUD'] == 1) & (df['KATEGORIA'].isin(['uvod', 'studium', 'o_fakulte', 'oznamy']))]\n",
        "\n",
        "# empty dict to save created crosstables\n",
        "dfDict = {}"
      ],
      "execution_count": null,
      "outputs": []
    },
    {
      "cell_type": "markdown",
      "metadata": {
        "id": "EiwuILL53Wq7"
      },
      "source": [
        "2. Create crosstables\n",
        "\n",
        "*Crosstable - PO*"
      ]
    },
    {
      "cell_type": "code",
      "metadata": {
        "id": "CsH6GQb625eL",
        "colab": {
          "base_uri": "https://localhost:8080/",
          "height": 566
        },
        "outputId": "47a93e66-8d88-46d8-cb4c-56b8268953e8"
      },
      "source": [
        "df1 = df[(df['PO'] == 1)]\n",
        "crosstable = pd.crosstab(df1['HODINA'], df1['KATEGORIA'], values=df1['PO'], margins=True, \n",
        "                 dropna=False, aggfunc='count').reset_index().fillna(0)\n",
        "\n",
        "# Add missing line\n",
        "crosstable = crosstable.append({'HODINA': 7, 'o_fakulte': 0, 'oznamy': 0, 'studium': 0, 'uvod': 0, 'All': 0}, ignore_index=True)\n",
        "\n",
        "# Add PO crosstable into dict\n",
        "dfDict['PO'] = crosstable\n",
        "crosstable"
      ],
      "execution_count": null,
      "outputs": [
        {
          "output_type": "execute_result",
          "data": {
            "text/html": [
              "<div>\n",
              "<style scoped>\n",
              "    .dataframe tbody tr th:only-of-type {\n",
              "        vertical-align: middle;\n",
              "    }\n",
              "\n",
              "    .dataframe tbody tr th {\n",
              "        vertical-align: top;\n",
              "    }\n",
              "\n",
              "    .dataframe thead th {\n",
              "        text-align: right;\n",
              "    }\n",
              "</style>\n",
              "<table border=\"1\" class=\"dataframe\">\n",
              "  <thead>\n",
              "    <tr style=\"text-align: right;\">\n",
              "      <th>KATEGORIA</th>\n",
              "      <th>HODINA</th>\n",
              "      <th>o_fakulte</th>\n",
              "      <th>oznamy</th>\n",
              "      <th>studium</th>\n",
              "      <th>uvod</th>\n",
              "      <th>All</th>\n",
              "    </tr>\n",
              "  </thead>\n",
              "  <tbody>\n",
              "    <tr>\n",
              "      <th>0</th>\n",
              "      <td>8</td>\n",
              "      <td>3.0</td>\n",
              "      <td>0.0</td>\n",
              "      <td>3.0</td>\n",
              "      <td>13.0</td>\n",
              "      <td>19</td>\n",
              "    </tr>\n",
              "    <tr>\n",
              "      <th>1</th>\n",
              "      <td>9</td>\n",
              "      <td>3.0</td>\n",
              "      <td>15.0</td>\n",
              "      <td>8.0</td>\n",
              "      <td>61.0</td>\n",
              "      <td>87</td>\n",
              "    </tr>\n",
              "    <tr>\n",
              "      <th>2</th>\n",
              "      <td>10</td>\n",
              "      <td>5.0</td>\n",
              "      <td>12.0</td>\n",
              "      <td>16.0</td>\n",
              "      <td>59.0</td>\n",
              "      <td>92</td>\n",
              "    </tr>\n",
              "    <tr>\n",
              "      <th>3</th>\n",
              "      <td>11</td>\n",
              "      <td>0.0</td>\n",
              "      <td>9.0</td>\n",
              "      <td>14.0</td>\n",
              "      <td>69.0</td>\n",
              "      <td>92</td>\n",
              "    </tr>\n",
              "    <tr>\n",
              "      <th>4</th>\n",
              "      <td>12</td>\n",
              "      <td>19.0</td>\n",
              "      <td>11.0</td>\n",
              "      <td>5.0</td>\n",
              "      <td>74.0</td>\n",
              "      <td>109</td>\n",
              "    </tr>\n",
              "    <tr>\n",
              "      <th>5</th>\n",
              "      <td>13</td>\n",
              "      <td>8.0</td>\n",
              "      <td>4.0</td>\n",
              "      <td>6.0</td>\n",
              "      <td>67.0</td>\n",
              "      <td>85</td>\n",
              "    </tr>\n",
              "    <tr>\n",
              "      <th>6</th>\n",
              "      <td>14</td>\n",
              "      <td>2.0</td>\n",
              "      <td>5.0</td>\n",
              "      <td>27.0</td>\n",
              "      <td>90.0</td>\n",
              "      <td>124</td>\n",
              "    </tr>\n",
              "    <tr>\n",
              "      <th>7</th>\n",
              "      <td>15</td>\n",
              "      <td>3.0</td>\n",
              "      <td>7.0</td>\n",
              "      <td>110.0</td>\n",
              "      <td>53.0</td>\n",
              "      <td>173</td>\n",
              "    </tr>\n",
              "    <tr>\n",
              "      <th>8</th>\n",
              "      <td>16</td>\n",
              "      <td>1.0</td>\n",
              "      <td>1.0</td>\n",
              "      <td>13.0</td>\n",
              "      <td>9.0</td>\n",
              "      <td>24</td>\n",
              "    </tr>\n",
              "    <tr>\n",
              "      <th>9</th>\n",
              "      <td>17</td>\n",
              "      <td>0.0</td>\n",
              "      <td>3.0</td>\n",
              "      <td>7.0</td>\n",
              "      <td>6.0</td>\n",
              "      <td>16</td>\n",
              "    </tr>\n",
              "    <tr>\n",
              "      <th>10</th>\n",
              "      <td>18</td>\n",
              "      <td>6.0</td>\n",
              "      <td>4.0</td>\n",
              "      <td>19.0</td>\n",
              "      <td>10.0</td>\n",
              "      <td>39</td>\n",
              "    </tr>\n",
              "    <tr>\n",
              "      <th>11</th>\n",
              "      <td>19</td>\n",
              "      <td>2.0</td>\n",
              "      <td>3.0</td>\n",
              "      <td>22.0</td>\n",
              "      <td>12.0</td>\n",
              "      <td>39</td>\n",
              "    </tr>\n",
              "    <tr>\n",
              "      <th>12</th>\n",
              "      <td>20</td>\n",
              "      <td>1.0</td>\n",
              "      <td>5.0</td>\n",
              "      <td>33.0</td>\n",
              "      <td>15.0</td>\n",
              "      <td>54</td>\n",
              "    </tr>\n",
              "    <tr>\n",
              "      <th>13</th>\n",
              "      <td>21</td>\n",
              "      <td>0.0</td>\n",
              "      <td>1.0</td>\n",
              "      <td>19.0</td>\n",
              "      <td>9.0</td>\n",
              "      <td>29</td>\n",
              "    </tr>\n",
              "    <tr>\n",
              "      <th>14</th>\n",
              "      <td>22</td>\n",
              "      <td>0.0</td>\n",
              "      <td>1.0</td>\n",
              "      <td>8.0</td>\n",
              "      <td>2.0</td>\n",
              "      <td>11</td>\n",
              "    </tr>\n",
              "    <tr>\n",
              "      <th>15</th>\n",
              "      <td>All</td>\n",
              "      <td>53.0</td>\n",
              "      <td>81.0</td>\n",
              "      <td>310.0</td>\n",
              "      <td>549.0</td>\n",
              "      <td>993</td>\n",
              "    </tr>\n",
              "    <tr>\n",
              "      <th>16</th>\n",
              "      <td>7</td>\n",
              "      <td>0.0</td>\n",
              "      <td>0.0</td>\n",
              "      <td>0.0</td>\n",
              "      <td>0.0</td>\n",
              "      <td>0</td>\n",
              "    </tr>\n",
              "  </tbody>\n",
              "</table>\n",
              "</div>"
            ],
            "text/plain": [
              "KATEGORIA HODINA  o_fakulte  oznamy  studium   uvod  All\n",
              "0              8        3.0     0.0      3.0   13.0   19\n",
              "1              9        3.0    15.0      8.0   61.0   87\n",
              "2             10        5.0    12.0     16.0   59.0   92\n",
              "3             11        0.0     9.0     14.0   69.0   92\n",
              "4             12       19.0    11.0      5.0   74.0  109\n",
              "5             13        8.0     4.0      6.0   67.0   85\n",
              "6             14        2.0     5.0     27.0   90.0  124\n",
              "7             15        3.0     7.0    110.0   53.0  173\n",
              "8             16        1.0     1.0     13.0    9.0   24\n",
              "9             17        0.0     3.0      7.0    6.0   16\n",
              "10            18        6.0     4.0     19.0   10.0   39\n",
              "11            19        2.0     3.0     22.0   12.0   39\n",
              "12            20        1.0     5.0     33.0   15.0   54\n",
              "13            21        0.0     1.0     19.0    9.0   29\n",
              "14            22        0.0     1.0      8.0    2.0   11\n",
              "15           All       53.0    81.0    310.0  549.0  993\n",
              "16             7        0.0     0.0      0.0    0.0    0"
            ]
          },
          "metadata": {},
          "execution_count": 131
        }
      ]
    },
    {
      "cell_type": "markdown",
      "metadata": {
        "id": "kju7PnWt66VJ"
      },
      "source": [
        "*Crosstable - UT*"
      ]
    },
    {
      "cell_type": "code",
      "metadata": {
        "id": "qDha2Jz669rL"
      },
      "source": [
        "df1 = df[(df['UT'] == 1)]\n",
        "crosstable = pd.crosstab(df1['HODINA'], df1['KATEGORIA'], values=df1['UT'], margins=True, \n",
        "                 dropna=False, aggfunc='count').reset_index().fillna(0)\n",
        "\n",
        "# Add UT crosstable into dict\n",
        "dfDict['UT'] = crosstable"
      ],
      "execution_count": null,
      "outputs": []
    },
    {
      "cell_type": "markdown",
      "metadata": {
        "id": "0DO9m2R37lK-"
      },
      "source": [
        "*Crosstable - STR*"
      ]
    },
    {
      "cell_type": "code",
      "metadata": {
        "id": "Td5vSqBN7iKV"
      },
      "source": [
        "df1 = df[(df['STR'] == 1)]\n",
        "crosstable = pd.crosstab(df1['HODINA'], df1['KATEGORIA'], values=df1['STR'], margins=True, \n",
        "                 dropna=False, aggfunc='count').reset_index().fillna(0)\n",
        "\n",
        "# Add missing line   \n",
        "crosstable = crosstable.append({'HODINA': 22, 'o_fakulte': 0, 'oznamy': 0, 'studium': 0, 'uvod': 0, 'All': 0}, ignore_index=True)\n",
        "\n",
        "# Add STR crosstable into dict\n",
        "dfDict['STR'] = crosstable"
      ],
      "execution_count": null,
      "outputs": []
    },
    {
      "cell_type": "markdown",
      "metadata": {
        "id": "Qb6c4XMx8BaF"
      },
      "source": [
        "*Crosstable - STVR*"
      ]
    },
    {
      "cell_type": "code",
      "metadata": {
        "id": "Hv1mXSOs74u6"
      },
      "source": [
        "df1 = df[(df['STVR'] == 1)]\n",
        "crosstable = pd.crosstab(df1['HODINA'], df1['KATEGORIA'], values=df1['STVR'], margins=True, \n",
        "                 dropna=False, aggfunc='count').reset_index().fillna(0)\n",
        "\n",
        "# Add STVR crosstable into dict\n",
        "dfDict['STVR'] = crosstable"
      ],
      "execution_count": null,
      "outputs": []
    },
    {
      "cell_type": "markdown",
      "metadata": {
        "id": "hsSu7KzCW4oG"
      },
      "source": [
        "*Crosstable - PIA*"
      ]
    },
    {
      "cell_type": "code",
      "metadata": {
        "id": "lfAng8AJWrWs"
      },
      "source": [
        "df1 = df[(df['PIA'] == 1)]\n",
        "crosstable = pd.crosstab(df1['HODINA'], df1['KATEGORIA'], values=df1['PIA'], margins=True, \n",
        "                 dropna=False, aggfunc='count').reset_index().fillna(0)\n",
        "\n",
        "# Add missing lines\n",
        "crosstable = crosstable.append({'HODINA': 18, 'o_fakulte': 0, 'oznamy': 0, 'studium': 0, 'uvod': 0, 'All': 0}, ignore_index=True)\n",
        "crosstable = crosstable.append({'HODINA': 21, 'o_fakulte': 0, 'oznamy': 0, 'studium': 0, 'uvod': 0, 'All': 0}, ignore_index=True)\n",
        "\n",
        "# Add PIA crosstable into dict\n",
        "dfDict['PIA'] = crosstable"
      ],
      "execution_count": null,
      "outputs": []
    },
    {
      "cell_type": "markdown",
      "metadata": {
        "id": "K9IiF9Iw8NWm"
      },
      "source": [
        "*Crosstable - SO*"
      ]
    },
    {
      "cell_type": "code",
      "metadata": {
        "id": "1y3n92cbvBHF"
      },
      "source": [
        "df1 = df[(df['SO'] == 1)]\n",
        "crosstable = pd.crosstab(df1['HODINA'], df1['KATEGORIA'], values=df1['SO'], margins=True, \n",
        "                 dropna=False, aggfunc='count').reset_index().fillna(0)\n",
        "\n",
        "# Add missing lines\n",
        "crosstable = crosstable.append({'HODINA': 17, 'o_fakulte': 0, 'oznamy': 0, 'studium': 0, 'uvod': 0, 'All': 0}, ignore_index=True)\n",
        "crosstable = crosstable.append({'HODINA': 18, 'o_fakulte': 0, 'oznamy': 0, 'studium': 0, 'uvod': 0, 'All': 0}, ignore_index=True)\n",
        "crosstable = crosstable.append({'HODINA': 19, 'o_fakulte': 0, 'oznamy': 0, 'studium': 0, 'uvod': 0, 'All': 0}, ignore_index=True)\n",
        "crosstable = crosstable.append({'HODINA': 20, 'o_fakulte': 0, 'oznamy': 0, 'studium': 0, 'uvod': 0, 'All': 0}, ignore_index=True)\n",
        "\n",
        "# Add SO crosstable into dict\n",
        "dfDict['SO'] = crosstable"
      ],
      "execution_count": null,
      "outputs": []
    },
    {
      "cell_type": "markdown",
      "metadata": {
        "id": "NpYdkaOeBScX"
      },
      "source": [
        "3. Create collection of weekdays"
      ]
    },
    {
      "cell_type": "code",
      "metadata": {
        "id": "JV_92Z5EBPoY"
      },
      "source": [
        "days = ['PO', 'UT', 'STR', 'STVR', 'PIA', 'SO']"
      ],
      "execution_count": null,
      "outputs": []
    },
    {
      "cell_type": "markdown",
      "metadata": {
        "id": "1aKyUcP1-Ytv"
      },
      "source": [
        "4. Calculate differences"
      ]
    },
    {
      "cell_type": "code",
      "metadata": {
        "colab": {
          "base_uri": "https://localhost:8080/",
          "height": 201
        },
        "id": "19rW_Mcq8j4V",
        "outputId": "aebc2476-4430-4ad1-9152-92d3bd6f89ef"
      },
      "source": [
        "# Dataframes for empirical relative abundance\n",
        "df1 = pd.DataFrame()\n",
        "df2 = pd.DataFrame()\n",
        "df3 = pd.DataFrame()\n",
        "df4 = pd.DataFrame()\n",
        "\n",
        "# Dataframes estimates for web parts\n",
        "df1_estimate = pd.DataFrame()\n",
        "df2_estimate = pd.DataFrame()\n",
        "df3_estimate = pd.DataFrame()\n",
        "df4_estimate = pd.DataFrame()\n",
        "index = 0\n",
        "\n",
        "# Cycle through hours from 7 to 23\n",
        "for x in range (7,23):\n",
        "\n",
        "      # Rows for empirical relative abundance\n",
        "      new_row_uvod = {}\n",
        "      new_row_studium = {}\n",
        "      new_row_oznamy = {}\n",
        "      new_row_fakulte = {}\n",
        "\n",
        "      # Rows for estimations\n",
        "      new_row_uvod_estimate = {}\n",
        "      new_row_studium_estimate = {}\n",
        "      new_row_oznamy_estimate = {}\n",
        "      new_row_fakulte_estimate = {}\n",
        "      i = 1\n",
        "\n",
        "      # Cycle through weekdays\n",
        "      for day in days:\n",
        "\n",
        "        # Create logits estimates\n",
        "        logit_uvod = df_stats.at[index, 'Intercept'] + df_stats.at[index, 'HODINA']*x+df_stats.at[index, 'HODINA_STV']*(x*x)+df_stats.at[index, day]\n",
        "        logit_studium = df_stats.at[index+1, 'Intercept'] + df_stats.at[index+1, 'HODINA']*x+df_stats.at[index+1, 'HODINA_STV']*(x*x)+df_stats.at[index+1, day]\n",
        "        logit_oznamy = df_stats.at[index+2, 'Intercept'] + df_stats.at[index+2, 'HODINA']*x+df_stats.at[index+2, 'HODINA_STV']*(x*x)+df_stats.at[index+2, day]\n",
        "        \n",
        "        reference_web = 1 / (np.exp(logit_uvod) + np.exp(logit_studium) + np.exp(logit_oznamy))\n",
        "        \n",
        "        # Create estimates for web parts\n",
        "        estimate_uvod = np.exp(logit_uvod) * reference_web\n",
        "        estimate_studium = np.exp(logit_studium) * reference_web\n",
        "        estimate_oznamy = np.exp(logit_oznamy) * reference_web\n",
        "        estimate_fakulte = np.exp(reference_web) * reference_web\n",
        "\n",
        "        # Get current crosstable\n",
        "        crosstable = dfDict[day]\n",
        "        crosstable = crosstable[(crosstable['HODINA'] == x)]\n",
        "        crosstable_all = crosstable.iloc[0]['All']\n",
        "\n",
        "        # Empirical relative abundance\n",
        "        if(crosstable_all == 0):\n",
        "          dij_uvod = 0\n",
        "          dij_studium = 0\n",
        "          dij_oznamy = 0\n",
        "          dij_fakulte = 0\n",
        "        else:\n",
        "          dij_uvod = crosstable.iloc[0]['uvod'] / crosstable_all\n",
        "          dij_studium = crosstable.iloc[0]['studium'] / crosstable_all\n",
        "          dij_oznamy = crosstable.iloc[0]['oznamy'] / crosstable_all\n",
        "          dij_fakulte = crosstable.iloc[0]['o_fakulte'] / crosstable_all\n",
        "\n",
        "        den = str(i) + '_' + day\n",
        "\n",
        "        # Add data to new rows\n",
        "        # Empirical\n",
        "        new_row_uvod.update({den: dij_uvod})\n",
        "        new_row_studium.update({den: dij_studium})\n",
        "        new_row_oznamy.update({den: dij_oznamy})\n",
        "        new_row_fakulte.update({den: dij_fakulte})\n",
        "\n",
        "        # Estimations\n",
        "        new_row_uvod_estimate.update({den: estimate_uvod})\n",
        "        new_row_studium_estimate.update({den: estimate_studium})\n",
        "        new_row_oznamy_estimate.update({den: estimate_oznamy})\n",
        "        new_row_fakulte_estimate.update({den: estimate_fakulte})\n",
        "        i = i + 1\n",
        "      \n",
        "       # Append time and ext to rows\n",
        "      new_row_uvod.update({'0_hod': x})\n",
        "      new_row_studium.update({'0_hod': x})\n",
        "      new_row_oznamy.update({'0_hod': x})\n",
        "      new_row_fakulte.update({'0_hod': x})\n",
        "      new_row_uvod_estimate.update({'0_hod': x})\n",
        "      new_row_studium_estimate.update({'0_hod': x})\n",
        "      new_row_oznamy_estimate.update({'0_hod': x})\n",
        "      new_row_fakulte_estimate.update({'0_hod': x})\n",
        "\n",
        "      # Update dataframes\n",
        "      df1 = df1.append(new_row_uvod, sort=False, ignore_index=True)\n",
        "      df2 = df2.append(new_row_studium, sort=False, ignore_index=True)\n",
        "      df3 = df3.append(new_row_oznamy, sort=False, ignore_index=True)\n",
        "      df4 = df4.append(new_row_fakulte, sort=False, ignore_index=True)\n",
        "\n",
        "      df1_estimate = df1_estimate.append(new_row_uvod_estimate, sort=False, ignore_index=True)\n",
        "      df2_estimate = df2_estimate.append(new_row_studium_estimate, sort=False, ignore_index=True)\n",
        "      df3_estimate = df3_estimate.append(new_row_oznamy_estimate, sort=False, ignore_index=True)\n",
        "      df4_estimate = df4_estimate.append(new_row_fakulte_estimate, sort=False, ignore_index=True)\n",
        "\n",
        "df1.head()"
      ],
      "execution_count": null,
      "outputs": [
        {
          "output_type": "execute_result",
          "data": {
            "text/html": [
              "<div>\n",
              "<style scoped>\n",
              "    .dataframe tbody tr th:only-of-type {\n",
              "        vertical-align: middle;\n",
              "    }\n",
              "\n",
              "    .dataframe tbody tr th {\n",
              "        vertical-align: top;\n",
              "    }\n",
              "\n",
              "    .dataframe thead th {\n",
              "        text-align: right;\n",
              "    }\n",
              "</style>\n",
              "<table border=\"1\" class=\"dataframe\">\n",
              "  <thead>\n",
              "    <tr style=\"text-align: right;\">\n",
              "      <th></th>\n",
              "      <th>0_hod</th>\n",
              "      <th>1_PO</th>\n",
              "      <th>2_UT</th>\n",
              "      <th>3_STR</th>\n",
              "      <th>4_STVR</th>\n",
              "      <th>5_PIA</th>\n",
              "      <th>6_SO</th>\n",
              "    </tr>\n",
              "  </thead>\n",
              "  <tbody>\n",
              "    <tr>\n",
              "      <th>0</th>\n",
              "      <td>7.0</td>\n",
              "      <td>0.000000</td>\n",
              "      <td>0.600000</td>\n",
              "      <td>0.878788</td>\n",
              "      <td>1.000000</td>\n",
              "      <td>1.000000</td>\n",
              "      <td>0.636364</td>\n",
              "    </tr>\n",
              "    <tr>\n",
              "      <th>1</th>\n",
              "      <td>8.0</td>\n",
              "      <td>0.684211</td>\n",
              "      <td>0.333333</td>\n",
              "      <td>0.782609</td>\n",
              "      <td>0.750000</td>\n",
              "      <td>1.000000</td>\n",
              "      <td>0.888889</td>\n",
              "    </tr>\n",
              "    <tr>\n",
              "      <th>2</th>\n",
              "      <td>9.0</td>\n",
              "      <td>0.701149</td>\n",
              "      <td>0.946667</td>\n",
              "      <td>0.733333</td>\n",
              "      <td>0.645833</td>\n",
              "      <td>0.955056</td>\n",
              "      <td>0.933333</td>\n",
              "    </tr>\n",
              "    <tr>\n",
              "      <th>3</th>\n",
              "      <td>10.0</td>\n",
              "      <td>0.641304</td>\n",
              "      <td>0.633333</td>\n",
              "      <td>0.750000</td>\n",
              "      <td>0.478261</td>\n",
              "      <td>0.909091</td>\n",
              "      <td>1.000000</td>\n",
              "    </tr>\n",
              "    <tr>\n",
              "      <th>4</th>\n",
              "      <td>11.0</td>\n",
              "      <td>0.750000</td>\n",
              "      <td>0.537037</td>\n",
              "      <td>0.853333</td>\n",
              "      <td>0.210526</td>\n",
              "      <td>0.875000</td>\n",
              "      <td>0.972603</td>\n",
              "    </tr>\n",
              "  </tbody>\n",
              "</table>\n",
              "</div>"
            ],
            "text/plain": [
              "   0_hod      1_PO      2_UT     3_STR    4_STVR     5_PIA      6_SO\n",
              "0    7.0  0.000000  0.600000  0.878788  1.000000  1.000000  0.636364\n",
              "1    8.0  0.684211  0.333333  0.782609  0.750000  1.000000  0.888889\n",
              "2    9.0  0.701149  0.946667  0.733333  0.645833  0.955056  0.933333\n",
              "3   10.0  0.641304  0.633333  0.750000  0.478261  0.909091  1.000000\n",
              "4   11.0  0.750000  0.537037  0.853333  0.210526  0.875000  0.972603"
            ]
          },
          "metadata": {},
          "execution_count": 138
        }
      ]
    },
    {
      "cell_type": "markdown",
      "metadata": {
        "id": "7vVvXarJqW39"
      },
      "source": [
        "5. Create collection of weekdays with numbers"
      ]
    },
    {
      "cell_type": "code",
      "metadata": {
        "id": "K_M6RPD7qWPF"
      },
      "source": [
        "days = ['1_PO', '2_UT', '3_STR', '4_STVR', '5_PIA', '6_SO']"
      ],
      "execution_count": null,
      "outputs": []
    },
    {
      "cell_type": "markdown",
      "metadata": {
        "id": "W8Fpv4-Vo6De"
      },
      "source": [
        "6. Print WilcoxonResult for: *Uvod*"
      ]
    },
    {
      "cell_type": "code",
      "metadata": {
        "colab": {
          "base_uri": "https://localhost:8080/"
        },
        "id": "uyjMHEdypNxV",
        "outputId": "c1a14e8a-cb5e-4c32-a9e1-f895931f30f2"
      },
      "source": [
        "for day in days:\n",
        "  print(stats.wilcoxon(df1[day], df1_estimate[day]))"
      ],
      "execution_count": null,
      "outputs": [
        {
          "output_type": "stream",
          "name": "stdout",
          "text": [
            "WilcoxonResult(statistic=54.0, pvalue=0.46911315243545415)\n",
            "WilcoxonResult(statistic=62.0, pvalue=0.7563688628810696)\n",
            "WilcoxonResult(statistic=66.0, pvalue=0.9176315934670087)\n",
            "WilcoxonResult(statistic=52.0, pvalue=0.40804420568711997)\n",
            "WilcoxonResult(statistic=62.0, pvalue=0.7563688628810696)\n",
            "WilcoxonResult(statistic=24.0, pvalue=0.022894784183124583)\n"
          ]
        }
      ]
    },
    {
      "cell_type": "markdown",
      "metadata": {
        "id": "O21Wyk5YrHSn"
      },
      "source": [
        "7. Print WilcoxonResult for: *Studium*"
      ]
    },
    {
      "cell_type": "code",
      "metadata": {
        "colab": {
          "base_uri": "https://localhost:8080/"
        },
        "id": "piFMXl75rLey",
        "outputId": "4a35189b-2fa2-47f3-9f0e-41b045907733"
      },
      "source": [
        "for day in days:\n",
        "  print(stats.wilcoxon(df2[day], df2_estimate[day]))"
      ],
      "execution_count": null,
      "outputs": [
        {
          "output_type": "stream",
          "name": "stdout",
          "text": [
            "WilcoxonResult(statistic=35.0, pvalue=0.08793560714236243)\n",
            "WilcoxonResult(statistic=48.0, pvalue=0.3010541816225988)\n",
            "WilcoxonResult(statistic=55.0, pvalue=0.5014474714870738)\n",
            "WilcoxonResult(statistic=60.0, pvalue=0.6791156892928161)\n",
            "WilcoxonResult(statistic=24.0, pvalue=0.022894784183124583)\n",
            "WilcoxonResult(statistic=24.0, pvalue=0.022894784183124583)\n"
          ]
        }
      ]
    },
    {
      "cell_type": "markdown",
      "metadata": {
        "id": "9uwyIEkqv1Ba"
      },
      "source": [
        "8. Print WilcoxonResult for: *Oznamy*"
      ]
    },
    {
      "cell_type": "code",
      "metadata": {
        "colab": {
          "base_uri": "https://localhost:8080/"
        },
        "id": "9lnpLKS3rPgB",
        "outputId": "828ee66d-e342-4a81-87cd-595b8a5c3921"
      },
      "source": [
        "for day in days:\n",
        "  print(stats.wilcoxon(df3[day], df3_estimate[day]))"
      ],
      "execution_count": null,
      "outputs": [
        {
          "output_type": "stream",
          "name": "stdout",
          "text": [
            "WilcoxonResult(statistic=46.0, pvalue=0.25529050519961505)\n",
            "WilcoxonResult(statistic=58.0, pvalue=0.6050949464540121)\n",
            "WilcoxonResult(statistic=28.0, pvalue=0.038607051842430073)\n",
            "WilcoxonResult(statistic=55.0, pvalue=0.5014474714870738)\n",
            "WilcoxonResult(statistic=16.0, pvalue=0.007169734292803208)\n",
            "WilcoxonResult(statistic=29.0, pvalue=0.04373288761671472)\n"
          ]
        }
      ]
    },
    {
      "cell_type": "markdown",
      "metadata": {
        "id": "Q3r6lK_xwNu1"
      },
      "source": [
        "9. Print WilcoxonResult for: *Fakulta*"
      ]
    },
    {
      "cell_type": "code",
      "metadata": {
        "colab": {
          "base_uri": "https://localhost:8080/"
        },
        "id": "AY0jk-_av9kr",
        "outputId": "c7b930dc-9179-4e5e-f5a4-2e3bff57bcdb"
      },
      "source": [
        "for day in days:\n",
        "  print(stats.wilcoxon(df4[day], df4_estimate[day]))"
      ],
      "execution_count": null,
      "outputs": [
        {
          "output_type": "stream",
          "name": "stdout",
          "text": [
            "WilcoxonResult(statistic=50.0, pvalue=0.35197884167136195)\n",
            "WilcoxonResult(statistic=45.0, pvalue=0.23432097173768163)\n",
            "WilcoxonResult(statistic=58.0, pvalue=0.6050949464540121)\n",
            "WilcoxonResult(statistic=48.0, pvalue=0.3010541816225988)\n",
            "WilcoxonResult(statistic=36.0, pvalue=0.09798930270791739)\n",
            "WilcoxonResult(statistic=52.0, pvalue=0.40804420568711997)\n"
          ]
        }
      ]
    }
  ]
}